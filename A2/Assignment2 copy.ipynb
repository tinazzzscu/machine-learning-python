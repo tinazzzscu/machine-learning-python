{
  "cells": [
    {
      "cell_type": "markdown",
      "metadata": {
        "id": "XQB2djaWe0hl"
      },
      "source": [
        "## Assignment 2 by Group 3"
      ]
    },
    {
      "cell_type": "code",
      "execution_count": null,
      "metadata": {
        "id": "UXIjmnOBe0hn"
      },
      "outputs": [],
      "source": [
        "import pandas as pd\n",
        "import numpy as np\n",
        "from sklearn.model_selection import train_test_split\n",
        "from sklearn.linear_model import LinearRegression\n",
        "from sklearn.preprocessing import PolynomialFeatures\n",
        "%matplotlib inline\n",
        "import matplotlib.pyplot as plt\n",
        "from sklearn.model_selection import GridSearchCV\n",
        "from sklearn.pipeline import make_pipeline\n",
        "from sklearn.preprocessing import StandardScaler"
      ]
    },
    {
      "cell_type": "markdown",
      "metadata": {
        "id": "I0e8EOXWe0ho"
      },
      "source": [
        "# Part 1"
      ]
    },
    {
      "cell_type": "markdown",
      "metadata": {
        "id": "WyrYge9Ee0ho"
      },
      "source": [
        "## 1. Add Extra Features"
      ]
    },
    {
      "cell_type": "markdown",
      "metadata": {
        "id": "vNgfxq2Ae0ho"
      },
      "source": [
        "### Add four new variables in the data set.\n",
        "####  • ‘bedrooms_squared’ = ‘bedrooms’*‘bedrooms’\n",
        "####  • ‘bed_bath_rooms’ = ‘bedrooms’*‘bathrooms’\n",
        "####  • ‘log_sqft_living’ = log(‘sqft_living’)\n",
        "####  • ‘lat_plus_long’ = ‘lat’ + ‘long’\n",
        "###  Before we continue let’s explain these new variables:\n",
        "####  • Squaring bedrooms will increase the separation between not many bedrooms (e.g., 1) and lots of bedrooms (e.g., 4) since 1^2 = 1 but 4^2 = 16. Consequently, this variable will mostly affect houses with many bedrooms.\n",
        "####  • Bedrooms times bathrooms is what's called an \"interaction\" variable. It is large when both are large.\n",
        "####  • Taking the log of square feet has the effect of bringing large values closer together and spreading out small values.\n",
        "#### • Adding latitude to longitude is non-sensical but we will do it anyway (you'll see why)\n",
        "### Question: What are the mean (arithmetic average) values of your 4 new variables? (round to 2 digits)"
      ]
    },
    {
      "cell_type": "code",
      "execution_count": null,
      "metadata": {
        "id": "5djMfou0e0hp",
        "outputId": "47639afa-88d2-48e8-df23-81be9d712377"
      },
      "outputs": [
        {
          "data": {
            "text/html": [
              "<div>\n",
              "<style scoped>\n",
              "    .dataframe tbody tr th:only-of-type {\n",
              "        vertical-align: middle;\n",
              "    }\n",
              "\n",
              "    .dataframe tbody tr th {\n",
              "        vertical-align: top;\n",
              "    }\n",
              "\n",
              "    .dataframe thead th {\n",
              "        text-align: right;\n",
              "    }\n",
              "</style>\n",
              "<table border=\"1\" class=\"dataframe\">\n",
              "  <thead>\n",
              "    <tr style=\"text-align: right;\">\n",
              "      <th></th>\n",
              "      <th>id</th>\n",
              "      <th>date</th>\n",
              "      <th>price</th>\n",
              "      <th>bedrooms</th>\n",
              "      <th>bathrooms</th>\n",
              "      <th>sqft_living</th>\n",
              "      <th>sqft_lot</th>\n",
              "      <th>floors</th>\n",
              "      <th>waterfront</th>\n",
              "      <th>view</th>\n",
              "      <th>...</th>\n",
              "      <th>grade</th>\n",
              "      <th>sqft_above</th>\n",
              "      <th>sqft_basement</th>\n",
              "      <th>yr_built</th>\n",
              "      <th>yr_renovated</th>\n",
              "      <th>zipcode</th>\n",
              "      <th>lat</th>\n",
              "      <th>long</th>\n",
              "      <th>sqft_living15</th>\n",
              "      <th>sqft_lot15</th>\n",
              "    </tr>\n",
              "  </thead>\n",
              "  <tbody>\n",
              "    <tr>\n",
              "      <th>0</th>\n",
              "      <td>7129300520</td>\n",
              "      <td>20141013T000000</td>\n",
              "      <td>221900</td>\n",
              "      <td>3</td>\n",
              "      <td>1.00</td>\n",
              "      <td>1180</td>\n",
              "      <td>5650</td>\n",
              "      <td>1.0</td>\n",
              "      <td>0</td>\n",
              "      <td>0</td>\n",
              "      <td>...</td>\n",
              "      <td>7</td>\n",
              "      <td>1180</td>\n",
              "      <td>0</td>\n",
              "      <td>1955</td>\n",
              "      <td>0</td>\n",
              "      <td>98178</td>\n",
              "      <td>47.5112</td>\n",
              "      <td>-122.257</td>\n",
              "      <td>1340</td>\n",
              "      <td>5650</td>\n",
              "    </tr>\n",
              "    <tr>\n",
              "      <th>1</th>\n",
              "      <td>6414100192</td>\n",
              "      <td>20141209T000000</td>\n",
              "      <td>538000</td>\n",
              "      <td>3</td>\n",
              "      <td>2.25</td>\n",
              "      <td>2570</td>\n",
              "      <td>7242</td>\n",
              "      <td>2.0</td>\n",
              "      <td>0</td>\n",
              "      <td>0</td>\n",
              "      <td>...</td>\n",
              "      <td>7</td>\n",
              "      <td>2170</td>\n",
              "      <td>400</td>\n",
              "      <td>1951</td>\n",
              "      <td>1991</td>\n",
              "      <td>98125</td>\n",
              "      <td>47.7210</td>\n",
              "      <td>-122.319</td>\n",
              "      <td>1690</td>\n",
              "      <td>7639</td>\n",
              "    </tr>\n",
              "    <tr>\n",
              "      <th>2</th>\n",
              "      <td>5631500400</td>\n",
              "      <td>20150225T000000</td>\n",
              "      <td>180000</td>\n",
              "      <td>2</td>\n",
              "      <td>1.00</td>\n",
              "      <td>770</td>\n",
              "      <td>10000</td>\n",
              "      <td>1.0</td>\n",
              "      <td>0</td>\n",
              "      <td>0</td>\n",
              "      <td>...</td>\n",
              "      <td>6</td>\n",
              "      <td>770</td>\n",
              "      <td>0</td>\n",
              "      <td>1933</td>\n",
              "      <td>0</td>\n",
              "      <td>98028</td>\n",
              "      <td>47.7379</td>\n",
              "      <td>-122.233</td>\n",
              "      <td>2720</td>\n",
              "      <td>8062</td>\n",
              "    </tr>\n",
              "    <tr>\n",
              "      <th>3</th>\n",
              "      <td>2487200875</td>\n",
              "      <td>20141209T000000</td>\n",
              "      <td>604000</td>\n",
              "      <td>4</td>\n",
              "      <td>3.00</td>\n",
              "      <td>1960</td>\n",
              "      <td>5000</td>\n",
              "      <td>1.0</td>\n",
              "      <td>0</td>\n",
              "      <td>0</td>\n",
              "      <td>...</td>\n",
              "      <td>7</td>\n",
              "      <td>1050</td>\n",
              "      <td>910</td>\n",
              "      <td>1965</td>\n",
              "      <td>0</td>\n",
              "      <td>98136</td>\n",
              "      <td>47.5208</td>\n",
              "      <td>-122.393</td>\n",
              "      <td>1360</td>\n",
              "      <td>5000</td>\n",
              "    </tr>\n",
              "    <tr>\n",
              "      <th>4</th>\n",
              "      <td>1954400510</td>\n",
              "      <td>20150218T000000</td>\n",
              "      <td>510000</td>\n",
              "      <td>3</td>\n",
              "      <td>2.00</td>\n",
              "      <td>1680</td>\n",
              "      <td>8080</td>\n",
              "      <td>1.0</td>\n",
              "      <td>0</td>\n",
              "      <td>0</td>\n",
              "      <td>...</td>\n",
              "      <td>8</td>\n",
              "      <td>1680</td>\n",
              "      <td>0</td>\n",
              "      <td>1987</td>\n",
              "      <td>0</td>\n",
              "      <td>98074</td>\n",
              "      <td>47.6168</td>\n",
              "      <td>-122.045</td>\n",
              "      <td>1800</td>\n",
              "      <td>7503</td>\n",
              "    </tr>\n",
              "  </tbody>\n",
              "</table>\n",
              "<p>5 rows × 21 columns</p>\n",
              "</div>"
            ],
            "text/plain": [
              "           id             date   price  bedrooms  bathrooms  sqft_living  \\\n",
              "0  7129300520  20141013T000000  221900         3       1.00         1180   \n",
              "1  6414100192  20141209T000000  538000         3       2.25         2570   \n",
              "2  5631500400  20150225T000000  180000         2       1.00          770   \n",
              "3  2487200875  20141209T000000  604000         4       3.00         1960   \n",
              "4  1954400510  20150218T000000  510000         3       2.00         1680   \n",
              "\n",
              "   sqft_lot  floors  waterfront  view  ...  grade  sqft_above  sqft_basement  \\\n",
              "0      5650     1.0           0     0  ...      7        1180              0   \n",
              "1      7242     2.0           0     0  ...      7        2170            400   \n",
              "2     10000     1.0           0     0  ...      6         770              0   \n",
              "3      5000     1.0           0     0  ...      7        1050            910   \n",
              "4      8080     1.0           0     0  ...      8        1680              0   \n",
              "\n",
              "   yr_built  yr_renovated  zipcode      lat     long  sqft_living15  \\\n",
              "0      1955             0    98178  47.5112 -122.257           1340   \n",
              "1      1951          1991    98125  47.7210 -122.319           1690   \n",
              "2      1933             0    98028  47.7379 -122.233           2720   \n",
              "3      1965             0    98136  47.5208 -122.393           1360   \n",
              "4      1987             0    98074  47.6168 -122.045           1800   \n",
              "\n",
              "   sqft_lot15  \n",
              "0        5650  \n",
              "1        7639  \n",
              "2        8062  \n",
              "3        5000  \n",
              "4        7503  \n",
              "\n",
              "[5 rows x 21 columns]"
            ]
          },
          "execution_count": 2,
          "metadata": {},
          "output_type": "execute_result"
        }
      ],
      "source": [
        "#read the csv file\n",
        "df = pd.read_csv(\"home_data.csv\")\n",
        "df.head()"
      ]
    },
    {
      "cell_type": "code",
      "execution_count": null,
      "metadata": {
        "id": "1mN62upve0hq"
      },
      "outputs": [],
      "source": [
        "df['bedrooms_squared'] = df['bedrooms'] * df['bedrooms']\n",
        "df['bed_bath_rooms'] = df['bedrooms'] * df['bathrooms']\n",
        "df['log_sqft_living'] = np.log(df['sqft_living'])\n",
        "df['lat_plus_long'] = df['lat'] + df['long']"
      ]
    },
    {
      "cell_type": "code",
      "execution_count": null,
      "metadata": {
        "id": "JBmLMF-we0hq",
        "outputId": "19a88890-9c3f-4315-fa7d-69dbec75c95d"
      },
      "outputs": [
        {
          "name": "stdout",
          "output_type": "stream",
          "text": [
            "               id  bedrooms  bathrooms  bedrooms_squared  bed_bath_rooms  \\\n",
            "0      7129300520         3       1.00                 9            3.00   \n",
            "1      6414100192         3       2.25                 9            6.75   \n",
            "2      5631500400         2       1.00                 4            2.00   \n",
            "3      2487200875         4       3.00                16           12.00   \n",
            "4      1954400510         3       2.00                 9            6.00   \n",
            "...           ...       ...        ...               ...             ...   \n",
            "21608   263000018         3       2.50                 9            7.50   \n",
            "21609  6600060120         4       2.50                16           10.00   \n",
            "21610  1523300141         2       0.75                 4            1.50   \n",
            "21611   291310100         3       2.50                 9            7.50   \n",
            "21612  1523300157         2       0.75                 4            1.50   \n",
            "\n",
            "       sqft_living  log_sqft_living      lat     long  lat_plus_long  \n",
            "0             1180         7.073270  47.5112 -122.257       -74.7458  \n",
            "1             2570         7.851661  47.7210 -122.319       -74.5980  \n",
            "2              770         6.646391  47.7379 -122.233       -74.4951  \n",
            "3             1960         7.580700  47.5208 -122.393       -74.8722  \n",
            "4             1680         7.426549  47.6168 -122.045       -74.4282  \n",
            "...            ...              ...      ...      ...            ...  \n",
            "21608         1530         7.333023  47.6993 -122.346       -74.6467  \n",
            "21609         2310         7.745003  47.5107 -122.362       -74.8513  \n",
            "21610         1020         6.927558  47.5944 -122.299       -74.7046  \n",
            "21611         1600         7.377759  47.5345 -122.069       -74.5345  \n",
            "21612         1020         6.927558  47.5941 -122.299       -74.7049  \n",
            "\n",
            "[21613 rows x 10 columns]\n"
          ]
        }
      ],
      "source": [
        "print(df[['id', 'bedrooms', 'bathrooms', 'bedrooms_squared', 'bed_bath_rooms', 'sqft_living', 'log_sqft_living', 'lat', 'long', 'lat_plus_long']])"
      ]
    },
    {
      "cell_type": "code",
      "execution_count": null,
      "metadata": {
        "id": "cK-7G6Gne0hq",
        "outputId": "d9278b33-f4e4-45a2-e20c-2136db058891"
      },
      "outputs": [
        {
          "name": "stdout",
          "output_type": "stream",
          "text": [
            "The mean value of bedroom_squared is 12.23\n",
            "The mean value of bed_bath_squared is 7.50\n",
            "The mean value of log_sqft_living is 7.55\n",
            "The mean value of lat_plus_long is -74.65\n"
          ]
        }
      ],
      "source": [
        "print(f\"The mean value of bedroom_squared is {df['bedrooms_squared'].mean():.2f}\")\n",
        "print(f\"The mean value of bed_bath_squared is {df['bed_bath_rooms'].mean():.2f}\")\n",
        "print(f\"The mean value of log_sqft_living is {df['log_sqft_living'].mean():.2f}\")\n",
        "print(f\"The mean value of lat_plus_long is {df['lat_plus_long'].mean():.2f}\")"
      ]
    },
    {
      "cell_type": "markdown",
      "metadata": {
        "id": "G9mCIxYSe0hr"
      },
      "source": [
        "## 2. Train-Test-Split"
      ]
    },
    {
      "cell_type": "markdown",
      "metadata": {
        "id": "dcQxrPbre0hr"
      },
      "source": [
        "### Split the data into training set (80%) and test set (20%) with random state = 0."
      ]
    },
    {
      "cell_type": "code",
      "execution_count": null,
      "metadata": {
        "id": "gVZ9dm58e0hr"
      },
      "outputs": [],
      "source": [
        "train_data, test_data = train_test_split(df, test_size = 0.2, random_state = 0)"
      ]
    },
    {
      "cell_type": "markdown",
      "metadata": {
        "id": "4GDb4saKe0hr"
      },
      "source": [
        "## 3. Estimate the Regression Coefficients/wWights for Predicting ‘price’ for then Following Three Models."
      ]
    },
    {
      "cell_type": "markdown",
      "metadata": {
        "id": "e9qWL1t-e0hr"
      },
      "source": [
        "### • Model 1: ‘sqft_living’, ‘bedrooms’, ‘bathrooms’, ‘lat’, and ‘long’\n"
      ]
    },
    {
      "cell_type": "code",
      "execution_count": null,
      "metadata": {
        "id": "tTzARrZae0hs"
      },
      "outputs": [],
      "source": [
        "X1 = df[['sqft_living', 'bedrooms', 'bathrooms', 'lat', 'long']]\n",
        "y1 = df['price']"
      ]
    },
    {
      "cell_type": "code",
      "execution_count": null,
      "metadata": {
        "id": "KM2Si_WHe0hs"
      },
      "outputs": [],
      "source": [
        "# poly = PolynomialFeatures(degree=1, include_bias=False)\n",
        "# X1_poly = poly.fit_transform(X1)"
      ]
    },
    {
      "cell_type": "code",
      "execution_count": null,
      "metadata": {
        "id": "kKV1Ld5ee0hs"
      },
      "outputs": [],
      "source": [
        "linreg1 = LinearRegression().fit(X1, y1)"
      ]
    },
    {
      "cell_type": "code",
      "execution_count": null,
      "metadata": {
        "id": "2Vmh60JKe0hs",
        "outputId": "bbbded82-39cd-4777-ef45-3a1275ddd321"
      },
      "outputs": [
        {
          "name": "stdout",
          "output_type": "stream",
          "text": [
            "[ 3.07689643e+02 -5.36173613e+04  1.66560508e+04  6.57759894e+05\n",
            " -3.12438243e+05]\n",
            "R-squared score: 0.590\n"
          ]
        }
      ],
      "source": [
        "coef1 = format(linreg1.coef_)\n",
        "print(coef1)\n",
        "print('R-squared score: {:.3f}'.format(linreg1.score(X1, y1)))"
      ]
    },
    {
      "cell_type": "markdown",
      "metadata": {
        "id": "3aXaot_Ge0hs"
      },
      "source": [
        "### • Model 2: ‘sqft_living’, ‘bedrooms’, ‘bathrooms’, ‘lat’,‘long’, and ‘bed_bath_rooms’\n"
      ]
    },
    {
      "cell_type": "code",
      "execution_count": null,
      "metadata": {
        "id": "l4cq5s1ce0hs"
      },
      "outputs": [],
      "source": [
        "X2 = df[['sqft_living', 'bedrooms', 'bathrooms', 'lat', 'long', 'bed_bath_rooms']]\n",
        "y2 = df['price']"
      ]
    },
    {
      "cell_type": "code",
      "execution_count": null,
      "metadata": {
        "id": "PGXsvNz7e0hs"
      },
      "outputs": [],
      "source": [
        "#X2_poly = poly.fit_transform(X2)\n",
        "linreg2 = LinearRegression().fit(X2, y2)"
      ]
    },
    {
      "cell_type": "code",
      "execution_count": null,
      "metadata": {
        "id": "-1ePa2Que0ht",
        "outputId": "12b52427-06e7-4d13-a18f-7db004dad223"
      },
      "outputs": [
        {
          "name": "stdout",
          "output_type": "stream",
          "text": [
            "[ 3.01742310e+02 -1.06944017e+05 -7.12197218e+04  6.54185069e+05\n",
            " -2.97173617e+05  2.57539778e+04]\n",
            "R-squared score: 0.595\n"
          ]
        }
      ],
      "source": [
        "coef2 = format(linreg2.coef_)\n",
        "print(coef2)\n",
        "print('R-squared score: {:.3f}'.format(linreg2.score(X2, y2)))"
      ]
    },
    {
      "cell_type": "markdown",
      "metadata": {
        "id": "NLH5AQwke0ht"
      },
      "source": [
        "### • Model 3: ‘sqft_living’, ‘bedrooms’, ‘bathrooms’, ‘lat’,‘long’, ‘bed_bath_rooms’, ‘bedrooms_squared’, ‘log_sqft_living’, and ‘lat_plus_long’\n",
        "You’ll note that the three models here are “nested” in that all of the features of the Model 1 are in Model 2 and\n",
        "all of the features of Model 2 are in Model 3."
      ]
    },
    {
      "cell_type": "code",
      "execution_count": null,
      "metadata": {
        "id": "oQDk4Ia3e0ht"
      },
      "outputs": [],
      "source": [
        "X3 = df[['sqft_living', 'bedrooms', 'bathrooms', 'lat', 'long', 'bed_bath_rooms', 'bedrooms_squared', 'log_sqft_living', 'lat_plus_long']]\n",
        "y3 = df['price']"
      ]
    },
    {
      "cell_type": "code",
      "execution_count": null,
      "metadata": {
        "id": "H-gj7rFse0ht"
      },
      "outputs": [],
      "source": [
        "# X3_poly = poly.fit_transform(X3)\n",
        "linreg3 = LinearRegression().fit(X3, y3)"
      ]
    },
    {
      "cell_type": "code",
      "execution_count": null,
      "metadata": {
        "id": "JmkDUHaHe0ht",
        "outputId": "383d8233-ce08-4cc8-f1c3-0da09b3d94a7"
      },
      "outputs": [
        {
          "name": "stdout",
          "output_type": "stream",
          "text": [
            "[ 5.22172099e+02 -5.91052785e+03  9.03707995e+04  5.29927268e+05\n",
            " -4.04640298e+05 -1.48849188e+04  7.61373805e+02 -5.43835153e+05\n",
            "  1.25286970e+05]\n",
            "R-squared score: 0.616\n"
          ]
        }
      ],
      "source": [
        "coef3 = format(linreg3.coef_)\n",
        "print(coef3)\n",
        "print('R-squared score: {:.3f}'.format(linreg3.score(X3, y3)))"
      ]
    },
    {
      "cell_type": "markdown",
      "metadata": {
        "id": "ht3eYWzDe0ht"
      },
      "source": [
        "### Questions:"
      ]
    },
    {
      "cell_type": "markdown",
      "metadata": {
        "id": "NKip30NBe0hu"
      },
      "source": [
        "#### What is the sign (positive or negative) for the coefficient/weight for ‘bathrooms’ in Model 1?\n"
      ]
    },
    {
      "cell_type": "markdown",
      "metadata": {
        "id": "o6G6axVme0hu"
      },
      "source": [
        "The sign of \"bathrooms\" in Model 1 is positive."
      ]
    },
    {
      "cell_type": "markdown",
      "metadata": {
        "id": "o9p-xBjTe0hu"
      },
      "source": [
        "#### What is the sign (positive or negative) for the coefficient/weight for ‘bathrooms’ in Model 2?\n"
      ]
    },
    {
      "cell_type": "markdown",
      "metadata": {
        "id": "fgTXBcjhe0hu"
      },
      "source": [
        "The sign of \"bathrooms\" in Model 2 is negative."
      ]
    },
    {
      "cell_type": "markdown",
      "metadata": {
        "id": "ZwrMbqzle0hu"
      },
      "source": [
        "#### Is the sign for the coefficient the same in both models? Think about why this might be the case."
      ]
    },
    {
      "cell_type": "markdown",
      "metadata": {
        "id": "lY9Q9nece0hu"
      },
      "source": [
        "No, it's not the same. Because"
      ]
    },
    {
      "cell_type": "markdown",
      "metadata": {
        "id": "vgTwfDwpe0hu"
      },
      "source": [
        "## 4. Now using your three estimated models compute the RSS (Residual Sum of Squares) on the Training data. Which model (1, 2 or 3) had the lowest RSS on TRAINING data?"
      ]
    },
    {
      "cell_type": "markdown",
      "metadata": {
        "id": "9aRXZ9CLe0hv"
      },
      "source": [
        "### Model 1"
      ]
    },
    {
      "cell_type": "code",
      "execution_count": null,
      "metadata": {
        "id": "F_JmsliBe0hv"
      },
      "outputs": [],
      "source": [
        "X1_train, X1_test, y1_train, y1_test = train_test_split(X1, y1, test_size = 0.2, random_state = 0)"
      ]
    },
    {
      "cell_type": "code",
      "execution_count": null,
      "metadata": {
        "id": "gitWclqme0hv"
      },
      "outputs": [],
      "source": [
        "y1_train_pred = linreg1.predict(X1_train)"
      ]
    },
    {
      "cell_type": "code",
      "execution_count": null,
      "metadata": {
        "id": "ZMVb92Cye0hv",
        "outputId": "3f02e773-c8c2-46a9-a1f0-a54d6b98aecf"
      },
      "outputs": [
        {
          "name": "stdout",
          "output_type": "stream",
          "text": [
            "RSS for Model 1's training set is 980188132464078.6\n"
          ]
        }
      ],
      "source": [
        "residual1 = y1_train - y1_train_pred\n",
        "rss1 = (residual1 ** 2).sum()\n",
        "print(\"RSS for Model 1's training set is\", rss1)"
      ]
    },
    {
      "cell_type": "markdown",
      "metadata": {
        "id": "HXYq4aO0e0h0"
      },
      "source": [
        "### Model 2"
      ]
    },
    {
      "cell_type": "code",
      "execution_count": null,
      "metadata": {
        "id": "grJAJf7ne0h0"
      },
      "outputs": [],
      "source": [
        "X2_train, X2_test, y2_train, y2_test = train_test_split(X2, y2, test_size = 0.2, random_state = 0)"
      ]
    },
    {
      "cell_type": "code",
      "execution_count": null,
      "metadata": {
        "id": "fkJbK2oLe0h0"
      },
      "outputs": [],
      "source": [
        "y2_train_pred = linreg2.predict(X2_train)"
      ]
    },
    {
      "cell_type": "code",
      "execution_count": null,
      "metadata": {
        "id": "lhjOY5yUe0h0",
        "outputId": "73b66288-4260-4b8f-dca0-54075dc40fad"
      },
      "outputs": [
        {
          "name": "stdout",
          "output_type": "stream",
          "text": [
            "RSS for Model 2's training set is 971118392722942.8\n"
          ]
        }
      ],
      "source": [
        "residual2 = y2_train - y2_train_pred\n",
        "rss2 = (residual2 ** 2).sum()\n",
        "print(\"RSS for Model 2's training set is\", rss2)"
      ]
    },
    {
      "cell_type": "markdown",
      "metadata": {
        "id": "6pUgsaBJe0h0"
      },
      "source": [
        "### Model 2"
      ]
    },
    {
      "cell_type": "code",
      "execution_count": null,
      "metadata": {
        "id": "fG8r3JvEe0h0"
      },
      "outputs": [],
      "source": [
        "X3_train, X3_test, y3_train, y3_test = train_test_split(X3, y3, test_size = 0.2, random_state = 0)"
      ]
    },
    {
      "cell_type": "code",
      "execution_count": null,
      "metadata": {
        "id": "_ut8OIhFe0h1"
      },
      "outputs": [],
      "source": [
        "y3_train_pred = linreg3.predict(X3_train)"
      ]
    },
    {
      "cell_type": "code",
      "execution_count": null,
      "metadata": {
        "id": "HhKFR1JAe0h1",
        "outputId": "992e2774-31ef-4f67-f7ca-3cfa625d3d03"
      },
      "outputs": [
        {
          "name": "stdout",
          "output_type": "stream",
          "text": [
            "RSS for Model 3's training set is 914042648397426.5\n"
          ]
        }
      ],
      "source": [
        "residual3 = y3_train - y3_train_pred\n",
        "rss3 = (residual3 ** 2).sum()\n",
        "print(\"RSS for Model 3's training set is\", rss3)"
      ]
    },
    {
      "cell_type": "markdown",
      "metadata": {
        "id": "dK4UziVVe0h1"
      },
      "source": [
        "The Model 3 has the lowest rss."
      ]
    },
    {
      "cell_type": "markdown",
      "metadata": {
        "id": "zp7JhklRe0h1"
      },
      "source": [
        "## 5. Now using your three estimated models compute the RSS on the Testing data. Which model (1, 2, or 3) had the lowest RSS on TESTING data?"
      ]
    },
    {
      "cell_type": "markdown",
      "metadata": {
        "id": "SphBZJb9e0h1"
      },
      "source": [
        "### Model 1"
      ]
    },
    {
      "cell_type": "code",
      "execution_count": null,
      "metadata": {
        "id": "YSwdbj8we0h1"
      },
      "outputs": [],
      "source": [
        "y1_test_pred = linreg1.predict(X1_test)"
      ]
    },
    {
      "cell_type": "code",
      "execution_count": null,
      "metadata": {
        "id": "kj3xLtGEe0h2",
        "outputId": "2075e2c1-6e79-471c-9c81-3c5bd1673521"
      },
      "outputs": [
        {
          "name": "stdout",
          "output_type": "stream",
          "text": [
            "RSS for Model 1's training set is 212715972866676.94\n"
          ]
        }
      ],
      "source": [
        "residual_test1 = y1_test - y1_test_pred\n",
        "rss_test1 = (residual_test1 ** 2).sum()\n",
        "print(\"RSS for Model 1's training set is\", rss_test1)"
      ]
    },
    {
      "cell_type": "markdown",
      "metadata": {
        "id": "ecnla2fwe0h2"
      },
      "source": [
        "### Model 2"
      ]
    },
    {
      "cell_type": "code",
      "execution_count": null,
      "metadata": {
        "id": "DuKaSEr4e0h2"
      },
      "outputs": [],
      "source": [
        "y2_test_pred = linreg2.predict(X2_test)"
      ]
    },
    {
      "cell_type": "code",
      "execution_count": null,
      "metadata": {
        "id": "pGWnGzW7e0h2",
        "outputId": "c0846cf2-f6d2-49cf-8aae-d4edbd98d18d"
      },
      "outputs": [
        {
          "name": "stdout",
          "output_type": "stream",
          "text": [
            "RSS for Model 2's training set is 210063229881727.53\n"
          ]
        }
      ],
      "source": [
        "residual_test2 = y2_test - y2_test_pred\n",
        "rss_test2 = (residual_test2 ** 2).sum()\n",
        "print(\"RSS for Model 2's training set is\", rss_test2)"
      ]
    },
    {
      "cell_type": "markdown",
      "metadata": {
        "id": "C2TYmsdte0h3"
      },
      "source": [
        "### Model 3"
      ]
    },
    {
      "cell_type": "code",
      "execution_count": null,
      "metadata": {
        "id": "BEu-yRVWe0h3"
      },
      "outputs": [],
      "source": [
        "y3_test_pred = linreg3.predict(X3_test)"
      ]
    },
    {
      "cell_type": "code",
      "execution_count": null,
      "metadata": {
        "id": "-vnzUz1ze0h3",
        "outputId": "15497a22-b2d2-4c2d-dd55-fd703e389b9d"
      },
      "outputs": [
        {
          "name": "stdout",
          "output_type": "stream",
          "text": [
            "RSS for Model 3's training set is 203101422503797.3\n"
          ]
        }
      ],
      "source": [
        "residual_test3 = y3_test - y3_test_pred\n",
        "rss_test3 = (residual_test3 ** 2).sum()\n",
        "print(\"RSS for Model 3's training set is\", rss_test3)"
      ]
    },
    {
      "cell_type": "markdown",
      "metadata": {
        "id": "Ck4M6S7We0h3"
      },
      "source": [
        "The Model 3 has the lowest rss."
      ]
    },
    {
      "cell_type": "markdown",
      "metadata": {
        "id": "Gt1AMf_he0h3"
      },
      "source": [
        "## 6. Train-Validate-Test\n",
        "#### • Split the original data into train-validate set (90%) and test set (10%) using random state = 0.\n",
        "#### • Use GridSearchCV and 5-fold cross validation to compare the performance of the following polynomial regression models on the train-validation set.\n",
        "#### • Build the following polynomial regression models to predict house prices using just ‘sqft_living’\n",
        "#### • Polynomial degree in [1, 2, 3, 4, 5, 6, 7, 8, 9, 10, 11, 12, 13, 14, 15]\n",
        "### Question: Which model is the best? Report best model’s performance on the test set."
      ]
    },
    {
      "cell_type": "code",
      "execution_count": null,
      "metadata": {
        "id": "c0CQaqrTe0h3"
      },
      "outputs": [],
      "source": [
        "pipe = make_pipeline(PolynomialFeatures(), LinearRegression())\n",
        "poly = PolynomialFeatures(degree = 3, include_bias=False)\n",
        "X_poly = poly.fit_transform(df[['sqft_living']])\n",
        "y = df['price']"
      ]
    },
    {
      "cell_type": "code",
      "execution_count": null,
      "metadata": {
        "id": "FdKtReGNe0h4"
      },
      "outputs": [],
      "source": [
        "linreg4 = LinearRegression().fit(X_poly, y)"
      ]
    },
    {
      "cell_type": "code",
      "execution_count": null,
      "metadata": {
        "id": "5H_VKaTYe0h4",
        "outputId": "a55dc2a4-9cc2-45a1-c6c0-9876ec733a15"
      },
      "outputs": [
        {
          "name": "stdout",
          "output_type": "stream",
          "text": [
            "[-9.01819737e+01  8.70465054e-02 -3.84055243e-06]\n",
            "R-squared score: 0.539\n"
          ]
        }
      ],
      "source": [
        "coef4 = format(linreg4.coef_)\n",
        "print(coef4)\n",
        "print('R-squared score: {:.3f}'.format(linreg4.score(X_poly, y)))"
      ]
    },
    {
      "cell_type": "code",
      "execution_count": null,
      "metadata": {
        "id": "hb1Scx98e0h4"
      },
      "outputs": [],
      "source": [
        "X_trainval_data, X_test_data, y_trainval_data, y_test_data = train_test_split(X_poly, y, test_size = 0.1, random_state = 0)"
      ]
    },
    {
      "cell_type": "code",
      "execution_count": null,
      "metadata": {
        "id": "WrAl2FMge0h4"
      },
      "outputs": [],
      "source": [
        "pipe = make_pipeline(PolynomialFeatures(), StandardScaler(), LinearRegression())\n",
        "param_grid = {'polynomialfeatures__degree': range(1,16)}\n",
        "grid = GridSearchCV(pipe, param_grid, cv = 5, n_jobs = -1, return_train_score = True)"
      ]
    },
    {
      "cell_type": "code",
      "execution_count": null,
      "metadata": {
        "id": "F5E9eXSCe0h4",
        "outputId": "1a77cf33-2a97-417f-dd2d-7bb65412b011"
      },
      "outputs": [
        {
          "name": "stderr",
          "output_type": "stream",
          "text": [
            "/Users/xinyu/opt/anaconda3/lib/python3.7/site-packages/joblib/externals/loky/process_executor.py:706: UserWarning: A worker stopped while some jobs were given to the executor. This can be caused by a too short worker timeout or by a memory leak.\n",
            "  \"timeout or by a memory leak.\", UserWarning\n"
          ]
        },
        {
          "data": {
            "text/plain": [
              "GridSearchCV(cv=5, error_score=nan,\n",
              "             estimator=Pipeline(memory=None,\n",
              "                                steps=[('polynomialfeatures',\n",
              "                                        PolynomialFeatures(degree=2,\n",
              "                                                           include_bias=True,\n",
              "                                                           interaction_only=False,\n",
              "                                                           order='C')),\n",
              "                                       ('standardscaler',\n",
              "                                        StandardScaler(copy=True,\n",
              "                                                       with_mean=True,\n",
              "                                                       with_std=True)),\n",
              "                                       ('linearregression',\n",
              "                                        LinearRegression(copy_X=True,\n",
              "                                                         fit_intercept=True,\n",
              "                                                         n_jobs=None,\n",
              "                                                         normalize=False))],\n",
              "                                verbose=False),\n",
              "             iid='deprecated', n_jobs=-1,\n",
              "             param_grid={'polynomialfeatures__degree': range(1, 16)},\n",
              "             pre_dispatch='2*n_jobs', refit=True, return_train_score=True,\n",
              "             scoring=None, verbose=0)"
            ]
          },
          "execution_count": 37,
          "metadata": {},
          "output_type": "execute_result"
        }
      ],
      "source": [
        "grid.fit(X_trainval_data, y_trainval_data)"
      ]
    },
    {
      "cell_type": "code",
      "execution_count": null,
      "metadata": {
        "id": "Zjtdj2BCe0h4",
        "outputId": "161eae45-7858-489e-dce6-983ed32fc78e"
      },
      "outputs": [
        {
          "name": "stdout",
          "output_type": "stream",
          "text": [
            "best parameters: {'polynomialfeatures__degree': 1}\n",
            "test-set score: 0.514\n"
          ]
        }
      ],
      "source": [
        "grid.fit(X_test_data, y_test_data)\n",
        "print(f\"best parameters: {grid.best_params_}\")\n",
        "print(f\"test-set score: {grid.score(X_test_data, y_test_data):.3f}\")"
      ]
    },
    {
      "cell_type": "markdown",
      "metadata": {
        "id": "-iYnByTve0h5"
      },
      "source": [
        "# Part 2"
      ]
    },
    {
      "cell_type": "markdown",
      "metadata": {
        "id": "U3Bet5IVe0h5"
      },
      "source": [
        "## 1. Load the breast cancer dataset. Import the functions `load_breast_cancer` from `sklearn.datasets`."
      ]
    },
    {
      "cell_type": "code",
      "execution_count": null,
      "metadata": {
        "id": "t5hra7MCe0h5"
      },
      "outputs": [],
      "source": [
        "from sklearn.datasets import load_breast_cancer\n",
        "from sklearn.neighbors import KNeighborsClassifier\n",
        "from sklearn.metrics import accuracy_score"
      ]
    },
    {
      "cell_type": "code",
      "execution_count": null,
      "metadata": {
        "id": "C_RrILWue0h5",
        "outputId": "48f74eac-7415-4478-bf35-40b82829fd5f"
      },
      "outputs": [
        {
          "data": {
            "text/html": [
              "<div>\n",
              "<style scoped>\n",
              "    .dataframe tbody tr th:only-of-type {\n",
              "        vertical-align: middle;\n",
              "    }\n",
              "\n",
              "    .dataframe tbody tr th {\n",
              "        vertical-align: top;\n",
              "    }\n",
              "\n",
              "    .dataframe thead th {\n",
              "        text-align: right;\n",
              "    }\n",
              "</style>\n",
              "<table border=\"1\" class=\"dataframe\">\n",
              "  <thead>\n",
              "    <tr style=\"text-align: right;\">\n",
              "      <th></th>\n",
              "      <th>mean radius</th>\n",
              "      <th>mean texture</th>\n",
              "      <th>mean perimeter</th>\n",
              "      <th>mean area</th>\n",
              "      <th>mean smoothness</th>\n",
              "      <th>mean compactness</th>\n",
              "      <th>mean concavity</th>\n",
              "      <th>mean concave points</th>\n",
              "      <th>mean symmetry</th>\n",
              "      <th>mean fractal dimension</th>\n",
              "      <th>...</th>\n",
              "      <th>worst texture</th>\n",
              "      <th>worst perimeter</th>\n",
              "      <th>worst area</th>\n",
              "      <th>worst smoothness</th>\n",
              "      <th>worst compactness</th>\n",
              "      <th>worst concavity</th>\n",
              "      <th>worst concave points</th>\n",
              "      <th>worst symmetry</th>\n",
              "      <th>worst fractal dimension</th>\n",
              "      <th>target</th>\n",
              "    </tr>\n",
              "  </thead>\n",
              "  <tbody>\n",
              "    <tr>\n",
              "      <th>0</th>\n",
              "      <td>17.99</td>\n",
              "      <td>10.38</td>\n",
              "      <td>122.80</td>\n",
              "      <td>1001.0</td>\n",
              "      <td>0.11840</td>\n",
              "      <td>0.27760</td>\n",
              "      <td>0.3001</td>\n",
              "      <td>0.14710</td>\n",
              "      <td>0.2419</td>\n",
              "      <td>0.07871</td>\n",
              "      <td>...</td>\n",
              "      <td>17.33</td>\n",
              "      <td>184.60</td>\n",
              "      <td>2019.0</td>\n",
              "      <td>0.1622</td>\n",
              "      <td>0.6656</td>\n",
              "      <td>0.7119</td>\n",
              "      <td>0.2654</td>\n",
              "      <td>0.4601</td>\n",
              "      <td>0.11890</td>\n",
              "      <td>0</td>\n",
              "    </tr>\n",
              "    <tr>\n",
              "      <th>1</th>\n",
              "      <td>20.57</td>\n",
              "      <td>17.77</td>\n",
              "      <td>132.90</td>\n",
              "      <td>1326.0</td>\n",
              "      <td>0.08474</td>\n",
              "      <td>0.07864</td>\n",
              "      <td>0.0869</td>\n",
              "      <td>0.07017</td>\n",
              "      <td>0.1812</td>\n",
              "      <td>0.05667</td>\n",
              "      <td>...</td>\n",
              "      <td>23.41</td>\n",
              "      <td>158.80</td>\n",
              "      <td>1956.0</td>\n",
              "      <td>0.1238</td>\n",
              "      <td>0.1866</td>\n",
              "      <td>0.2416</td>\n",
              "      <td>0.1860</td>\n",
              "      <td>0.2750</td>\n",
              "      <td>0.08902</td>\n",
              "      <td>0</td>\n",
              "    </tr>\n",
              "    <tr>\n",
              "      <th>2</th>\n",
              "      <td>19.69</td>\n",
              "      <td>21.25</td>\n",
              "      <td>130.00</td>\n",
              "      <td>1203.0</td>\n",
              "      <td>0.10960</td>\n",
              "      <td>0.15990</td>\n",
              "      <td>0.1974</td>\n",
              "      <td>0.12790</td>\n",
              "      <td>0.2069</td>\n",
              "      <td>0.05999</td>\n",
              "      <td>...</td>\n",
              "      <td>25.53</td>\n",
              "      <td>152.50</td>\n",
              "      <td>1709.0</td>\n",
              "      <td>0.1444</td>\n",
              "      <td>0.4245</td>\n",
              "      <td>0.4504</td>\n",
              "      <td>0.2430</td>\n",
              "      <td>0.3613</td>\n",
              "      <td>0.08758</td>\n",
              "      <td>0</td>\n",
              "    </tr>\n",
              "    <tr>\n",
              "      <th>3</th>\n",
              "      <td>11.42</td>\n",
              "      <td>20.38</td>\n",
              "      <td>77.58</td>\n",
              "      <td>386.1</td>\n",
              "      <td>0.14250</td>\n",
              "      <td>0.28390</td>\n",
              "      <td>0.2414</td>\n",
              "      <td>0.10520</td>\n",
              "      <td>0.2597</td>\n",
              "      <td>0.09744</td>\n",
              "      <td>...</td>\n",
              "      <td>26.50</td>\n",
              "      <td>98.87</td>\n",
              "      <td>567.7</td>\n",
              "      <td>0.2098</td>\n",
              "      <td>0.8663</td>\n",
              "      <td>0.6869</td>\n",
              "      <td>0.2575</td>\n",
              "      <td>0.6638</td>\n",
              "      <td>0.17300</td>\n",
              "      <td>0</td>\n",
              "    </tr>\n",
              "    <tr>\n",
              "      <th>4</th>\n",
              "      <td>20.29</td>\n",
              "      <td>14.34</td>\n",
              "      <td>135.10</td>\n",
              "      <td>1297.0</td>\n",
              "      <td>0.10030</td>\n",
              "      <td>0.13280</td>\n",
              "      <td>0.1980</td>\n",
              "      <td>0.10430</td>\n",
              "      <td>0.1809</td>\n",
              "      <td>0.05883</td>\n",
              "      <td>...</td>\n",
              "      <td>16.67</td>\n",
              "      <td>152.20</td>\n",
              "      <td>1575.0</td>\n",
              "      <td>0.1374</td>\n",
              "      <td>0.2050</td>\n",
              "      <td>0.4000</td>\n",
              "      <td>0.1625</td>\n",
              "      <td>0.2364</td>\n",
              "      <td>0.07678</td>\n",
              "      <td>0</td>\n",
              "    </tr>\n",
              "  </tbody>\n",
              "</table>\n",
              "<p>5 rows × 31 columns</p>\n",
              "</div>"
            ],
            "text/plain": [
              "   mean radius  mean texture  mean perimeter  mean area  mean smoothness  \\\n",
              "0        17.99         10.38          122.80     1001.0          0.11840   \n",
              "1        20.57         17.77          132.90     1326.0          0.08474   \n",
              "2        19.69         21.25          130.00     1203.0          0.10960   \n",
              "3        11.42         20.38           77.58      386.1          0.14250   \n",
              "4        20.29         14.34          135.10     1297.0          0.10030   \n",
              "\n",
              "   mean compactness  mean concavity  mean concave points  mean symmetry  \\\n",
              "0           0.27760          0.3001              0.14710         0.2419   \n",
              "1           0.07864          0.0869              0.07017         0.1812   \n",
              "2           0.15990          0.1974              0.12790         0.2069   \n",
              "3           0.28390          0.2414              0.10520         0.2597   \n",
              "4           0.13280          0.1980              0.10430         0.1809   \n",
              "\n",
              "   mean fractal dimension  ...  worst texture  worst perimeter  worst area  \\\n",
              "0                 0.07871  ...          17.33           184.60      2019.0   \n",
              "1                 0.05667  ...          23.41           158.80      1956.0   \n",
              "2                 0.05999  ...          25.53           152.50      1709.0   \n",
              "3                 0.09744  ...          26.50            98.87       567.7   \n",
              "4                 0.05883  ...          16.67           152.20      1575.0   \n",
              "\n",
              "   worst smoothness  worst compactness  worst concavity  worst concave points  \\\n",
              "0            0.1622             0.6656           0.7119                0.2654   \n",
              "1            0.1238             0.1866           0.2416                0.1860   \n",
              "2            0.1444             0.4245           0.4504                0.2430   \n",
              "3            0.2098             0.8663           0.6869                0.2575   \n",
              "4            0.1374             0.2050           0.4000                0.1625   \n",
              "\n",
              "   worst symmetry  worst fractal dimension  target  \n",
              "0          0.4601                  0.11890       0  \n",
              "1          0.2750                  0.08902       0  \n",
              "2          0.3613                  0.08758       0  \n",
              "3          0.6638                  0.17300       0  \n",
              "4          0.2364                  0.07678       0  \n",
              "\n",
              "[5 rows x 31 columns]"
            ]
          },
          "execution_count": 42,
          "metadata": {},
          "output_type": "execute_result"
        }
      ],
      "source": [
        "breastcancer_data = load_breast_cancer()\n",
        "df_breast = pd.DataFrame(breastcancer_data.data, columns = breastcancer_data.feature_names)\n",
        "df_breast['target'] = breastcancer_data['target']\n",
        "df_breast.head()"
      ]
    },
    {
      "cell_type": "markdown",
      "metadata": {
        "id": "gm_7NPBWe0h5"
      },
      "source": [
        "## 2. Split the data into train-validate set (90%) and test set (10%) using random_state = 0."
      ]
    },
    {
      "cell_type": "code",
      "execution_count": null,
      "metadata": {
        "id": "pHIpEIbhe0h5"
      },
      "outputs": [],
      "source": [
        "X_trainval_data2, X_testval_data2, y_trainval_data2, y_testval_data2= train_test_split(breastcancer_data['data'], breastcancer_data['target'], test_size = 0.1, random_state = 0)"
      ]
    },
    {
      "cell_type": "code",
      "execution_count": null,
      "metadata": {
        "id": "uusI_IJce0h5",
        "outputId": "ad5adbfd-8719-4546-c319-3959f1f5f56f"
      },
      "outputs": [
        {
          "data": {
            "text/plain": [
              "array([[1.227e+01, 2.997e+01, 7.742e+01, ..., 0.000e+00, 2.409e-01,\n",
              "        6.743e-02],\n",
              "       [1.218e+01, 2.052e+01, 7.722e+01, ..., 7.431e-02, 2.694e-01,\n",
              "        6.878e-02],\n",
              "       [2.175e+01, 2.099e+01, 1.473e+02, ..., 1.841e-01, 2.833e-01,\n",
              "        8.858e-02],\n",
              "       ...,\n",
              "       [9.436e+00, 1.832e+01, 5.982e+01, ..., 5.052e-02, 2.454e-01,\n",
              "        8.136e-02],\n",
              "       [9.720e+00, 1.822e+01, 6.073e+01, ..., 0.000e+00, 1.909e-01,\n",
              "        6.559e-02],\n",
              "       [1.151e+01, 2.393e+01, 7.452e+01, ..., 9.653e-02, 2.112e-01,\n",
              "        8.732e-02]])"
            ]
          },
          "execution_count": 44,
          "metadata": {},
          "output_type": "execute_result"
        }
      ],
      "source": [
        "X_trainval_data2"
      ]
    },
    {
      "cell_type": "markdown",
      "metadata": {
        "id": "QqXuWw0qe0h6"
      },
      "source": [
        "## 3. Split the train-validate set into training set (80%) and validation set (20%) using random_state = 0. Build KNN models with n_neighbors = {1, 3, 5, 7, 9} using the training set. Compare their performance on the validation set and pick the best model. Report the best model’s performance on the test set."
      ]
    },
    {
      "cell_type": "code",
      "execution_count": null,
      "metadata": {
        "id": "LRccsMdUe0h6"
      },
      "outputs": [],
      "source": [
        "X2_train_set, X2_test_set, y2_train_set, y2_test_set = train_test_split(X_trainval_data2, y_trainval_data2, test_size = 0.2, random_state = 0)"
      ]
    },
    {
      "cell_type": "code",
      "execution_count": null,
      "metadata": {
        "id": "_EGk37rYe0h6",
        "outputId": "34c7c2d1-e46b-4a67-f26a-f77c4ef1a663"
      },
      "outputs": [
        {
          "name": "stdout",
          "output_type": "stream",
          "text": [
            "When n_neighbors = 1, accuracy on training set: 1.00\n",
            "When n_neighbors = 1, accuracy on test set: 0.89\n"
          ]
        }
      ],
      "source": [
        "knn = KNeighborsClassifier(n_neighbors = 1)\n",
        "knn.fit(X2_train_set, y2_train_set)\n",
        "print(f\"When n_neighbors = 1, accuracy on training set: {knn.score(X2_train_set, y2_train_set):.2f}\")\n",
        "print(f\"When n_neighbors = 1, accuracy on test set: {knn.score(X2_test_set, y2_test_set):.2f}\")"
      ]
    },
    {
      "cell_type": "code",
      "execution_count": null,
      "metadata": {
        "id": "MsPKvm-Ke0h6",
        "outputId": "612d5434-07fa-45e0-db47-5a5a1fa0db70"
      },
      "outputs": [
        {
          "name": "stdout",
          "output_type": "stream",
          "text": [
            "When n_neighbors = 3, accuracy on training set: 0.96\n",
            "When n_neighbors = 3, accuracy on test set: 0.93\n"
          ]
        }
      ],
      "source": [
        "knn = KNeighborsClassifier(n_neighbors = 3)\n",
        "knn.fit(X2_train_set, y2_train_set)\n",
        "print(f\"When n_neighbors = 3, accuracy on training set: {knn.score(X2_train_set, y2_train_set):.2f}\")\n",
        "print(f\"When n_neighbors = 3, accuracy on test set: {knn.score(X2_test_set, y2_test_set):.2f}\")"
      ]
    },
    {
      "cell_type": "code",
      "execution_count": null,
      "metadata": {
        "id": "r941zScfe0h7",
        "outputId": "c8788041-6813-4ddb-f708-2741343dcc42"
      },
      "outputs": [
        {
          "name": "stdout",
          "output_type": "stream",
          "text": [
            "When n_neighbors = 5, accuracy on training set: 0.95\n",
            "When n_neighbors = 5, accuracy on test set: 0.94\n"
          ]
        }
      ],
      "source": [
        "knn = KNeighborsClassifier(n_neighbors = 5)\n",
        "knn.fit(X2_train_set, y2_train_set)\n",
        "print(f\"When n_neighbors = 5, accuracy on training set: {knn.score(X2_train_set, y2_train_set):.2f}\")\n",
        "print(f\"When n_neighbors = 5, accuracy on test set: {knn.score(X2_test_set, y2_test_set):.2f}\")"
      ]
    },
    {
      "cell_type": "code",
      "execution_count": null,
      "metadata": {
        "id": "F6Xfu8k5e0h7",
        "outputId": "d331f7be-9430-4c91-98a2-66800bea5887"
      },
      "outputs": [
        {
          "name": "stdout",
          "output_type": "stream",
          "text": [
            "When n_neighbors = 7, accuracy on training set: 0.94\n",
            "When n_neighbors = 7, accuracy on test set: 0.95\n"
          ]
        }
      ],
      "source": [
        "knn = KNeighborsClassifier(n_neighbors = 7)\n",
        "knn.fit(X2_train_set, y2_train_set)\n",
        "print(f\"When n_neighbors = 7, accuracy on training set: {knn.score(X2_train_set, y2_train_set):.2f}\")\n",
        "print(f\"When n_neighbors = 7, accuracy on test set: {knn.score(X2_test_set, y2_test_set):.2f}\")"
      ]
    },
    {
      "cell_type": "code",
      "execution_count": null,
      "metadata": {
        "id": "1n1AG83ve0h7",
        "outputId": "acfa75ed-146d-4304-9fc0-326bde49a328"
      },
      "outputs": [
        {
          "name": "stdout",
          "output_type": "stream",
          "text": [
            "When n_neighbors = 9, accuracy on training set: 0.94\n",
            "When n_neighbors = 9, accuracy on test set: 0.95\n"
          ]
        }
      ],
      "source": [
        "knn = KNeighborsClassifier(n_neighbors = 9)\n",
        "knn.fit(X2_train_set, y2_train_set)\n",
        "print(f\"When n_neighbors = 9, accuracy on training set: {knn.score(X2_train_set, y2_train_set):.2f}\")\n",
        "print(f\"When n_neighbors = 9, accuracy on test set: {knn.score(X2_test_set, y2_test_set):.2f}\")"
      ]
    },
    {
      "cell_type": "markdown",
      "metadata": {
        "id": "OJT5UsrTe0h7"
      },
      "source": [
        "## 4. Use GridSearchCV and 5-fold cross validation to build and compare KNN models with n_neighbors = {1, 3, 5, 7, 9, 11, 13, 15, 17, 19} using the train-validate set. Report the best model’s performance on the test set.\n"
      ]
    },
    {
      "cell_type": "code",
      "execution_count": null,
      "metadata": {
        "id": "mMiKdWvZe0h7"
      },
      "outputs": [],
      "source": [
        "n_neighbors_values = [1, 3, 5, 7, 9, 11, 13, 15, 17, 19]\n",
        "param_grid2 = {'n_neighbors': n_neighbors_values}"
      ]
    },
    {
      "cell_type": "code",
      "execution_count": null,
      "metadata": {
        "id": "qKqM2PvEe0h7",
        "outputId": "04a18ec2-eae8-473e-eace-65d78ddb8818"
      },
      "outputs": [
        {
          "name": "stdout",
          "output_type": "stream",
          "text": [
            "best parameters: {'n_neighbors': 5}\n",
            "test-set score: 0.942\n"
          ]
        }
      ],
      "source": [
        "grid2 = GridSearchCV(KNeighborsClassifier(), param_grid = param_grid2, cv=10,\n",
        "                   return_train_score=True)\n",
        "grid2.fit(X2_train_set, y2_train_set)\n",
        "print(f\"best parameters: {grid2.best_params_}\")\n",
        "print(f\"test-set score: {grid2.score(X2_test_set, y2_test_set):.3f}\")"
      ]
    },
    {
      "cell_type": "code",
      "execution_count": null,
      "metadata": {
        "id": "SwMFV9gee0h8"
      },
      "outputs": [],
      "source": []
    }
  ],
  "metadata": {
    "kernelspec": {
      "display_name": "Python 3",
      "language": "python",
      "name": "python3"
    },
    "language_info": {
      "codemirror_mode": {
        "name": "ipython",
        "version": 3
      },
      "file_extension": ".py",
      "mimetype": "text/x-python",
      "name": "python",
      "nbconvert_exporter": "python",
      "pygments_lexer": "ipython3",
      "version": "3.7.6"
    },
    "colab": {
      "provenance": []
    }
  },
  "nbformat": 4,
  "nbformat_minor": 0
}