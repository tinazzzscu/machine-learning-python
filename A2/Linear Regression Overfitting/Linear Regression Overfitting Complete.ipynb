{
 "cells": [
  {
   "cell_type": "markdown",
   "metadata": {},
   "source": [
    "# Linear Regression"
   ]
  },
  {
   "cell_type": "code",
   "execution_count": 1,
   "metadata": {},
   "outputs": [],
   "source": [
    "# Common imports\n",
    "import numpy as np\n",
    "import pandas as pd"
   ]
  },
  {
   "cell_type": "code",
   "execution_count": 2,
   "metadata": {},
   "outputs": [
    {
     "data": {
      "text/html": [
       "<div>\n",
       "<style scoped>\n",
       "    .dataframe tbody tr th:only-of-type {\n",
       "        vertical-align: middle;\n",
       "    }\n",
       "\n",
       "    .dataframe tbody tr th {\n",
       "        vertical-align: top;\n",
       "    }\n",
       "\n",
       "    .dataframe thead th {\n",
       "        text-align: right;\n",
       "    }\n",
       "</style>\n",
       "<table border=\"1\" class=\"dataframe\">\n",
       "  <thead>\n",
       "    <tr style=\"text-align: right;\">\n",
       "      <th></th>\n",
       "      <th>Size</th>\n",
       "      <th>Bedrooms</th>\n",
       "      <th>Price</th>\n",
       "    </tr>\n",
       "  </thead>\n",
       "  <tbody>\n",
       "    <tr>\n",
       "      <td>0</td>\n",
       "      <td>2104</td>\n",
       "      <td>3</td>\n",
       "      <td>399900</td>\n",
       "    </tr>\n",
       "    <tr>\n",
       "      <td>1</td>\n",
       "      <td>1600</td>\n",
       "      <td>3</td>\n",
       "      <td>329900</td>\n",
       "    </tr>\n",
       "    <tr>\n",
       "      <td>2</td>\n",
       "      <td>2400</td>\n",
       "      <td>3</td>\n",
       "      <td>369000</td>\n",
       "    </tr>\n",
       "    <tr>\n",
       "      <td>3</td>\n",
       "      <td>1416</td>\n",
       "      <td>2</td>\n",
       "      <td>232000</td>\n",
       "    </tr>\n",
       "    <tr>\n",
       "      <td>4</td>\n",
       "      <td>3000</td>\n",
       "      <td>4</td>\n",
       "      <td>539900</td>\n",
       "    </tr>\n",
       "  </tbody>\n",
       "</table>\n",
       "</div>"
      ],
      "text/plain": [
       "   Size  Bedrooms   Price\n",
       "0  2104         3  399900\n",
       "1  1600         3  329900\n",
       "2  2400         3  369000\n",
       "3  1416         2  232000\n",
       "4  3000         4  539900"
      ]
     },
     "execution_count": 2,
     "metadata": {},
     "output_type": "execute_result"
    }
   ],
   "source": [
    "housing = pd.read_csv(\"datasets/House.txt\", header = None, names=['Size', 'Bedrooms', 'Price'])\n",
    "housing.head()"
   ]
  },
  {
   "cell_type": "code",
   "execution_count": 3,
   "metadata": {},
   "outputs": [
    {
     "name": "stdout",
     "output_type": "stream",
     "text": [
      "<class 'pandas.core.frame.DataFrame'>\n",
      "RangeIndex: 47 entries, 0 to 46\n",
      "Data columns (total 3 columns):\n",
      "Size        47 non-null int64\n",
      "Bedrooms    47 non-null int64\n",
      "Price       47 non-null int64\n",
      "dtypes: int64(3)\n",
      "memory usage: 1.2 KB\n"
     ]
    }
   ],
   "source": [
    "housing.info()"
   ]
  },
  {
   "cell_type": "code",
   "execution_count": 4,
   "metadata": {},
   "outputs": [
    {
     "data": {
      "text/html": [
       "<div>\n",
       "<style scoped>\n",
       "    .dataframe tbody tr th:only-of-type {\n",
       "        vertical-align: middle;\n",
       "    }\n",
       "\n",
       "    .dataframe tbody tr th {\n",
       "        vertical-align: top;\n",
       "    }\n",
       "\n",
       "    .dataframe thead th {\n",
       "        text-align: right;\n",
       "    }\n",
       "</style>\n",
       "<table border=\"1\" class=\"dataframe\">\n",
       "  <thead>\n",
       "    <tr style=\"text-align: right;\">\n",
       "      <th></th>\n",
       "      <th>Size</th>\n",
       "      <th>Bedrooms</th>\n",
       "      <th>Price</th>\n",
       "    </tr>\n",
       "  </thead>\n",
       "  <tbody>\n",
       "    <tr>\n",
       "      <td>count</td>\n",
       "      <td>47.000000</td>\n",
       "      <td>47.000000</td>\n",
       "      <td>47.000000</td>\n",
       "    </tr>\n",
       "    <tr>\n",
       "      <td>mean</td>\n",
       "      <td>2000.680851</td>\n",
       "      <td>3.170213</td>\n",
       "      <td>340412.659574</td>\n",
       "    </tr>\n",
       "    <tr>\n",
       "      <td>std</td>\n",
       "      <td>794.702354</td>\n",
       "      <td>0.760982</td>\n",
       "      <td>125039.899586</td>\n",
       "    </tr>\n",
       "    <tr>\n",
       "      <td>min</td>\n",
       "      <td>852.000000</td>\n",
       "      <td>1.000000</td>\n",
       "      <td>169900.000000</td>\n",
       "    </tr>\n",
       "    <tr>\n",
       "      <td>25%</td>\n",
       "      <td>1432.000000</td>\n",
       "      <td>3.000000</td>\n",
       "      <td>249900.000000</td>\n",
       "    </tr>\n",
       "    <tr>\n",
       "      <td>50%</td>\n",
       "      <td>1888.000000</td>\n",
       "      <td>3.000000</td>\n",
       "      <td>299900.000000</td>\n",
       "    </tr>\n",
       "    <tr>\n",
       "      <td>75%</td>\n",
       "      <td>2269.000000</td>\n",
       "      <td>4.000000</td>\n",
       "      <td>384450.000000</td>\n",
       "    </tr>\n",
       "    <tr>\n",
       "      <td>max</td>\n",
       "      <td>4478.000000</td>\n",
       "      <td>5.000000</td>\n",
       "      <td>699900.000000</td>\n",
       "    </tr>\n",
       "  </tbody>\n",
       "</table>\n",
       "</div>"
      ],
      "text/plain": [
       "              Size   Bedrooms          Price\n",
       "count    47.000000  47.000000      47.000000\n",
       "mean   2000.680851   3.170213  340412.659574\n",
       "std     794.702354   0.760982  125039.899586\n",
       "min     852.000000   1.000000  169900.000000\n",
       "25%    1432.000000   3.000000  249900.000000\n",
       "50%    1888.000000   3.000000  299900.000000\n",
       "75%    2269.000000   4.000000  384450.000000\n",
       "max    4478.000000   5.000000  699900.000000"
      ]
     },
     "execution_count": 4,
     "metadata": {},
     "output_type": "execute_result"
    }
   ],
   "source": [
    "housing.describe()"
   ]
  },
  {
   "cell_type": "code",
   "execution_count": 5,
   "metadata": {},
   "outputs": [
    {
     "data": {
      "text/plain": [
       "array([[<matplotlib.axes._subplots.AxesSubplot object at 0x7f8ee38ca210>,\n",
       "        <matplotlib.axes._subplots.AxesSubplot object at 0x7f8ee3d63a50>,\n",
       "        <matplotlib.axes._subplots.AxesSubplot object at 0x7f8ee3ed6d90>],\n",
       "       [<matplotlib.axes._subplots.AxesSubplot object at 0x7f8ee3f0aa50>,\n",
       "        <matplotlib.axes._subplots.AxesSubplot object at 0x7f8ee3f49dd0>,\n",
       "        <matplotlib.axes._subplots.AxesSubplot object at 0x7f8ee3f7fa90>],\n",
       "       [<matplotlib.axes._subplots.AxesSubplot object at 0x7f8ee3fbef10>,\n",
       "        <matplotlib.axes._subplots.AxesSubplot object at 0x7f8ee3ff3ad0>,\n",
       "        <matplotlib.axes._subplots.AxesSubplot object at 0x7f8ee3ffd650>]],\n",
       "      dtype=object)"
      ]
     },
     "execution_count": 5,
     "metadata": {},
     "output_type": "execute_result"
    },
    {
     "data": {
      "image/png": "[encoded data removed]",
      "text/plain": [
       "<Figure size 576x576 with 9 Axes>"
      ]
     },
     "metadata": {
      "needs_background": "light"
     },
     "output_type": "display_data"
    }
   ],
   "source": [
    "%matplotlib inline\n",
    "import matplotlib.pyplot as plt\n",
    "pd.plotting.scatter_matrix(housing, figsize=(8, 8),\n",
    "                           marker='o', hist_kwds={'bins': 50}, s=60,\n",
    "                           alpha=.8)"
   ]
  },
  {
   "cell_type": "code",
   "execution_count": 6,
   "metadata": {},
   "outputs": [],
   "source": [
    "X = housing[[\"Size\"]]"
   ]
  },
  {
   "cell_type": "code",
   "execution_count": 7,
   "metadata": {
    "scrolled": true
   },
   "outputs": [
    {
     "data": {
      "text/plain": [
       "(47, 1)"
      ]
     },
     "execution_count": 7,
     "metadata": {},
     "output_type": "execute_result"
    }
   ],
   "source": [
    "X.shape"
   ]
  },
  {
   "cell_type": "code",
   "execution_count": 8,
   "metadata": {},
   "outputs": [],
   "source": [
    "y = housing.Price"
   ]
  },
  {
   "cell_type": "code",
   "execution_count": 9,
   "metadata": {},
   "outputs": [
    {
     "data": {
      "text/plain": [
       "(47,)"
      ]
     },
     "execution_count": 9,
     "metadata": {},
     "output_type": "execute_result"
    }
   ],
   "source": [
    "y.shape"
   ]
  },
  {
   "cell_type": "code",
   "execution_count": 10,
   "metadata": {},
   "outputs": [
    {
     "data": {
      "image/png": "[encoded data removed]",
      "text/plain": [
       "<Figure size 720x576 with 1 Axes>"
      ]
     },
     "metadata": {
      "needs_background": "light"
     },
     "output_type": "display_data"
    }
   ],
   "source": [
    "plt.figure(figsize=(10,8))\n",
    "plt.scatter(X, y, marker= 'o', s=50, alpha=0.8)\n",
    "plt.title('Least-squares linear regression')\n",
    "plt.xlabel('Feature value (x)')\n",
    "plt.ylabel('Target value (y)')\n",
    "plt.show()"
   ]
  },
  {
   "cell_type": "code",
   "execution_count": 11,
   "metadata": {},
   "outputs": [],
   "source": [
    "from sklearn.linear_model import LinearRegression\n",
    "linreg = LinearRegression().fit(X, y)"
   ]
  },
  {
   "cell_type": "code",
   "execution_count": 12,
   "metadata": {},
   "outputs": [
    {
     "name": "stdout",
     "output_type": "stream",
     "text": [
      "linear model coeff (w): [134.52528772]\n",
      "linear model intercept (b): 71270.492\n",
      "R-squared score: 0.731\n"
     ]
    }
   ],
   "source": [
    "print('linear model coeff (w): {}'\n",
    "     .format(linreg.coef_))\n",
    "print('linear model intercept (b): {:.3f}'\n",
    "     .format(linreg.intercept_))\n",
    "print('R-squared score: {:.3f}'\n",
    "     .format(linreg.score(X, y)))"
   ]
  },
  {
   "cell_type": "code",
   "execution_count": 13,
   "metadata": {},
   "outputs": [],
   "source": [
    "X_new = [[3000]]"
   ]
  },
  {
   "cell_type": "code",
   "execution_count": 14,
   "metadata": {},
   "outputs": [
    {
     "data": {
      "text/plain": [
       "array([474846.35560945])"
      ]
     },
     "execution_count": 14,
     "metadata": {},
     "output_type": "execute_result"
    }
   ],
   "source": [
    "linreg.predict(X_new)"
   ]
  },
  {
   "cell_type": "code",
   "execution_count": 15,
   "metadata": {
    "scrolled": true
   },
   "outputs": [
    {
     "data": {
      "image/png": "[encoded data removed]",
      "text/plain": [
       "<Figure size 720x576 with 1 Axes>"
      ]
     },
     "metadata": {
      "needs_background": "light"
     },
     "output_type": "display_data"
    }
   ],
   "source": [
    "plt.figure(figsize=(10,8))\n",
    "plt.scatter(X, y, marker= 'o', s=50, alpha=0.8)\n",
    "plt.plot(X, linreg.coef_ * X + linreg.intercept_, 'r-')\n",
    "plt.title('Least-squares linear regression')\n",
    "plt.xlabel('Feature value (x)')\n",
    "plt.ylabel('Target value (y)')\n",
    "plt.show()"
   ]
  },
  {
   "cell_type": "code",
   "execution_count": 16,
   "metadata": {},
   "outputs": [
    {
     "data": {
      "image/png": "[encoded data removed]",
      "text/plain": [
       "<Figure size 720x576 with 1 Axes>"
      ]
     },
     "metadata": {
      "needs_background": "light"
     },
     "output_type": "display_data"
    }
   ],
   "source": [
    "plt.figure(figsize=(10,8))\n",
    "plt.scatter(X, y, marker= 'o', s=50, alpha=0.8)\n",
    "plt.plot(X, linreg.predict(X), 'r-')\n",
    "plt.title('Least-squares linear regression')\n",
    "plt.xlabel('Feature value (x)')\n",
    "plt.ylabel('Target value (y)')\n",
    "plt.show()"
   ]
  },
  {
   "cell_type": "code",
   "execution_count": 17,
   "metadata": {},
   "outputs": [
    {
     "data": {
      "text/plain": [
       "64158.12872010906"
      ]
     },
     "execution_count": 17,
     "metadata": {},
     "output_type": "execute_result"
    }
   ],
   "source": [
    "from sklearn.metrics import mean_squared_error\n",
    "\n",
    "housing_predictions = linreg.predict(X)\n",
    "lin_mse = mean_squared_error(y, housing_predictions)\n",
    "lin_rmse = np.sqrt(lin_mse)\n",
    "lin_rmse"
   ]
  },
  {
   "cell_type": "code",
   "execution_count": 18,
   "metadata": {},
   "outputs": [
    {
     "data": {
      "text/plain": [
       "52004.81399860769"
      ]
     },
     "execution_count": 18,
     "metadata": {},
     "output_type": "execute_result"
    }
   ],
   "source": [
    "from sklearn.metrics import mean_absolute_error\n",
    "\n",
    "lin_mae = mean_absolute_error(y, housing_predictions)\n",
    "lin_mae"
   ]
  },
  {
   "cell_type": "code",
   "execution_count": 19,
   "metadata": {},
   "outputs": [
    {
     "data": {
      "text/plain": [
       "array([[2.10400000e+03, 4.42681600e+06, 9.31402086e+09],\n",
       "       [1.60000000e+03, 2.56000000e+06, 4.09600000e+09],\n",
       "       [2.40000000e+03, 5.76000000e+06, 1.38240000e+10],\n",
       "       [1.41600000e+03, 2.00505600e+06, 2.83915930e+09],\n",
       "       [3.00000000e+03, 9.00000000e+06, 2.70000000e+10],\n",
       "       [1.98500000e+03, 3.94022500e+06, 7.82134662e+09],\n",
       "       [1.53400000e+03, 2.35315600e+06, 3.60974130e+09],\n",
       "       [1.42700000e+03, 2.03632900e+06, 2.90584148e+09],\n",
       "       [1.38000000e+03, 1.90440000e+06, 2.62807200e+09],\n",
       "       [1.49400000e+03, 2.23203600e+06, 3.33466178e+09],\n",
       "       [1.94000000e+03, 3.76360000e+06, 7.30138400e+09],\n",
       "       [2.00000000e+03, 4.00000000e+06, 8.00000000e+09],\n",
       "       [1.89000000e+03, 3.57210000e+06, 6.75126900e+09],\n",
       "       [4.47800000e+03, 2.00524840e+07, 8.97950234e+10],\n",
       "       [1.26800000e+03, 1.60782400e+06, 2.03872083e+09],\n",
       "       [2.30000000e+03, 5.29000000e+06, 1.21670000e+10],\n",
       "       [1.32000000e+03, 1.74240000e+06, 2.29996800e+09],\n",
       "       [1.23600000e+03, 1.52769600e+06, 1.88823226e+09],\n",
       "       [2.60900000e+03, 6.80688100e+06, 1.77591525e+10],\n",
       "       [3.03100000e+03, 9.18696100e+06, 2.78456788e+10],\n",
       "       [1.76700000e+03, 3.12228900e+06, 5.51708466e+09],\n",
       "       [1.88800000e+03, 3.56454400e+06, 6.72985907e+09],\n",
       "       [1.60400000e+03, 2.57281600e+06, 4.12679686e+09],\n",
       "       [1.96200000e+03, 3.84944400e+06, 7.55260913e+09],\n",
       "       [3.89000000e+03, 1.51321000e+07, 5.88638690e+10],\n",
       "       [1.10000000e+03, 1.21000000e+06, 1.33100000e+09],\n",
       "       [1.45800000e+03, 2.12576400e+06, 3.09936391e+09],\n",
       "       [2.52600000e+03, 6.38067600e+06, 1.61175876e+10],\n",
       "       [2.20000000e+03, 4.84000000e+06, 1.06480000e+10],\n",
       "       [2.63700000e+03, 6.95376900e+06, 1.83370889e+10],\n",
       "       [1.83900000e+03, 3.38192100e+06, 6.21935272e+09],\n",
       "       [1.00000000e+03, 1.00000000e+06, 1.00000000e+09],\n",
       "       [2.04000000e+03, 4.16160000e+06, 8.48966400e+09],\n",
       "       [3.13700000e+03, 9.84076900e+06, 3.08704924e+10],\n",
       "       [1.81100000e+03, 3.27972100e+06, 5.93957473e+09],\n",
       "       [1.43700000e+03, 2.06496900e+06, 2.96736045e+09],\n",
       "       [1.23900000e+03, 1.53512100e+06, 1.90201492e+09],\n",
       "       [2.13200000e+03, 4.54542400e+06, 9.69084397e+09],\n",
       "       [4.21500000e+03, 1.77662250e+07, 7.48846384e+10],\n",
       "       [2.16200000e+03, 4.67424400e+06, 1.01057155e+10],\n",
       "       [1.66400000e+03, 2.76889600e+06, 4.60744294e+09],\n",
       "       [2.23800000e+03, 5.00864400e+06, 1.12093453e+10],\n",
       "       [2.56700000e+03, 6.58948900e+06, 1.69152183e+10],\n",
       "       [1.20000000e+03, 1.44000000e+06, 1.72800000e+09],\n",
       "       [8.52000000e+02, 7.25904000e+05, 6.18470208e+08],\n",
       "       [1.85200000e+03, 3.42990400e+06, 6.35218221e+09],\n",
       "       [1.20300000e+03, 1.44720900e+06, 1.74099243e+09]])"
      ]
     },
     "execution_count": 19,
     "metadata": {},
     "output_type": "execute_result"
    }
   ],
   "source": [
    "from sklearn.preprocessing import PolynomialFeatures\n",
    "\n",
    "poly3 = PolynomialFeatures(degree=3, include_bias=False)\n",
    "X_poly = poly3.fit_transform(X)\n",
    "X_poly"
   ]
  },
  {
   "cell_type": "code",
   "execution_count": 20,
   "metadata": {},
   "outputs": [],
   "source": [
    "linreg2 = LinearRegression().fit(X_poly, y)"
   ]
  },
  {
   "cell_type": "code",
   "execution_count": 21,
   "metadata": {},
   "outputs": [
    {
     "name": "stdout",
     "output_type": "stream",
     "text": [
      "linear model coeff (w): [-1.07855433e+02  1.06190390e-01 -1.38299982e-05]\n",
      "linear model intercept (b): 236407.036\n",
      "R-squared score: 0.738\n"
     ]
    }
   ],
   "source": [
    "print('linear model coeff (w): {}'\n",
    "     .format(linreg2.coef_))\n",
    "print('linear model intercept (b): {:.3f}'\n",
    "     .format(linreg2.intercept_))\n",
    "print('R-squared score: {:.3f}'\n",
    "     .format(linreg2.score(X_poly, y)))"
   ]
  },
  {
   "cell_type": "code",
   "execution_count": 22,
   "metadata": {},
   "outputs": [
    {
     "data": {
      "text/plain": [
       "Pipeline(memory=None,\n",
       "         steps=[('poly',\n",
       "                 PolynomialFeatures(degree=3, include_bias=False,\n",
       "                                    interaction_only=False, order='C')),\n",
       "                ('scal',\n",
       "                 StandardScaler(copy=True, with_mean=True, with_std=True)),\n",
       "                ('lin',\n",
       "                 LinearRegression(copy_X=True, fit_intercept=True, n_jobs=None,\n",
       "                                  normalize=False))],\n",
       "         verbose=False)"
      ]
     },
     "execution_count": 22,
     "metadata": {},
     "output_type": "execute_result"
    }
   ],
   "source": [
    "from sklearn.pipeline import Pipeline\n",
    "from sklearn.preprocessing import StandardScaler\n",
    "\n",
    "scaler = StandardScaler()\n",
    "\n",
    "pipeline_reg = Pipeline([('poly', poly3), ('scal', scaler), ('lin', linreg)])\n",
    "pipeline_reg.fit(X, y)"
   ]
  },
  {
   "cell_type": "code",
   "execution_count": 23,
   "metadata": {},
   "outputs": [
    {
     "data": {
      "image/png": "[encoded data removed]",
      "text/plain": [
       "<Figure size 720x576 with 1 Axes>"
      ]
     },
     "metadata": {
      "needs_background": "light"
     },
     "output_type": "display_data"
    }
   ],
   "source": [
    "plt.figure(figsize=(10,8))\n",
    "plt.scatter(X, y, marker= 'o', s=50, alpha=0.8)\n",
    "X1 = np.linspace(1000, 4500, 100)\n",
    "curve = pipeline_reg.predict(X1[:, np.newaxis])\n",
    "plt.plot(X1, curve)\n",
    "plt.title('Least-squares linear regression')\n",
    "plt.xlabel('Feature value (x)')\n",
    "plt.ylabel('Target value (y)')\n",
    "plt.show()"
   ]
  },
  {
   "cell_type": "code",
   "execution_count": 24,
   "metadata": {},
   "outputs": [
    {
     "name": "stdout",
     "output_type": "stream",
     "text": [
      "R-squared score: 0.789\n"
     ]
    },
    {
     "data": {
      "image/png": "[encoded data removed]",
      "text/plain": [
       "<Figure size 720x576 with 1 Axes>"
      ]
     },
     "metadata": {
      "needs_background": "light"
     },
     "output_type": "display_data"
    }
   ],
   "source": [
    "poly10 = PolynomialFeatures(degree=10, include_bias=False)\n",
    "scaler = StandardScaler()\n",
    "lin_reg2 = LinearRegression()\n",
    "\n",
    "pipeline_reg = Pipeline([('poly', poly10), ('scal', scaler), ('lin', lin_reg2)])\n",
    "pipeline_reg.fit(X, y)\n",
    "\n",
    "print('R-squared score: {:.3f}'\n",
    "     .format(pipeline_reg.score(X, y)))\n",
    "\n",
    "plt.figure(figsize=(10,8))\n",
    "plt.scatter(X, y, marker= 'o', s=50, alpha=0.8)\n",
    "\n",
    "X1 = np.linspace(1000, 4500, 100)\n",
    "curve = pipeline_reg.predict(X1[:, np.newaxis])\n",
    "plt.plot(X1, curve)\n",
    "\n",
    "plt.title('Least-squares linear regression')\n",
    "plt.xlabel('Feature value (x)')\n",
    "plt.ylabel('Target value (y)')\n",
    "plt.show()"
   ]
  },
  {
   "cell_type": "code",
   "execution_count": 25,
   "metadata": {},
   "outputs": [],
   "source": [
    "from sklearn.model_selection import train_test_split\n",
    "\n",
    "X_train, X_test, y_train, y_test = train_test_split(\n",
    "    X, y, random_state=0)"
   ]
  },
  {
   "cell_type": "code",
   "execution_count": 26,
   "metadata": {},
   "outputs": [
    {
     "data": {
      "text/plain": [
       "GridSearchCV(cv=5, error_score=nan,\n",
       "             estimator=Pipeline(memory=None,\n",
       "                                steps=[('polynomialfeatures',\n",
       "                                        PolynomialFeatures(degree=2,\n",
       "                                                           include_bias=True,\n",
       "                                                           interaction_only=False,\n",
       "                                                           order='C')),\n",
       "                                       ('standardscaler',\n",
       "                                        StandardScaler(copy=True,\n",
       "                                                       with_mean=True,\n",
       "                                                       with_std=True)),\n",
       "                                       ('linearregression',\n",
       "                                        LinearRegression(copy_X=True,\n",
       "                                                         fit_intercept=True,\n",
       "                                                         n_jobs=None,\n",
       "                                                         normalize=False))],\n",
       "                                verbose=False),\n",
       "             iid='deprecated', n_jobs=-1,\n",
       "             param_grid={'polynomialfeatures__degree': range(1, 10)},\n",
       "             pre_dispatch='2*n_jobs', refit=True, return_train_score=True,\n",
       "             scoring=None, verbose=0)"
      ]
     },
     "execution_count": 26,
     "metadata": {},
     "output_type": "execute_result"
    }
   ],
   "source": [
    "from sklearn.model_selection import GridSearchCV\n",
    "from sklearn.pipeline import make_pipeline\n",
    "\n",
    "pipe = make_pipeline(PolynomialFeatures(), StandardScaler(),LinearRegression())\n",
    "param_grid = {'polynomialfeatures__degree': range(1,10)}\n",
    "\n",
    "grid = GridSearchCV(pipe, param_grid=param_grid, cv=5, n_jobs=-1,return_train_score=True)\n",
    "grid.fit(X_train, y_train)"
   ]
  },
  {
   "cell_type": "code",
   "execution_count": 27,
   "metadata": {},
   "outputs": [
    {
     "data": {
      "text/html": [
       "<div>\n",
       "<style scoped>\n",
       "    .dataframe tbody tr th:only-of-type {\n",
       "        vertical-align: middle;\n",
       "    }\n",
       "\n",
       "    .dataframe tbody tr th {\n",
       "        vertical-align: top;\n",
       "    }\n",
       "\n",
       "    .dataframe thead th {\n",
       "        text-align: right;\n",
       "    }\n",
       "</style>\n",
       "<table border=\"1\" class=\"dataframe\">\n",
       "  <thead>\n",
       "    <tr style=\"text-align: right;\">\n",
       "      <th></th>\n",
       "      <th>mean_fit_time</th>\n",
       "      <th>std_fit_time</th>\n",
       "      <th>mean_score_time</th>\n",
       "      <th>std_score_time</th>\n",
       "      <th>param_polynomialfeatures__degree</th>\n",
       "      <th>params</th>\n",
       "      <th>split0_test_score</th>\n",
       "      <th>split1_test_score</th>\n",
       "      <th>split2_test_score</th>\n",
       "      <th>split3_test_score</th>\n",
       "      <th>...</th>\n",
       "      <th>mean_test_score</th>\n",
       "      <th>std_test_score</th>\n",
       "      <th>rank_test_score</th>\n",
       "      <th>split0_train_score</th>\n",
       "      <th>split1_train_score</th>\n",
       "      <th>split2_train_score</th>\n",
       "      <th>split3_train_score</th>\n",
       "      <th>split4_train_score</th>\n",
       "      <th>mean_train_score</th>\n",
       "      <th>std_train_score</th>\n",
       "    </tr>\n",
       "  </thead>\n",
       "  <tbody>\n",
       "    <tr>\n",
       "      <td>0</td>\n",
       "      <td>0.005336</td>\n",
       "      <td>0.000559</td>\n",
       "      <td>0.002007</td>\n",
       "      <td>0.000198</td>\n",
       "      <td>1</td>\n",
       "      <td>{'polynomialfeatures__degree': 1}</td>\n",
       "      <td>-0.723992</td>\n",
       "      <td>0.867068</td>\n",
       "      <td>0.818599</td>\n",
       "      <td>0.853010</td>\n",
       "      <td>...</td>\n",
       "      <td>0.512328</td>\n",
       "      <td>0.619555</td>\n",
       "      <td>1</td>\n",
       "      <td>0.854966</td>\n",
       "      <td>0.669916</td>\n",
       "      <td>0.714149</td>\n",
       "      <td>0.711040</td>\n",
       "      <td>0.726891</td>\n",
       "      <td>0.735392</td>\n",
       "      <td>0.062772</td>\n",
       "    </tr>\n",
       "    <tr>\n",
       "      <td>1</td>\n",
       "      <td>0.004037</td>\n",
       "      <td>0.000348</td>\n",
       "      <td>0.002541</td>\n",
       "      <td>0.001772</td>\n",
       "      <td>2</td>\n",
       "      <td>{'polynomialfeatures__degree': 2}</td>\n",
       "      <td>-0.717951</td>\n",
       "      <td>0.862138</td>\n",
       "      <td>0.750534</td>\n",
       "      <td>0.863544</td>\n",
       "      <td>...</td>\n",
       "      <td>0.478220</td>\n",
       "      <td>0.604111</td>\n",
       "      <td>2</td>\n",
       "      <td>0.854979</td>\n",
       "      <td>0.669998</td>\n",
       "      <td>0.727116</td>\n",
       "      <td>0.712918</td>\n",
       "      <td>0.750267</td>\n",
       "      <td>0.743056</td>\n",
       "      <td>0.061772</td>\n",
       "    </tr>\n",
       "    <tr>\n",
       "      <td>2</td>\n",
       "      <td>0.007416</td>\n",
       "      <td>0.002893</td>\n",
       "      <td>0.003634</td>\n",
       "      <td>0.003864</td>\n",
       "      <td>3</td>\n",
       "      <td>{'polynomialfeatures__degree': 3}</td>\n",
       "      <td>-0.791496</td>\n",
       "      <td>0.769845</td>\n",
       "      <td>0.749826</td>\n",
       "      <td>0.864037</td>\n",
       "      <td>...</td>\n",
       "      <td>0.435328</td>\n",
       "      <td>0.619989</td>\n",
       "      <td>4</td>\n",
       "      <td>0.859067</td>\n",
       "      <td>0.679721</td>\n",
       "      <td>0.727491</td>\n",
       "      <td>0.712924</td>\n",
       "      <td>0.755843</td>\n",
       "      <td>0.747009</td>\n",
       "      <td>0.061164</td>\n",
       "    </tr>\n",
       "    <tr>\n",
       "      <td>3</td>\n",
       "      <td>0.004109</td>\n",
       "      <td>0.000861</td>\n",
       "      <td>0.002676</td>\n",
       "      <td>0.001195</td>\n",
       "      <td>4</td>\n",
       "      <td>{'polynomialfeatures__degree': 4}</td>\n",
       "      <td>-0.849768</td>\n",
       "      <td>0.224321</td>\n",
       "      <td>0.690244</td>\n",
       "      <td>0.863572</td>\n",
       "      <td>...</td>\n",
       "      <td>0.302272</td>\n",
       "      <td>0.612806</td>\n",
       "      <td>6</td>\n",
       "      <td>0.860222</td>\n",
       "      <td>0.705952</td>\n",
       "      <td>0.733226</td>\n",
       "      <td>0.713374</td>\n",
       "      <td>0.755970</td>\n",
       "      <td>0.753748</td>\n",
       "      <td>0.055995</td>\n",
       "    </tr>\n",
       "    <tr>\n",
       "      <td>4</td>\n",
       "      <td>0.005218</td>\n",
       "      <td>0.003220</td>\n",
       "      <td>0.001653</td>\n",
       "      <td>0.000029</td>\n",
       "      <td>5</td>\n",
       "      <td>{'polynomialfeatures__degree': 5}</td>\n",
       "      <td>-1.114811</td>\n",
       "      <td>0.533122</td>\n",
       "      <td>0.776586</td>\n",
       "      <td>0.880685</td>\n",
       "      <td>...</td>\n",
       "      <td>0.344997</td>\n",
       "      <td>0.739232</td>\n",
       "      <td>5</td>\n",
       "      <td>0.902149</td>\n",
       "      <td>0.708523</td>\n",
       "      <td>0.755324</td>\n",
       "      <td>0.740356</td>\n",
       "      <td>0.758949</td>\n",
       "      <td>0.773060</td>\n",
       "      <td>0.066951</td>\n",
       "    </tr>\n",
       "    <tr>\n",
       "      <td>5</td>\n",
       "      <td>0.004640</td>\n",
       "      <td>0.001962</td>\n",
       "      <td>0.002222</td>\n",
       "      <td>0.001000</td>\n",
       "      <td>6</td>\n",
       "      <td>{'polynomialfeatures__degree': 6}</td>\n",
       "      <td>-0.940265</td>\n",
       "      <td>0.908956</td>\n",
       "      <td>0.832567</td>\n",
       "      <td>0.869843</td>\n",
       "      <td>...</td>\n",
       "      <td>0.474673</td>\n",
       "      <td>0.710872</td>\n",
       "      <td>3</td>\n",
       "      <td>0.914946</td>\n",
       "      <td>0.719592</td>\n",
       "      <td>0.768026</td>\n",
       "      <td>0.761535</td>\n",
       "      <td>0.763675</td>\n",
       "      <td>0.785555</td>\n",
       "      <td>0.067017</td>\n",
       "    </tr>\n",
       "    <tr>\n",
       "      <td>6</td>\n",
       "      <td>0.004077</td>\n",
       "      <td>0.000774</td>\n",
       "      <td>0.001671</td>\n",
       "      <td>0.000055</td>\n",
       "      <td>7</td>\n",
       "      <td>{'polynomialfeatures__degree': 7}</td>\n",
       "      <td>-1.019460</td>\n",
       "      <td>-5.858813</td>\n",
       "      <td>0.088048</td>\n",
       "      <td>-0.356287</td>\n",
       "      <td>...</td>\n",
       "      <td>-1.387696</td>\n",
       "      <td>2.276596</td>\n",
       "      <td>7</td>\n",
       "      <td>0.916415</td>\n",
       "      <td>0.731400</td>\n",
       "      <td>0.775563</td>\n",
       "      <td>0.778905</td>\n",
       "      <td>0.768579</td>\n",
       "      <td>0.794172</td>\n",
       "      <td>0.063432</td>\n",
       "    </tr>\n",
       "    <tr>\n",
       "      <td>7</td>\n",
       "      <td>0.003740</td>\n",
       "      <td>0.000101</td>\n",
       "      <td>0.002166</td>\n",
       "      <td>0.000925</td>\n",
       "      <td>8</td>\n",
       "      <td>{'polynomialfeatures__degree': 8}</td>\n",
       "      <td>-0.924715</td>\n",
       "      <td>-511.369999</td>\n",
       "      <td>-52.481350</td>\n",
       "      <td>-17.894188</td>\n",
       "      <td>...</td>\n",
       "      <td>-121.528189</td>\n",
       "      <td>195.628554</td>\n",
       "      <td>8</td>\n",
       "      <td>0.916924</td>\n",
       "      <td>0.757669</td>\n",
       "      <td>0.798109</td>\n",
       "      <td>0.792865</td>\n",
       "      <td>0.818342</td>\n",
       "      <td>0.816782</td>\n",
       "      <td>0.053751</td>\n",
       "    </tr>\n",
       "    <tr>\n",
       "      <td>8</td>\n",
       "      <td>0.005197</td>\n",
       "      <td>0.001075</td>\n",
       "      <td>0.001717</td>\n",
       "      <td>0.000214</td>\n",
       "      <td>9</td>\n",
       "      <td>{'polynomialfeatures__degree': 9}</td>\n",
       "      <td>-2.533707</td>\n",
       "      <td>-28795.299911</td>\n",
       "      <td>-2202.249669</td>\n",
       "      <td>-696.434822</td>\n",
       "      <td>...</td>\n",
       "      <td>-6342.113547</td>\n",
       "      <td>11255.153527</td>\n",
       "      <td>9</td>\n",
       "      <td>0.920297</td>\n",
       "      <td>0.803296</td>\n",
       "      <td>0.830079</td>\n",
       "      <td>0.820760</td>\n",
       "      <td>0.826116</td>\n",
       "      <td>0.840110</td>\n",
       "      <td>0.041125</td>\n",
       "    </tr>\n",
       "  </tbody>\n",
       "</table>\n",
       "<p>9 rows × 21 columns</p>\n",
       "</div>"
      ],
      "text/plain": [
       "   mean_fit_time  std_fit_time  mean_score_time  std_score_time  \\\n",
       "0       0.005336      0.000559         0.002007        0.000198   \n",
       "1       0.004037      0.000348         0.002541        0.001772   \n",
       "2       0.007416      0.002893         0.003634        0.003864   \n",
       "3       0.004109      0.000861         0.002676        0.001195   \n",
       "4       0.005218      0.003220         0.001653        0.000029   \n",
       "5       0.004640      0.001962         0.002222        0.001000   \n",
       "6       0.004077      0.000774         0.001671        0.000055   \n",
       "7       0.003740      0.000101         0.002166        0.000925   \n",
       "8       0.005197      0.001075         0.001717        0.000214   \n",
       "\n",
       "  param_polynomialfeatures__degree                             params  \\\n",
       "0                                1  {'polynomialfeatures__degree': 1}   \n",
       "1                                2  {'polynomialfeatures__degree': 2}   \n",
       "2                                3  {'polynomialfeatures__degree': 3}   \n",
       "3                                4  {'polynomialfeatures__degree': 4}   \n",
       "4                                5  {'polynomialfeatures__degree': 5}   \n",
       "5                                6  {'polynomialfeatures__degree': 6}   \n",
       "6                                7  {'polynomialfeatures__degree': 7}   \n",
       "7                                8  {'polynomialfeatures__degree': 8}   \n",
       "8                                9  {'polynomialfeatures__degree': 9}   \n",
       "\n",
       "   split0_test_score  split1_test_score  split2_test_score  split3_test_score  \\\n",
       "0          -0.723992           0.867068           0.818599           0.853010   \n",
       "1          -0.717951           0.862138           0.750534           0.863544   \n",
       "2          -0.791496           0.769845           0.749826           0.864037   \n",
       "3          -0.849768           0.224321           0.690244           0.863572   \n",
       "4          -1.114811           0.533122           0.776586           0.880685   \n",
       "5          -0.940265           0.908956           0.832567           0.869843   \n",
       "6          -1.019460          -5.858813           0.088048          -0.356287   \n",
       "7          -0.924715        -511.369999         -52.481350         -17.894188   \n",
       "8          -2.533707      -28795.299911       -2202.249669        -696.434822   \n",
       "\n",
       "   ...  mean_test_score  std_test_score  rank_test_score  split0_train_score  \\\n",
       "0  ...         0.512328        0.619555                1            0.854966   \n",
       "1  ...         0.478220        0.604111                2            0.854979   \n",
       "2  ...         0.435328        0.619989                4            0.859067   \n",
       "3  ...         0.302272        0.612806                6            0.860222   \n",
       "4  ...         0.344997        0.739232                5            0.902149   \n",
       "5  ...         0.474673        0.710872                3            0.914946   \n",
       "6  ...        -1.387696        2.276596                7            0.916415   \n",
       "7  ...      -121.528189      195.628554                8            0.916924   \n",
       "8  ...     -6342.113547    11255.153527                9            0.920297   \n",
       "\n",
       "   split1_train_score  split2_train_score  split3_train_score  \\\n",
       "0            0.669916            0.714149            0.711040   \n",
       "1            0.669998            0.727116            0.712918   \n",
       "2            0.679721            0.727491            0.712924   \n",
       "3            0.705952            0.733226            0.713374   \n",
       "4            0.708523            0.755324            0.740356   \n",
       "5            0.719592            0.768026            0.761535   \n",
       "6            0.731400            0.775563            0.778905   \n",
       "7            0.757669            0.798109            0.792865   \n",
       "8            0.803296            0.830079            0.820760   \n",
       "\n",
       "   split4_train_score  mean_train_score  std_train_score  \n",
       "0            0.726891          0.735392         0.062772  \n",
       "1            0.750267          0.743056         0.061772  \n",
       "2            0.755843          0.747009         0.061164  \n",
       "3            0.755970          0.753748         0.055995  \n",
       "4            0.758949          0.773060         0.066951  \n",
       "5            0.763675          0.785555         0.067017  \n",
       "6            0.768579          0.794172         0.063432  \n",
       "7            0.818342          0.816782         0.053751  \n",
       "8            0.826116          0.840110         0.041125  \n",
       "\n",
       "[9 rows x 21 columns]"
      ]
     },
     "execution_count": 27,
     "metadata": {},
     "output_type": "execute_result"
    }
   ],
   "source": [
    "df_grid = pd.DataFrame(grid.cv_results_)\n",
    "df_grid"
   ]
  },
  {
   "cell_type": "code",
   "execution_count": 28,
   "metadata": {
    "scrolled": true
   },
   "outputs": [
    {
     "name": "stdout",
     "output_type": "stream",
     "text": [
      "Score with poly features: 0.66\n"
     ]
    }
   ],
   "source": [
    "print(\"Score with poly features: {:.2f}\".format(grid.score(X_test, y_test)))"
   ]
  },
  {
   "cell_type": "markdown",
   "metadata": {},
   "source": [
    "## Using both Size and Bedrooms as features"
   ]
  },
  {
   "cell_type": "code",
   "execution_count": 29,
   "metadata": {},
   "outputs": [],
   "source": [
    "X = housing[[\"Size\",\"Bedrooms\"]]"
   ]
  },
  {
   "cell_type": "code",
   "execution_count": 30,
   "metadata": {},
   "outputs": [
    {
     "data": {
      "text/plain": [
       "(47, 2)"
      ]
     },
     "execution_count": 30,
     "metadata": {},
     "output_type": "execute_result"
    }
   ],
   "source": [
    "X.shape"
   ]
  },
  {
   "cell_type": "code",
   "execution_count": 31,
   "metadata": {},
   "outputs": [],
   "source": [
    "X_train, X_test, y_train, y_test = train_test_split(\n",
    "    X, y, random_state=0)"
   ]
  },
  {
   "cell_type": "code",
   "execution_count": 32,
   "metadata": {},
   "outputs": [
    {
     "data": {
      "text/plain": [
       "GridSearchCV(cv=5, error_score=nan,\n",
       "             estimator=Pipeline(memory=None,\n",
       "                                steps=[('polynomialfeatures',\n",
       "                                        PolynomialFeatures(degree=2,\n",
       "                                                           include_bias=True,\n",
       "                                                           interaction_only=False,\n",
       "                                                           order='C')),\n",
       "                                       ('standardscaler',\n",
       "                                        StandardScaler(copy=True,\n",
       "                                                       with_mean=True,\n",
       "                                                       with_std=True)),\n",
       "                                       ('linearregression',\n",
       "                                        LinearRegression(copy_X=True,\n",
       "                                                         fit_intercept=True,\n",
       "                                                         n_jobs=None,\n",
       "                                                         normalize=False))],\n",
       "                                verbose=False),\n",
       "             iid='deprecated', n_jobs=-1,\n",
       "             param_grid={'polynomialfeatures__degree': range(1, 10)},\n",
       "             pre_dispatch='2*n_jobs', refit=True, return_train_score=True,\n",
       "             scoring=None, verbose=0)"
      ]
     },
     "execution_count": 32,
     "metadata": {},
     "output_type": "execute_result"
    }
   ],
   "source": [
    "pipe = make_pipeline(PolynomialFeatures(), StandardScaler(),LinearRegression())\n",
    "param_grid = {'polynomialfeatures__degree': range(1,10)}\n",
    "\n",
    "grid = GridSearchCV(pipe, param_grid=param_grid, cv=5, n_jobs=-1,return_train_score=True)\n",
    "grid.fit(X_train, y_train)"
   ]
  },
  {
   "cell_type": "code",
   "execution_count": 33,
   "metadata": {},
   "outputs": [
    {
     "data": {
      "text/html": [
       "<div>\n",
       "<style scoped>\n",
       "    .dataframe tbody tr th:only-of-type {\n",
       "        vertical-align: middle;\n",
       "    }\n",
       "\n",
       "    .dataframe tbody tr th {\n",
       "        vertical-align: top;\n",
       "    }\n",
       "\n",
       "    .dataframe thead th {\n",
       "        text-align: right;\n",
       "    }\n",
       "</style>\n",
       "<table border=\"1\" class=\"dataframe\">\n",
       "  <thead>\n",
       "    <tr style=\"text-align: right;\">\n",
       "      <th></th>\n",
       "      <th>mean_fit_time</th>\n",
       "      <th>std_fit_time</th>\n",
       "      <th>mean_score_time</th>\n",
       "      <th>std_score_time</th>\n",
       "      <th>param_polynomialfeatures__degree</th>\n",
       "      <th>params</th>\n",
       "      <th>split0_test_score</th>\n",
       "      <th>split1_test_score</th>\n",
       "      <th>split2_test_score</th>\n",
       "      <th>split3_test_score</th>\n",
       "      <th>...</th>\n",
       "      <th>mean_test_score</th>\n",
       "      <th>std_test_score</th>\n",
       "      <th>rank_test_score</th>\n",
       "      <th>split0_train_score</th>\n",
       "      <th>split1_train_score</th>\n",
       "      <th>split2_train_score</th>\n",
       "      <th>split3_train_score</th>\n",
       "      <th>split4_train_score</th>\n",
       "      <th>mean_train_score</th>\n",
       "      <th>std_train_score</th>\n",
       "    </tr>\n",
       "  </thead>\n",
       "  <tbody>\n",
       "    <tr>\n",
       "      <td>0</td>\n",
       "      <td>0.004237</td>\n",
       "      <td>0.000362</td>\n",
       "      <td>0.001950</td>\n",
       "      <td>0.000280</td>\n",
       "      <td>1</td>\n",
       "      <td>{'polynomialfeatures__degree': 1}</td>\n",
       "      <td>-8.204689e-01</td>\n",
       "      <td>8.506722e-01</td>\n",
       "      <td>8.134016e-01</td>\n",
       "      <td>8.538627e-01</td>\n",
       "      <td>...</td>\n",
       "      <td>4.889328e-01</td>\n",
       "      <td>6.558265e-01</td>\n",
       "      <td>1</td>\n",
       "      <td>0.857734</td>\n",
       "      <td>0.674784</td>\n",
       "      <td>0.714997</td>\n",
       "      <td>0.711121</td>\n",
       "      <td>0.726894</td>\n",
       "      <td>0.737106</td>\n",
       "      <td>0.062775</td>\n",
       "    </tr>\n",
       "    <tr>\n",
       "      <td>1</td>\n",
       "      <td>0.004172</td>\n",
       "      <td>0.000671</td>\n",
       "      <td>0.001541</td>\n",
       "      <td>0.000281</td>\n",
       "      <td>2</td>\n",
       "      <td>{'polynomialfeatures__degree': 2}</td>\n",
       "      <td>-1.031234e+00</td>\n",
       "      <td>7.620897e-01</td>\n",
       "      <td>7.300283e-01</td>\n",
       "      <td>2.202841e-01</td>\n",
       "      <td>...</td>\n",
       "      <td>2.568335e-01</td>\n",
       "      <td>6.722326e-01</td>\n",
       "      <td>2</td>\n",
       "      <td>0.879042</td>\n",
       "      <td>0.703610</td>\n",
       "      <td>0.741765</td>\n",
       "      <td>0.753294</td>\n",
       "      <td>0.760776</td>\n",
       "      <td>0.767697</td>\n",
       "      <td>0.059047</td>\n",
       "    </tr>\n",
       "    <tr>\n",
       "      <td>2</td>\n",
       "      <td>0.003557</td>\n",
       "      <td>0.000112</td>\n",
       "      <td>0.001597</td>\n",
       "      <td>0.000040</td>\n",
       "      <td>3</td>\n",
       "      <td>{'polynomialfeatures__degree': 3}</td>\n",
       "      <td>-1.153439e+00</td>\n",
       "      <td>-5.038197e-01</td>\n",
       "      <td>-7.239624e+00</td>\n",
       "      <td>-1.190932e+01</td>\n",
       "      <td>...</td>\n",
       "      <td>-4.072455e+00</td>\n",
       "      <td>4.756067e+00</td>\n",
       "      <td>3</td>\n",
       "      <td>0.903822</td>\n",
       "      <td>0.774165</td>\n",
       "      <td>0.819209</td>\n",
       "      <td>0.820101</td>\n",
       "      <td>0.808462</td>\n",
       "      <td>0.825152</td>\n",
       "      <td>0.042727</td>\n",
       "    </tr>\n",
       "    <tr>\n",
       "      <td>3</td>\n",
       "      <td>0.004174</td>\n",
       "      <td>0.000782</td>\n",
       "      <td>0.001785</td>\n",
       "      <td>0.000238</td>\n",
       "      <td>4</td>\n",
       "      <td>{'polynomialfeatures__degree': 4}</td>\n",
       "      <td>-5.851855e-01</td>\n",
       "      <td>-3.719491e+01</td>\n",
       "      <td>-6.297802e-01</td>\n",
       "      <td>-4.887213e+01</td>\n",
       "      <td>...</td>\n",
       "      <td>-1.840131e+01</td>\n",
       "      <td>2.050350e+01</td>\n",
       "      <td>4</td>\n",
       "      <td>0.937868</td>\n",
       "      <td>0.831931</td>\n",
       "      <td>0.831366</td>\n",
       "      <td>0.831403</td>\n",
       "      <td>0.845929</td>\n",
       "      <td>0.855699</td>\n",
       "      <td>0.041460</td>\n",
       "    </tr>\n",
       "    <tr>\n",
       "      <td>4</td>\n",
       "      <td>0.003743</td>\n",
       "      <td>0.000180</td>\n",
       "      <td>0.001557</td>\n",
       "      <td>0.000273</td>\n",
       "      <td>5</td>\n",
       "      <td>{'polynomialfeatures__degree': 5}</td>\n",
       "      <td>-2.505531e+00</td>\n",
       "      <td>-8.772106e+02</td>\n",
       "      <td>-6.878596e+03</td>\n",
       "      <td>-4.374917e+02</td>\n",
       "      <td>...</td>\n",
       "      <td>-1.640083e+03</td>\n",
       "      <td>2.639191e+03</td>\n",
       "      <td>5</td>\n",
       "      <td>0.944788</td>\n",
       "      <td>0.842550</td>\n",
       "      <td>0.856839</td>\n",
       "      <td>0.846369</td>\n",
       "      <td>0.846037</td>\n",
       "      <td>0.867317</td>\n",
       "      <td>0.039030</td>\n",
       "    </tr>\n",
       "    <tr>\n",
       "      <td>5</td>\n",
       "      <td>0.003823</td>\n",
       "      <td>0.000034</td>\n",
       "      <td>0.003235</td>\n",
       "      <td>0.003086</td>\n",
       "      <td>6</td>\n",
       "      <td>{'polynomialfeatures__degree': 6}</td>\n",
       "      <td>-2.587872e+02</td>\n",
       "      <td>-1.587509e+04</td>\n",
       "      <td>-4.892915e+08</td>\n",
       "      <td>-1.428847e+05</td>\n",
       "      <td>...</td>\n",
       "      <td>-9.789069e+07</td>\n",
       "      <td>1.957004e+08</td>\n",
       "      <td>6</td>\n",
       "      <td>0.974842</td>\n",
       "      <td>0.848310</td>\n",
       "      <td>0.879708</td>\n",
       "      <td>0.856378</td>\n",
       "      <td>0.859160</td>\n",
       "      <td>0.883679</td>\n",
       "      <td>0.046742</td>\n",
       "    </tr>\n",
       "    <tr>\n",
       "      <td>6</td>\n",
       "      <td>0.003542</td>\n",
       "      <td>0.000578</td>\n",
       "      <td>0.001630</td>\n",
       "      <td>0.000367</td>\n",
       "      <td>7</td>\n",
       "      <td>{'polynomialfeatures__degree': 7}</td>\n",
       "      <td>-2.417269e+03</td>\n",
       "      <td>-6.766899e+04</td>\n",
       "      <td>-8.104193e+08</td>\n",
       "      <td>-2.257032e+06</td>\n",
       "      <td>...</td>\n",
       "      <td>-1.677886e+08</td>\n",
       "      <td>3.214672e+08</td>\n",
       "      <td>7</td>\n",
       "      <td>0.978769</td>\n",
       "      <td>0.849011</td>\n",
       "      <td>0.882730</td>\n",
       "      <td>0.857021</td>\n",
       "      <td>0.861737</td>\n",
       "      <td>0.885854</td>\n",
       "      <td>0.047777</td>\n",
       "    </tr>\n",
       "    <tr>\n",
       "      <td>7</td>\n",
       "      <td>0.003604</td>\n",
       "      <td>0.000592</td>\n",
       "      <td>0.001617</td>\n",
       "      <td>0.000298</td>\n",
       "      <td>8</td>\n",
       "      <td>{'polynomialfeatures__degree': 8}</td>\n",
       "      <td>-3.497950e+04</td>\n",
       "      <td>-1.208679e+11</td>\n",
       "      <td>-1.297844e+09</td>\n",
       "      <td>-5.687590e+09</td>\n",
       "      <td>...</td>\n",
       "      <td>-2.557523e+10</td>\n",
       "      <td>4.769195e+10</td>\n",
       "      <td>8</td>\n",
       "      <td>0.986023</td>\n",
       "      <td>0.865789</td>\n",
       "      <td>0.882744</td>\n",
       "      <td>0.892527</td>\n",
       "      <td>0.866069</td>\n",
       "      <td>0.898630</td>\n",
       "      <td>0.044869</td>\n",
       "    </tr>\n",
       "    <tr>\n",
       "      <td>8</td>\n",
       "      <td>0.004098</td>\n",
       "      <td>0.000504</td>\n",
       "      <td>0.002247</td>\n",
       "      <td>0.000762</td>\n",
       "      <td>9</td>\n",
       "      <td>{'polynomialfeatures__degree': 9}</td>\n",
       "      <td>-3.593583e+06</td>\n",
       "      <td>-1.531240e+11</td>\n",
       "      <td>-4.533819e+10</td>\n",
       "      <td>-1.473644e+10</td>\n",
       "      <td>...</td>\n",
       "      <td>-4.264419e+10</td>\n",
       "      <td>5.766635e+10</td>\n",
       "      <td>9</td>\n",
       "      <td>0.993194</td>\n",
       "      <td>0.868192</td>\n",
       "      <td>0.912035</td>\n",
       "      <td>0.892627</td>\n",
       "      <td>0.897921</td>\n",
       "      <td>0.912794</td>\n",
       "      <td>0.042619</td>\n",
       "    </tr>\n",
       "  </tbody>\n",
       "</table>\n",
       "<p>9 rows × 21 columns</p>\n",
       "</div>"
      ],
      "text/plain": [
       "   mean_fit_time  std_fit_time  mean_score_time  std_score_time  \\\n",
       "0       0.004237      0.000362         0.001950        0.000280   \n",
       "1       0.004172      0.000671         0.001541        0.000281   \n",
       "2       0.003557      0.000112         0.001597        0.000040   \n",
       "3       0.004174      0.000782         0.001785        0.000238   \n",
       "4       0.003743      0.000180         0.001557        0.000273   \n",
       "5       0.003823      0.000034         0.003235        0.003086   \n",
       "6       0.003542      0.000578         0.001630        0.000367   \n",
       "7       0.003604      0.000592         0.001617        0.000298   \n",
       "8       0.004098      0.000504         0.002247        0.000762   \n",
       "\n",
       "  param_polynomialfeatures__degree                             params  \\\n",
       "0                                1  {'polynomialfeatures__degree': 1}   \n",
       "1                                2  {'polynomialfeatures__degree': 2}   \n",
       "2                                3  {'polynomialfeatures__degree': 3}   \n",
       "3                                4  {'polynomialfeatures__degree': 4}   \n",
       "4                                5  {'polynomialfeatures__degree': 5}   \n",
       "5                                6  {'polynomialfeatures__degree': 6}   \n",
       "6                                7  {'polynomialfeatures__degree': 7}   \n",
       "7                                8  {'polynomialfeatures__degree': 8}   \n",
       "8                                9  {'polynomialfeatures__degree': 9}   \n",
       "\n",
       "   split0_test_score  split1_test_score  split2_test_score  split3_test_score  \\\n",
       "0      -8.204689e-01       8.506722e-01       8.134016e-01       8.538627e-01   \n",
       "1      -1.031234e+00       7.620897e-01       7.300283e-01       2.202841e-01   \n",
       "2      -1.153439e+00      -5.038197e-01      -7.239624e+00      -1.190932e+01   \n",
       "3      -5.851855e-01      -3.719491e+01      -6.297802e-01      -4.887213e+01   \n",
       "4      -2.505531e+00      -8.772106e+02      -6.878596e+03      -4.374917e+02   \n",
       "5      -2.587872e+02      -1.587509e+04      -4.892915e+08      -1.428847e+05   \n",
       "6      -2.417269e+03      -6.766899e+04      -8.104193e+08      -2.257032e+06   \n",
       "7      -3.497950e+04      -1.208679e+11      -1.297844e+09      -5.687590e+09   \n",
       "8      -3.593583e+06      -1.531240e+11      -4.533819e+10      -1.473644e+10   \n",
       "\n",
       "   ...  mean_test_score  std_test_score  rank_test_score  split0_train_score  \\\n",
       "0  ...     4.889328e-01    6.558265e-01                1            0.857734   \n",
       "1  ...     2.568335e-01    6.722326e-01                2            0.879042   \n",
       "2  ...    -4.072455e+00    4.756067e+00                3            0.903822   \n",
       "3  ...    -1.840131e+01    2.050350e+01                4            0.937868   \n",
       "4  ...    -1.640083e+03    2.639191e+03                5            0.944788   \n",
       "5  ...    -9.789069e+07    1.957004e+08                6            0.974842   \n",
       "6  ...    -1.677886e+08    3.214672e+08                7            0.978769   \n",
       "7  ...    -2.557523e+10    4.769195e+10                8            0.986023   \n",
       "8  ...    -4.264419e+10    5.766635e+10                9            0.993194   \n",
       "\n",
       "   split1_train_score  split2_train_score  split3_train_score  \\\n",
       "0            0.674784            0.714997            0.711121   \n",
       "1            0.703610            0.741765            0.753294   \n",
       "2            0.774165            0.819209            0.820101   \n",
       "3            0.831931            0.831366            0.831403   \n",
       "4            0.842550            0.856839            0.846369   \n",
       "5            0.848310            0.879708            0.856378   \n",
       "6            0.849011            0.882730            0.857021   \n",
       "7            0.865789            0.882744            0.892527   \n",
       "8            0.868192            0.912035            0.892627   \n",
       "\n",
       "   split4_train_score  mean_train_score  std_train_score  \n",
       "0            0.726894          0.737106         0.062775  \n",
       "1            0.760776          0.767697         0.059047  \n",
       "2            0.808462          0.825152         0.042727  \n",
       "3            0.845929          0.855699         0.041460  \n",
       "4            0.846037          0.867317         0.039030  \n",
       "5            0.859160          0.883679         0.046742  \n",
       "6            0.861737          0.885854         0.047777  \n",
       "7            0.866069          0.898630         0.044869  \n",
       "8            0.897921          0.912794         0.042619  \n",
       "\n",
       "[9 rows x 21 columns]"
      ]
     },
     "execution_count": 33,
     "metadata": {},
     "output_type": "execute_result"
    }
   ],
   "source": [
    "df_grid = pd.DataFrame(grid.cv_results_)\n",
    "df_grid"
   ]
  },
  {
   "cell_type": "code",
   "execution_count": 34,
   "metadata": {},
   "outputs": [
    {
     "name": "stdout",
     "output_type": "stream",
     "text": [
      "Score with poly features: 0.65\n"
     ]
    }
   ],
   "source": [
    "print(\"Score with poly features: {:.2f}\".format(grid.score(X_test, y_test)))"
   ]
  },
  {
   "cell_type": "code",
   "execution_count": null,
   "metadata": {},
   "outputs": [],
   "source": []
  }
 ],
 "metadata": {
  "kernelspec": {
   "display_name": "Python 3",
   "language": "python",
   "name": "python3"
  },
  "language_info": {
   "codemirror_mode": {
    "name": "ipython",
    "version": 3
   },
   "file_extension": ".py",
   "mimetype": "text/x-python",
   "name": "python",
   "nbconvert_exporter": "python",
   "pygments_lexer": "ipython3",
   "version": "3.7.6"
  },
  "nav_menu": {
   "height": "279px",
   "width": "309px"
  },
  "toc": {
   "nav_menu": {},
   "number_sections": true,
   "sideBar": true,
   "skip_h1_title": false,
   "toc_cell": false,
   "toc_position": {},
   "toc_section_display": "block",
   "toc_window_display": false
  }
 },
 "nbformat": 4,
 "nbformat_minor": 4
}
