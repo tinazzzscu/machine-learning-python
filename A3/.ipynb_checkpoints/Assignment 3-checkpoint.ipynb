{
 "cells": [
  {
   "cell_type": "markdown",
   "metadata": {},
   "source": [
    "## Assignment 3 by Group 3"
   ]
  },
  {
   "cell_type": "markdown",
   "metadata": {},
   "source": [
    "#### Team Member: Chuanting Zong, Zizhao Wang, Xinyu Zou"
   ]
  },
  {
   "cell_type": "code",
   "execution_count": 1,
   "metadata": {},
   "outputs": [],
   "source": [
    "import pandas as pd\n",
    "import numpy as np\n",
    "from sklearn.model_selection import train_test_split\n",
    "from sklearn.linear_model import LinearRegression\n",
    "from sklearn.preprocessing import PolynomialFeatures\n",
    "%matplotlib inline\n",
    "import matplotlib.pyplot as plt\n",
    "from sklearn.model_selection import GridSearchCV\n",
    "from sklearn.pipeline import make_pipeline\n",
    "from sklearn.preprocessing import StandardScaler\n",
    "from sklearn.metrics import mean_squared_error, r2_score"
   ]
  },
  {
   "cell_type": "markdown",
   "metadata": {},
   "source": [
    "# 1. Polynomial Regression"
   ]
  },
  {
   "cell_type": "markdown",
   "metadata": {},
   "source": [
    "## A. Split the original data into train-validate set (90%) and test set (10%) using random state = 0."
   ]
  },
  {
   "cell_type": "code",
   "execution_count": 2,
   "metadata": {},
   "outputs": [
    {
     "data": {
      "text/html": [
       "<div>\n",
       "<style scoped>\n",
       "    .dataframe tbody tr th:only-of-type {\n",
       "        vertical-align: middle;\n",
       "    }\n",
       "\n",
       "    .dataframe tbody tr th {\n",
       "        vertical-align: top;\n",
       "    }\n",
       "\n",
       "    .dataframe thead th {\n",
       "        text-align: right;\n",
       "    }\n",
       "</style>\n",
       "<table border=\"1\" class=\"dataframe\">\n",
       "  <thead>\n",
       "    <tr style=\"text-align: right;\">\n",
       "      <th></th>\n",
       "      <th>id</th>\n",
       "      <th>date</th>\n",
       "      <th>price</th>\n",
       "      <th>bedrooms</th>\n",
       "      <th>bathrooms</th>\n",
       "      <th>sqft_living</th>\n",
       "      <th>sqft_lot</th>\n",
       "      <th>floors</th>\n",
       "      <th>waterfront</th>\n",
       "      <th>view</th>\n",
       "      <th>...</th>\n",
       "      <th>grade</th>\n",
       "      <th>sqft_above</th>\n",
       "      <th>sqft_basement</th>\n",
       "      <th>yr_built</th>\n",
       "      <th>yr_renovated</th>\n",
       "      <th>zipcode</th>\n",
       "      <th>lat</th>\n",
       "      <th>long</th>\n",
       "      <th>sqft_living15</th>\n",
       "      <th>sqft_lot15</th>\n",
       "    </tr>\n",
       "  </thead>\n",
       "  <tbody>\n",
       "    <tr>\n",
       "      <th>0</th>\n",
       "      <td>7129300520</td>\n",
       "      <td>20141013T000000</td>\n",
       "      <td>221900</td>\n",
       "      <td>3</td>\n",
       "      <td>1.00</td>\n",
       "      <td>1180</td>\n",
       "      <td>5650</td>\n",
       "      <td>1.0</td>\n",
       "      <td>0</td>\n",
       "      <td>0</td>\n",
       "      <td>...</td>\n",
       "      <td>7</td>\n",
       "      <td>1180</td>\n",
       "      <td>0</td>\n",
       "      <td>1955</td>\n",
       "      <td>0</td>\n",
       "      <td>98178</td>\n",
       "      <td>47.5112</td>\n",
       "      <td>-122.257</td>\n",
       "      <td>1340</td>\n",
       "      <td>5650</td>\n",
       "    </tr>\n",
       "    <tr>\n",
       "      <th>1</th>\n",
       "      <td>6414100192</td>\n",
       "      <td>20141209T000000</td>\n",
       "      <td>538000</td>\n",
       "      <td>3</td>\n",
       "      <td>2.25</td>\n",
       "      <td>2570</td>\n",
       "      <td>7242</td>\n",
       "      <td>2.0</td>\n",
       "      <td>0</td>\n",
       "      <td>0</td>\n",
       "      <td>...</td>\n",
       "      <td>7</td>\n",
       "      <td>2170</td>\n",
       "      <td>400</td>\n",
       "      <td>1951</td>\n",
       "      <td>1991</td>\n",
       "      <td>98125</td>\n",
       "      <td>47.7210</td>\n",
       "      <td>-122.319</td>\n",
       "      <td>1690</td>\n",
       "      <td>7639</td>\n",
       "    </tr>\n",
       "    <tr>\n",
       "      <th>2</th>\n",
       "      <td>5631500400</td>\n",
       "      <td>20150225T000000</td>\n",
       "      <td>180000</td>\n",
       "      <td>2</td>\n",
       "      <td>1.00</td>\n",
       "      <td>770</td>\n",
       "      <td>10000</td>\n",
       "      <td>1.0</td>\n",
       "      <td>0</td>\n",
       "      <td>0</td>\n",
       "      <td>...</td>\n",
       "      <td>6</td>\n",
       "      <td>770</td>\n",
       "      <td>0</td>\n",
       "      <td>1933</td>\n",
       "      <td>0</td>\n",
       "      <td>98028</td>\n",
       "      <td>47.7379</td>\n",
       "      <td>-122.233</td>\n",
       "      <td>2720</td>\n",
       "      <td>8062</td>\n",
       "    </tr>\n",
       "    <tr>\n",
       "      <th>3</th>\n",
       "      <td>2487200875</td>\n",
       "      <td>20141209T000000</td>\n",
       "      <td>604000</td>\n",
       "      <td>4</td>\n",
       "      <td>3.00</td>\n",
       "      <td>1960</td>\n",
       "      <td>5000</td>\n",
       "      <td>1.0</td>\n",
       "      <td>0</td>\n",
       "      <td>0</td>\n",
       "      <td>...</td>\n",
       "      <td>7</td>\n",
       "      <td>1050</td>\n",
       "      <td>910</td>\n",
       "      <td>1965</td>\n",
       "      <td>0</td>\n",
       "      <td>98136</td>\n",
       "      <td>47.5208</td>\n",
       "      <td>-122.393</td>\n",
       "      <td>1360</td>\n",
       "      <td>5000</td>\n",
       "    </tr>\n",
       "    <tr>\n",
       "      <th>4</th>\n",
       "      <td>1954400510</td>\n",
       "      <td>20150218T000000</td>\n",
       "      <td>510000</td>\n",
       "      <td>3</td>\n",
       "      <td>2.00</td>\n",
       "      <td>1680</td>\n",
       "      <td>8080</td>\n",
       "      <td>1.0</td>\n",
       "      <td>0</td>\n",
       "      <td>0</td>\n",
       "      <td>...</td>\n",
       "      <td>8</td>\n",
       "      <td>1680</td>\n",
       "      <td>0</td>\n",
       "      <td>1987</td>\n",
       "      <td>0</td>\n",
       "      <td>98074</td>\n",
       "      <td>47.6168</td>\n",
       "      <td>-122.045</td>\n",
       "      <td>1800</td>\n",
       "      <td>7503</td>\n",
       "    </tr>\n",
       "  </tbody>\n",
       "</table>\n",
       "<p>5 rows × 21 columns</p>\n",
       "</div>"
      ],
      "text/plain": [
       "           id             date   price  bedrooms  bathrooms  sqft_living  \\\n",
       "0  7129300520  20141013T000000  221900         3       1.00         1180   \n",
       "1  6414100192  20141209T000000  538000         3       2.25         2570   \n",
       "2  5631500400  20150225T000000  180000         2       1.00          770   \n",
       "3  2487200875  20141209T000000  604000         4       3.00         1960   \n",
       "4  1954400510  20150218T000000  510000         3       2.00         1680   \n",
       "\n",
       "   sqft_lot  floors  waterfront  view  ...  grade  sqft_above  sqft_basement  \\\n",
       "0      5650     1.0           0     0  ...      7        1180              0   \n",
       "1      7242     2.0           0     0  ...      7        2170            400   \n",
       "2     10000     1.0           0     0  ...      6         770              0   \n",
       "3      5000     1.0           0     0  ...      7        1050            910   \n",
       "4      8080     1.0           0     0  ...      8        1680              0   \n",
       "\n",
       "   yr_built  yr_renovated  zipcode      lat     long  sqft_living15  \\\n",
       "0      1955             0    98178  47.5112 -122.257           1340   \n",
       "1      1951          1991    98125  47.7210 -122.319           1690   \n",
       "2      1933             0    98028  47.7379 -122.233           2720   \n",
       "3      1965             0    98136  47.5208 -122.393           1360   \n",
       "4      1987             0    98074  47.6168 -122.045           1800   \n",
       "\n",
       "   sqft_lot15  \n",
       "0        5650  \n",
       "1        7639  \n",
       "2        8062  \n",
       "3        5000  \n",
       "4        7503  \n",
       "\n",
       "[5 rows x 21 columns]"
      ]
     },
     "execution_count": 2,
     "metadata": {},
     "output_type": "execute_result"
    }
   ],
   "source": [
    "#read the csv file\n",
    "df = pd.read_csv(\"home_data.csv\")\n",
    "df.head()"
   ]
  },
  {
   "cell_type": "code",
   "execution_count": 3,
   "metadata": {},
   "outputs": [],
   "source": [
    "train_val, test_val = train_test_split(df, test_size = 0.1, random_state = 0)"
   ]
  },
  {
   "cell_type": "markdown",
   "metadata": {},
   "source": [
    "## B. Build a polynomial regression model with the degree = 15 using just ‘sqft_living’ on the train-validation set. Remember to run standard scaler to normalize the features before building your model."
   ]
  },
  {
   "cell_type": "code",
   "execution_count": 4,
   "metadata": {},
   "outputs": [],
   "source": [
    "X1 = train_val[['sqft_living']]\n",
    "y1 = train_val['price']"
   ]
  },
  {
   "cell_type": "code",
   "execution_count": 5,
   "metadata": {},
   "outputs": [
    {
     "data": {
      "text/plain": [
       "Pipeline(memory=None,\n",
       "         steps=[('polynomialfeatures',\n",
       "                 PolynomialFeatures(degree=15, include_bias=True,\n",
       "                                    interaction_only=False, order='C')),\n",
       "                ('standardscaler',\n",
       "                 StandardScaler(copy=True, with_mean=True, with_std=True)),\n",
       "                ('linearregression',\n",
       "                 LinearRegression(copy_X=True, fit_intercept=True, n_jobs=None,\n",
       "                                  normalize=False))],\n",
       "         verbose=False)"
      ]
     },
     "execution_count": 5,
     "metadata": {},
     "output_type": "execute_result"
    }
   ],
   "source": [
    "pipe = make_pipeline(PolynomialFeatures(degree=15), StandardScaler(),LinearRegression())\n",
    "pipe.fit(X1, y1)"
   ]
  },
  {
   "cell_type": "markdown",
   "metadata": {},
   "source": [
    "## C. Report the model’s performance on the train-validate set and the test set."
   ]
  },
  {
   "cell_type": "code",
   "execution_count": 6,
   "metadata": {},
   "outputs": [
    {
     "name": "stdout",
     "output_type": "stream",
     "text": [
      "The mean squared error of the train-validate set is 60650725580.54344\n"
     ]
    }
   ],
   "source": [
    "y1_train_val_pred = pipe.predict(X1)\n",
    "train_val_mse = mean_squared_error(y1, y1_train_val_pred)\n",
    "print(\"The mean squared error of the train-validate set is\", train_val_mse)"
   ]
  },
  {
   "cell_type": "code",
   "execution_count": 7,
   "metadata": {},
   "outputs": [],
   "source": [
    "X1_test = test_val[['sqft_living']]\n",
    "y1_test = test_val['price']"
   ]
  },
  {
   "cell_type": "code",
   "execution_count": 8,
   "metadata": {},
   "outputs": [
    {
     "name": "stdout",
     "output_type": "stream",
     "text": [
      "The mean squared error of the test set is 56439443463.06147\n"
     ]
    }
   ],
   "source": [
    "y1_test_pred = pipe.predict(X1_test)\n",
    "test_mse = mean_squared_error(y1_test, y1_test_pred)\n",
    "print(\"The mean squared error of the test set is\", test_mse)"
   ]
  },
  {
   "cell_type": "markdown",
   "metadata": {},
   "source": [
    "# 2. Ridge Regression"
   ]
  },
  {
   "cell_type": "code",
   "execution_count": 9,
   "metadata": {},
   "outputs": [],
   "source": [
    "from sklearn.linear_model import Ridge, LinearRegression, Lasso\n",
    "from sklearn.model_selection import cross_val_score"
   ]
  },
  {
   "cell_type": "markdown",
   "metadata": {},
   "source": [
    "## A. Split the original data into train-validate set (90%) and test set (10%) using random state = 0."
   ]
  },
  {
   "cell_type": "code",
   "execution_count": 10,
   "metadata": {},
   "outputs": [],
   "source": [
    "train_val_data2, test_val_data2 = train_test_split(df, test_size = 0.1, random_state = 0)"
   ]
  },
  {
   "cell_type": "markdown",
   "metadata": {},
   "source": [
    "## B. For each L2_penalty λ in [10^3, 10^3.5, 10^4, 10^4.5, ..., 10^9], use GridSearchCV and 10-fold cross validation to compare the performance of the ridge regression with polynomial degree = 15 using just ‘sqft_living’ on the train-validation set. Remember to run standard scaler to normalize the features before building your model."
   ]
  },
  {
   "cell_type": "code",
   "execution_count": 11,
   "metadata": {},
   "outputs": [
    {
     "data": {
      "text/plain": [
       "GridSearchCV(cv=10, error_score=nan,\n",
       "             estimator=Pipeline(memory=None,\n",
       "                                steps=[('polynomialfeatures',\n",
       "                                        PolynomialFeatures(degree=15,\n",
       "                                                           include_bias=True,\n",
       "                                                           interaction_only=False,\n",
       "                                                           order='C')),\n",
       "                                       ('standardscaler',\n",
       "                                        StandardScaler(copy=True,\n",
       "                                                       with_mean=True,\n",
       "                                                       with_std=True)),\n",
       "                                       ('ridge',\n",
       "                                        Ridge(alpha=1.0, copy_X=True,\n",
       "                                              fit_intercept=True, max_iter=None,\n",
       "                                              normalize=False,\n",
       "                                              random_state=...\n",
       "                                verbose=False),\n",
       "             iid='deprecated', n_jobs=None,\n",
       "             param_grid={'ridge__alpha': array([1.00000000e+03, 3.16227766e+03, 1.00000000e+04, 3.16227766e+04,\n",
       "       1.00000000e+05, 3.16227766e+05, 1.00000000e+06, 3.16227766e+06,\n",
       "       1.00000000e+07, 3.16227766e+07, 1.00000000e+08, 3.16227766e+08,\n",
       "       1.00000000e+09])},\n",
       "             pre_dispatch='2*n_jobs', refit=True, return_train_score=False,\n",
       "             scoring=None, verbose=0)"
      ]
     },
     "execution_count": 11,
     "metadata": {},
     "output_type": "execute_result"
    }
   ],
   "source": [
    "pipe2 = make_pipeline(PolynomialFeatures(degree = 15), StandardScaler(), Ridge())\n",
    "L2_penalty = np.logspace(3, 9, num = 13)\n",
    "param_grid = {'ridge__alpha': L2_penalty}\n",
    "grid_search = GridSearchCV(pipe2, param_grid, cv = 10)\n",
    "grid_search.fit(X1, y1)"
   ]
  },
  {
   "cell_type": "code",
   "execution_count": 12,
   "metadata": {},
   "outputs": [
    {
     "name": "stdout",
     "output_type": "stream",
     "text": [
      "best penalty 1000.0\n",
      "best score 0.535235306124078\n"
     ]
    }
   ],
   "source": [
    "best_L2_penalty = grid_search.best_params_['ridge__alpha']\n",
    "best_score = grid_search.best_score_\n",
    "print('best penalty', best_L2_penalty)\n",
    "print('best score', best_score)"
   ]
  },
  {
   "cell_type": "markdown",
   "metadata": {},
   "source": [
    "## C.Report which L2 penalty λ produced the lowest average validation error. Report the best model’s performance on the test set."
   ]
  },
  {
   "cell_type": "code",
   "execution_count": 13,
   "metadata": {},
   "outputs": [
    {
     "name": "stdout",
     "output_type": "stream",
     "text": [
      "L2 Penalty with Lowest average validation error 1000.0\n",
      "Test Set Performance 0.5108856832219165\n"
     ]
    }
   ],
   "source": [
    "best_model = grid_search.best_estimator_\n",
    "best_L2_penalty = grid_search.best_params_['ridge__alpha']\n",
    "print('L2 Penalty with Lowest average validation error', best_L2_penalty)\n",
    "test_score = best_model.score(X1_test, y1_test)\n",
    "print('Test Set Performance', test_score)"
   ]
  },
  {
   "cell_type": "markdown",
   "metadata": {},
   "source": [
    "# 3. Lasso Regression"
   ]
  },
  {
   "cell_type": "code",
   "execution_count": 14,
   "metadata": {},
   "outputs": [],
   "source": [
    "from math import log, sqrt"
   ]
  },
  {
   "cell_type": "markdown",
   "metadata": {},
   "source": [
    "## Part 1"
   ]
  },
  {
   "cell_type": "markdown",
   "metadata": {},
   "source": [
    "### A. Create new features by performing following transformation on inputs: (assume you have named your data frame “sales”) from math import log, sqrt\n",
    "##### • sales['sqft_living_sqrt'] = sales['sqft_living'].apply(sqrt)\n",
    "##### • sales['sqft_lot_sqrt'] = sales['sqft_lot'].apply(sqrt)\n",
    "##### • sales['bedrooms_square'] = sales['bedrooms']*sales['bedrooms']\n",
    "##### • sales['floors_square'] = sales['floors']*sales['floors']\n",
    "##### • Squaring bedrooms will increase the separation between not many bedrooms (e.g. 1) and lots of bedrooms (e.g. 4) since 1^2 = 1 but 4^2 = 16. Consequently, this variable will mostly affect houses with many bedrooms. On the other hand, taking square root of sqft_living will decrease the separation between big house and small house. The owner may not be exactly twice as happy for getting a house that is twice as big."
   ]
  },
  {
   "cell_type": "code",
   "execution_count": 15,
   "metadata": {},
   "outputs": [],
   "source": [
    "sales = df"
   ]
  },
  {
   "cell_type": "code",
   "execution_count": 16,
   "metadata": {},
   "outputs": [],
   "source": [
    "sales['sqft_living_sqrt'] = sales['sqft_living'].apply(sqrt)"
   ]
  },
  {
   "cell_type": "code",
   "execution_count": 17,
   "metadata": {},
   "outputs": [],
   "source": [
    "sales['sqft_lot_sqrt'] = sales['sqft_lot'].apply(sqrt)"
   ]
  },
  {
   "cell_type": "code",
   "execution_count": 18,
   "metadata": {},
   "outputs": [],
   "source": [
    "sales['bedrooms_square'] = sales['bedrooms'] * sales['bedrooms']"
   ]
  },
  {
   "cell_type": "code",
   "execution_count": 19,
   "metadata": {},
   "outputs": [],
   "source": [
    "sales['floors_square'] = sales['floors'] * sales['floors']"
   ]
  },
  {
   "cell_type": "code",
   "execution_count": 20,
   "metadata": {},
   "outputs": [
    {
     "data": {
      "text/html": [
       "<div>\n",
       "<style scoped>\n",
       "    .dataframe tbody tr th:only-of-type {\n",
       "        vertical-align: middle;\n",
       "    }\n",
       "\n",
       "    .dataframe tbody tr th {\n",
       "        vertical-align: top;\n",
       "    }\n",
       "\n",
       "    .dataframe thead th {\n",
       "        text-align: right;\n",
       "    }\n",
       "</style>\n",
       "<table border=\"1\" class=\"dataframe\">\n",
       "  <thead>\n",
       "    <tr style=\"text-align: right;\">\n",
       "      <th></th>\n",
       "      <th>id</th>\n",
       "      <th>date</th>\n",
       "      <th>price</th>\n",
       "      <th>bedrooms</th>\n",
       "      <th>bathrooms</th>\n",
       "      <th>sqft_living</th>\n",
       "      <th>sqft_lot</th>\n",
       "      <th>floors</th>\n",
       "      <th>waterfront</th>\n",
       "      <th>view</th>\n",
       "      <th>...</th>\n",
       "      <th>yr_renovated</th>\n",
       "      <th>zipcode</th>\n",
       "      <th>lat</th>\n",
       "      <th>long</th>\n",
       "      <th>sqft_living15</th>\n",
       "      <th>sqft_lot15</th>\n",
       "      <th>sqft_living_sqrt</th>\n",
       "      <th>sqft_lot_sqrt</th>\n",
       "      <th>bedrooms_square</th>\n",
       "      <th>floors_square</th>\n",
       "    </tr>\n",
       "  </thead>\n",
       "  <tbody>\n",
       "    <tr>\n",
       "      <th>0</th>\n",
       "      <td>7129300520</td>\n",
       "      <td>20141013T000000</td>\n",
       "      <td>221900</td>\n",
       "      <td>3</td>\n",
       "      <td>1.00</td>\n",
       "      <td>1180</td>\n",
       "      <td>5650</td>\n",
       "      <td>1.0</td>\n",
       "      <td>0</td>\n",
       "      <td>0</td>\n",
       "      <td>...</td>\n",
       "      <td>0</td>\n",
       "      <td>98178</td>\n",
       "      <td>47.5112</td>\n",
       "      <td>-122.257</td>\n",
       "      <td>1340</td>\n",
       "      <td>5650</td>\n",
       "      <td>34.351128</td>\n",
       "      <td>75.166482</td>\n",
       "      <td>9</td>\n",
       "      <td>1.0</td>\n",
       "    </tr>\n",
       "    <tr>\n",
       "      <th>1</th>\n",
       "      <td>6414100192</td>\n",
       "      <td>20141209T000000</td>\n",
       "      <td>538000</td>\n",
       "      <td>3</td>\n",
       "      <td>2.25</td>\n",
       "      <td>2570</td>\n",
       "      <td>7242</td>\n",
       "      <td>2.0</td>\n",
       "      <td>0</td>\n",
       "      <td>0</td>\n",
       "      <td>...</td>\n",
       "      <td>1991</td>\n",
       "      <td>98125</td>\n",
       "      <td>47.7210</td>\n",
       "      <td>-122.319</td>\n",
       "      <td>1690</td>\n",
       "      <td>7639</td>\n",
       "      <td>50.695167</td>\n",
       "      <td>85.099941</td>\n",
       "      <td>9</td>\n",
       "      <td>4.0</td>\n",
       "    </tr>\n",
       "    <tr>\n",
       "      <th>2</th>\n",
       "      <td>5631500400</td>\n",
       "      <td>20150225T000000</td>\n",
       "      <td>180000</td>\n",
       "      <td>2</td>\n",
       "      <td>1.00</td>\n",
       "      <td>770</td>\n",
       "      <td>10000</td>\n",
       "      <td>1.0</td>\n",
       "      <td>0</td>\n",
       "      <td>0</td>\n",
       "      <td>...</td>\n",
       "      <td>0</td>\n",
       "      <td>98028</td>\n",
       "      <td>47.7379</td>\n",
       "      <td>-122.233</td>\n",
       "      <td>2720</td>\n",
       "      <td>8062</td>\n",
       "      <td>27.748874</td>\n",
       "      <td>100.000000</td>\n",
       "      <td>4</td>\n",
       "      <td>1.0</td>\n",
       "    </tr>\n",
       "    <tr>\n",
       "      <th>3</th>\n",
       "      <td>2487200875</td>\n",
       "      <td>20141209T000000</td>\n",
       "      <td>604000</td>\n",
       "      <td>4</td>\n",
       "      <td>3.00</td>\n",
       "      <td>1960</td>\n",
       "      <td>5000</td>\n",
       "      <td>1.0</td>\n",
       "      <td>0</td>\n",
       "      <td>0</td>\n",
       "      <td>...</td>\n",
       "      <td>0</td>\n",
       "      <td>98136</td>\n",
       "      <td>47.5208</td>\n",
       "      <td>-122.393</td>\n",
       "      <td>1360</td>\n",
       "      <td>5000</td>\n",
       "      <td>44.271887</td>\n",
       "      <td>70.710678</td>\n",
       "      <td>16</td>\n",
       "      <td>1.0</td>\n",
       "    </tr>\n",
       "    <tr>\n",
       "      <th>4</th>\n",
       "      <td>1954400510</td>\n",
       "      <td>20150218T000000</td>\n",
       "      <td>510000</td>\n",
       "      <td>3</td>\n",
       "      <td>2.00</td>\n",
       "      <td>1680</td>\n",
       "      <td>8080</td>\n",
       "      <td>1.0</td>\n",
       "      <td>0</td>\n",
       "      <td>0</td>\n",
       "      <td>...</td>\n",
       "      <td>0</td>\n",
       "      <td>98074</td>\n",
       "      <td>47.6168</td>\n",
       "      <td>-122.045</td>\n",
       "      <td>1800</td>\n",
       "      <td>7503</td>\n",
       "      <td>40.987803</td>\n",
       "      <td>89.888820</td>\n",
       "      <td>9</td>\n",
       "      <td>1.0</td>\n",
       "    </tr>\n",
       "  </tbody>\n",
       "</table>\n",
       "<p>5 rows × 25 columns</p>\n",
       "</div>"
      ],
      "text/plain": [
       "           id             date   price  bedrooms  bathrooms  sqft_living  \\\n",
       "0  7129300520  20141013T000000  221900         3       1.00         1180   \n",
       "1  6414100192  20141209T000000  538000         3       2.25         2570   \n",
       "2  5631500400  20150225T000000  180000         2       1.00          770   \n",
       "3  2487200875  20141209T000000  604000         4       3.00         1960   \n",
       "4  1954400510  20150218T000000  510000         3       2.00         1680   \n",
       "\n",
       "   sqft_lot  floors  waterfront  view  ...  yr_renovated  zipcode      lat  \\\n",
       "0      5650     1.0           0     0  ...             0    98178  47.5112   \n",
       "1      7242     2.0           0     0  ...          1991    98125  47.7210   \n",
       "2     10000     1.0           0     0  ...             0    98028  47.7379   \n",
       "3      5000     1.0           0     0  ...             0    98136  47.5208   \n",
       "4      8080     1.0           0     0  ...             0    98074  47.6168   \n",
       "\n",
       "      long  sqft_living15  sqft_lot15  sqft_living_sqrt  sqft_lot_sqrt  \\\n",
       "0 -122.257           1340        5650         34.351128      75.166482   \n",
       "1 -122.319           1690        7639         50.695167      85.099941   \n",
       "2 -122.233           2720        8062         27.748874     100.000000   \n",
       "3 -122.393           1360        5000         44.271887      70.710678   \n",
       "4 -122.045           1800        7503         40.987803      89.888820   \n",
       "\n",
       "   bedrooms_square  floors_square  \n",
       "0                9            1.0  \n",
       "1                9            4.0  \n",
       "2                4            1.0  \n",
       "3               16            1.0  \n",
       "4                9            1.0  \n",
       "\n",
       "[5 rows x 25 columns]"
      ]
     },
     "execution_count": 20,
     "metadata": {},
     "output_type": "execute_result"
    }
   ],
   "source": [
    "sales.head()"
   ]
  },
  {
   "cell_type": "markdown",
   "metadata": {},
   "source": [
    "### B. Split the data into train-validate set (90%) and test set (10%) using random state = 0."
   ]
  },
  {
   "cell_type": "code",
   "execution_count": 21,
   "metadata": {},
   "outputs": [],
   "source": [
    "train_val_data3, test_val_data3 = train_test_split(sales, test_size = 0.1, random_state = 0)"
   ]
  },
  {
   "cell_type": "markdown",
   "metadata": {},
   "source": [
    "### C. Run Lasso regression with λ = 100 using the following features on the train-validate set. Remember to run standard scaler to normalize the features before building your model.\n",
    "##### • ['bedrooms', 'bedrooms_square', 'bathrooms', 'sqft_living', 'sqft_living_sqrt', 'sqft_lot', 'sqft_lot_sqrt', 'floors', 'floors_square', 'waterfront', 'view', 'condition', 'grade', 'sqft_above', 'sqft_basement', 'yr_built', 'yr_renovated']"
   ]
  },
  {
   "cell_type": "code",
   "execution_count": 22,
   "metadata": {},
   "outputs": [],
   "source": [
    "pipe3 = make_pipeline(StandardScaler(), Lasso(alpha = 100))"
   ]
  },
  {
   "cell_type": "code",
   "execution_count": 23,
   "metadata": {},
   "outputs": [],
   "source": [
    "features = ['bedrooms', 'bedrooms_square', 'bathrooms', 'sqft_living', 'sqft_living_sqrt', 'sqft_lot', 'sqft_lot_sqrt', 'floors', 'floors_square', 'waterfront', 'view', 'condition', 'grade', 'sqft_above', 'sqft_basement', 'yr_built', 'yr_renovated']"
   ]
  },
  {
   "cell_type": "code",
   "execution_count": 24,
   "metadata": {},
   "outputs": [],
   "source": [
    "X3 = train_val_data3[features]\n",
    "y3 = train_val_data3['price']"
   ]
  },
  {
   "cell_type": "code",
   "execution_count": 25,
   "metadata": {},
   "outputs": [
    {
     "name": "stderr",
     "output_type": "stream",
     "text": [
      "/Users/xinyu/opt/anaconda3/lib/python3.7/site-packages/sklearn/linear_model/_coordinate_descent.py:476: ConvergenceWarning: Objective did not converge. You might want to increase the number of iterations. Duality gap: 31739768225589.875, tolerance: 266084313197.99127\n",
      "  positive)\n"
     ]
    },
    {
     "data": {
      "text/plain": [
       "Pipeline(memory=None,\n",
       "         steps=[('standardscaler',\n",
       "                 StandardScaler(copy=True, with_mean=True, with_std=True)),\n",
       "                ('lasso',\n",
       "                 Lasso(alpha=100, copy_X=True, fit_intercept=True,\n",
       "                       max_iter=1000, normalize=False, positive=False,\n",
       "                       precompute=False, random_state=None, selection='cyclic',\n",
       "                       tol=0.0001, warm_start=False))],\n",
       "         verbose=False)"
      ]
     },
     "execution_count": 25,
     "metadata": {},
     "output_type": "execute_result"
    }
   ],
   "source": [
    "pipe3.fit(X3, y3)"
   ]
  },
  {
   "cell_type": "markdown",
   "metadata": {},
   "source": [
    "### D. Which features have been chosen by LASSO, i.e., which features were assigned nonzero weights? Report the model’s performance on the test set."
   ]
  },
  {
   "cell_type": "code",
   "execution_count": 26,
   "metadata": {},
   "outputs": [
    {
     "name": "stdout",
     "output_type": "stream",
     "text": [
      "Index(['bedrooms', 'bedrooms_square', 'bathrooms', 'sqft_living',\n",
      "       'sqft_living_sqrt', 'sqft_lot', 'sqft_lot_sqrt', 'floors',\n",
      "       'floors_square', 'waterfront', 'view', 'condition', 'grade',\n",
      "       'sqft_above', 'sqft_basement', 'yr_built', 'yr_renovated'],\n",
      "      dtype='object')\n"
     ]
    }
   ],
   "source": [
    "features_name = X3.columns\n",
    "lasso_coef = pipe3.named_steps['lasso'].coef_\n",
    "chosen_features = features_name[lasso_coef != 0]\n",
    "print(chosen_features)"
   ]
  },
  {
   "cell_type": "code",
   "execution_count": 27,
   "metadata": {},
   "outputs": [
    {
     "name": "stdout",
     "output_type": "stream",
     "text": [
      "The test score is 0.6675816078036093\n"
     ]
    }
   ],
   "source": [
    "X3_test = test_val_data3[features]\n",
    "y3_test = test_val_data3['price']\n",
    "test3_score = pipe3.score(X3_test, y3_test)\n",
    "print('The test score is', test3_score)"
   ]
  },
  {
   "cell_type": "markdown",
   "metadata": {},
   "source": [
    "## Part II (continued from Part I)"
   ]
  },
  {
   "cell_type": "markdown",
   "metadata": {},
   "source": [
    "### A. For each L1_penalty λ in [10^1, 10^1.5, 10^2, 10^2.5, ..., 10^7], use GridSearchCV and 10-fold cross validation to compare the performance of the lasso regression using all the features used in Part 1 on the train-validation set. Remember to run standard scaler to normalize the features."
   ]
  },
  {
   "cell_type": "code",
   "execution_count": 28,
   "metadata": {},
   "outputs": [
    {
     "name": "stderr",
     "output_type": "stream",
     "text": [
      "/Users/xinyu/opt/anaconda3/lib/python3.7/site-packages/sklearn/linear_model/_coordinate_descent.py:476: ConvergenceWarning: Objective did not converge. You might want to increase the number of iterations. Duality gap: 28153312985541.312, tolerance: 244917392984.8637\n",
      "  positive)\n",
      "/Users/xinyu/opt/anaconda3/lib/python3.7/site-packages/sklearn/linear_model/_coordinate_descent.py:476: ConvergenceWarning: Objective did not converge. You might want to increase the number of iterations. Duality gap: 27167692935522.875, tolerance: 232383461502.61545\n",
      "  positive)\n",
      "/Users/xinyu/opt/anaconda3/lib/python3.7/site-packages/sklearn/linear_model/_coordinate_descent.py:476: ConvergenceWarning: Objective did not converge. You might want to increase the number of iterations. Duality gap: 27786800950247.562, tolerance: 230466584206.72815\n",
      "  positive)\n",
      "/Users/xinyu/opt/anaconda3/lib/python3.7/site-packages/sklearn/linear_model/_coordinate_descent.py:476: ConvergenceWarning: Objective did not converge. You might want to increase the number of iterations. Duality gap: 27631610954806.0, tolerance: 241733377540.29907\n",
      "  positive)\n",
      "/Users/xinyu/opt/anaconda3/lib/python3.7/site-packages/sklearn/linear_model/_coordinate_descent.py:476: ConvergenceWarning: Objective did not converge. You might want to increase the number of iterations. Duality gap: 28204927020012.938, tolerance: 247882433303.73877\n",
      "  positive)\n",
      "/Users/xinyu/opt/anaconda3/lib/python3.7/site-packages/sklearn/linear_model/_coordinate_descent.py:476: ConvergenceWarning: Objective did not converge. You might want to increase the number of iterations. Duality gap: 27786209880497.062, tolerance: 236552191433.8933\n",
      "  positive)\n",
      "/Users/xinyu/opt/anaconda3/lib/python3.7/site-packages/sklearn/linear_model/_coordinate_descent.py:476: ConvergenceWarning: Objective did not converge. You might want to increase the number of iterations. Duality gap: 27629775285013.188, tolerance: 236542703539.2496\n",
      "  positive)\n",
      "/Users/xinyu/opt/anaconda3/lib/python3.7/site-packages/sklearn/linear_model/_coordinate_descent.py:476: ConvergenceWarning: Objective did not converge. You might want to increase the number of iterations. Duality gap: 28093211917204.875, tolerance: 239280334342.41696\n",
      "  positive)\n",
      "/Users/xinyu/opt/anaconda3/lib/python3.7/site-packages/sklearn/linear_model/_coordinate_descent.py:476: ConvergenceWarning: Objective did not converge. You might want to increase the number of iterations. Duality gap: 27714649289012.438, tolerance: 239435665582.99042\n",
      "  positive)\n",
      "/Users/xinyu/opt/anaconda3/lib/python3.7/site-packages/sklearn/linear_model/_coordinate_descent.py:476: ConvergenceWarning: Objective did not converge. You might want to increase the number of iterations. Duality gap: 28356106903094.812, tolerance: 245530659923.0067\n",
      "  positive)\n",
      "/Users/xinyu/opt/anaconda3/lib/python3.7/site-packages/sklearn/linear_model/_coordinate_descent.py:476: ConvergenceWarning: Objective did not converge. You might want to increase the number of iterations. Duality gap: 28330110991225.625, tolerance: 244917392984.8637\n",
      "  positive)\n",
      "/Users/xinyu/opt/anaconda3/lib/python3.7/site-packages/sklearn/linear_model/_coordinate_descent.py:476: ConvergenceWarning: Objective did not converge. You might want to increase the number of iterations. Duality gap: 27330189357193.5, tolerance: 232383461502.61545\n",
      "  positive)\n",
      "/Users/xinyu/opt/anaconda3/lib/python3.7/site-packages/sklearn/linear_model/_coordinate_descent.py:476: ConvergenceWarning: Objective did not converge. You might want to increase the number of iterations. Duality gap: 27946805586963.688, tolerance: 230466584206.72815\n",
      "  positive)\n",
      "/Users/xinyu/opt/anaconda3/lib/python3.7/site-packages/sklearn/linear_model/_coordinate_descent.py:476: ConvergenceWarning: Objective did not converge. You might want to increase the number of iterations. Duality gap: 27807138113445.312, tolerance: 241733377540.29907\n",
      "  positive)\n",
      "/Users/xinyu/opt/anaconda3/lib/python3.7/site-packages/sklearn/linear_model/_coordinate_descent.py:476: ConvergenceWarning: Objective did not converge. You might want to increase the number of iterations. Duality gap: 28380450874595.062, tolerance: 247882433303.73877\n",
      "  positive)\n",
      "/Users/xinyu/opt/anaconda3/lib/python3.7/site-packages/sklearn/linear_model/_coordinate_descent.py:476: ConvergenceWarning: Objective did not converge. You might want to increase the number of iterations. Duality gap: 27968320945028.375, tolerance: 236552191433.8933\n",
      "  positive)\n",
      "/Users/xinyu/opt/anaconda3/lib/python3.7/site-packages/sklearn/linear_model/_coordinate_descent.py:476: ConvergenceWarning: Objective did not converge. You might want to increase the number of iterations. Duality gap: 27801252807279.312, tolerance: 236542703539.2496\n",
      "  positive)\n",
      "/Users/xinyu/opt/anaconda3/lib/python3.7/site-packages/sklearn/linear_model/_coordinate_descent.py:476: ConvergenceWarning: Objective did not converge. You might want to increase the number of iterations. Duality gap: 28267436854190.625, tolerance: 239280334342.41696\n",
      "  positive)\n",
      "/Users/xinyu/opt/anaconda3/lib/python3.7/site-packages/sklearn/linear_model/_coordinate_descent.py:476: ConvergenceWarning: Objective did not converge. You might want to increase the number of iterations. Duality gap: 27896377268277.625, tolerance: 239435665582.99042\n",
      "  positive)\n",
      "/Users/xinyu/opt/anaconda3/lib/python3.7/site-packages/sklearn/linear_model/_coordinate_descent.py:476: ConvergenceWarning: Objective did not converge. You might want to increase the number of iterations. Duality gap: 28532247766156.625, tolerance: 245530659923.0067\n",
      "  positive)\n",
      "/Users/xinyu/opt/anaconda3/lib/python3.7/site-packages/sklearn/linear_model/_coordinate_descent.py:476: ConvergenceWarning: Objective did not converge. You might want to increase the number of iterations. Duality gap: 28864545339877.75, tolerance: 244917392984.8637\n",
      "  positive)\n",
      "/Users/xinyu/opt/anaconda3/lib/python3.7/site-packages/sklearn/linear_model/_coordinate_descent.py:476: ConvergenceWarning: Objective did not converge. You might want to increase the number of iterations. Duality gap: 27819027767392.75, tolerance: 232383461502.61545\n",
      "  positive)\n",
      "/Users/xinyu/opt/anaconda3/lib/python3.7/site-packages/sklearn/linear_model/_coordinate_descent.py:476: ConvergenceWarning: Objective did not converge. You might want to increase the number of iterations. Duality gap: 28427354705181.625, tolerance: 230466584206.72815\n",
      "  positive)\n",
      "/Users/xinyu/opt/anaconda3/lib/python3.7/site-packages/sklearn/linear_model/_coordinate_descent.py:476: ConvergenceWarning: Objective did not converge. You might want to increase the number of iterations. Duality gap: 28337340496456.5, tolerance: 241733377540.29907\n",
      "  positive)\n",
      "/Users/xinyu/opt/anaconda3/lib/python3.7/site-packages/sklearn/linear_model/_coordinate_descent.py:476: ConvergenceWarning: Objective did not converge. You might want to increase the number of iterations. Duality gap: 28910828628626.875, tolerance: 247882433303.73877\n",
      "  positive)\n",
      "/Users/xinyu/opt/anaconda3/lib/python3.7/site-packages/sklearn/linear_model/_coordinate_descent.py:476: ConvergenceWarning: Objective did not converge. You might want to increase the number of iterations. Duality gap: 28518542624165.938, tolerance: 236552191433.8933\n",
      "  positive)\n",
      "/Users/xinyu/opt/anaconda3/lib/python3.7/site-packages/sklearn/linear_model/_coordinate_descent.py:476: ConvergenceWarning: Objective did not converge. You might want to increase the number of iterations. Duality gap: 28318538988988.125, tolerance: 236542703539.2496\n",
      "  positive)\n",
      "/Users/xinyu/opt/anaconda3/lib/python3.7/site-packages/sklearn/linear_model/_coordinate_descent.py:476: ConvergenceWarning: Objective did not converge. You might want to increase the number of iterations. Duality gap: 28793370840930.812, tolerance: 239280334342.41696\n",
      "  positive)\n",
      "/Users/xinyu/opt/anaconda3/lib/python3.7/site-packages/sklearn/linear_model/_coordinate_descent.py:476: ConvergenceWarning: Objective did not converge. You might want to increase the number of iterations. Duality gap: 28439543250082.875, tolerance: 239435665582.99042\n",
      "  positive)\n",
      "/Users/xinyu/opt/anaconda3/lib/python3.7/site-packages/sklearn/linear_model/_coordinate_descent.py:476: ConvergenceWarning: Objective did not converge. You might want to increase the number of iterations. Duality gap: 29064389002975.812, tolerance: 245530659923.0067\n",
      "  positive)\n"
     ]
    },
    {
     "name": "stderr",
     "output_type": "stream",
     "text": [
      "/Users/xinyu/opt/anaconda3/lib/python3.7/site-packages/sklearn/linear_model/_coordinate_descent.py:476: ConvergenceWarning: Objective did not converge. You might want to increase the number of iterations. Duality gap: 30306884388373.0, tolerance: 244917392984.8637\n",
      "  positive)\n",
      "/Users/xinyu/opt/anaconda3/lib/python3.7/site-packages/sklearn/linear_model/_coordinate_descent.py:476: ConvergenceWarning: Objective did not converge. You might want to increase the number of iterations. Duality gap: 29113998257753.562, tolerance: 232383461502.61545\n",
      "  positive)\n",
      "/Users/xinyu/opt/anaconda3/lib/python3.7/site-packages/sklearn/linear_model/_coordinate_descent.py:476: ConvergenceWarning: Objective did not converge. You might want to increase the number of iterations. Duality gap: 29691978750215.75, tolerance: 230466584206.72815\n",
      "  positive)\n",
      "/Users/xinyu/opt/anaconda3/lib/python3.7/site-packages/sklearn/linear_model/_coordinate_descent.py:476: ConvergenceWarning: Objective did not converge. You might want to increase the number of iterations. Duality gap: 29763516928908.938, tolerance: 241733377540.29907\n",
      "  positive)\n",
      "/Users/xinyu/opt/anaconda3/lib/python3.7/site-packages/sklearn/linear_model/_coordinate_descent.py:476: ConvergenceWarning: Objective did not converge. You might want to increase the number of iterations. Duality gap: 30340328227766.0, tolerance: 247882433303.73877\n",
      "  positive)\n",
      "/Users/xinyu/opt/anaconda3/lib/python3.7/site-packages/sklearn/linear_model/_coordinate_descent.py:476: ConvergenceWarning: Objective did not converge. You might want to increase the number of iterations. Duality gap: 30002034357438.75, tolerance: 236552191433.8933\n",
      "  positive)\n",
      "/Users/xinyu/opt/anaconda3/lib/python3.7/site-packages/sklearn/linear_model/_coordinate_descent.py:476: ConvergenceWarning: Objective did not converge. You might want to increase the number of iterations. Duality gap: 29702763473685.25, tolerance: 236542703539.2496\n",
      "  positive)\n",
      "/Users/xinyu/opt/anaconda3/lib/python3.7/site-packages/sklearn/linear_model/_coordinate_descent.py:476: ConvergenceWarning: Objective did not converge. You might want to increase the number of iterations. Duality gap: 30204541283021.438, tolerance: 239280334342.41696\n",
      "  positive)\n",
      "/Users/xinyu/opt/anaconda3/lib/python3.7/site-packages/sklearn/linear_model/_coordinate_descent.py:476: ConvergenceWarning: Objective did not converge. You might want to increase the number of iterations. Duality gap: 29854902793196.25, tolerance: 239435665582.99042\n",
      "  positive)\n",
      "/Users/xinyu/opt/anaconda3/lib/python3.7/site-packages/sklearn/linear_model/_coordinate_descent.py:476: ConvergenceWarning: Objective did not converge. You might want to increase the number of iterations. Duality gap: 30497861451933.125, tolerance: 245530659923.0067\n",
      "  positive)\n",
      "/Users/xinyu/opt/anaconda3/lib/python3.7/site-packages/sklearn/linear_model/_coordinate_descent.py:476: ConvergenceWarning: Objective did not converge. You might want to increase the number of iterations. Duality gap: 33294496831737.625, tolerance: 266084313197.99127\n",
      "  positive)\n"
     ]
    },
    {
     "data": {
      "text/plain": [
       "GridSearchCV(cv=10, error_score=nan,\n",
       "             estimator=Pipeline(memory=None,\n",
       "                                steps=[('standardscaler',\n",
       "                                        StandardScaler(copy=True,\n",
       "                                                       with_mean=True,\n",
       "                                                       with_std=True)),\n",
       "                                       ('lasso',\n",
       "                                        Lasso(alpha=1.0, copy_X=True,\n",
       "                                              fit_intercept=True, max_iter=1000,\n",
       "                                              normalize=False, positive=False,\n",
       "                                              precompute=False,\n",
       "                                              random_state=None,\n",
       "                                              selection='cyclic', tol=0.0001,\n",
       "                                              warm_start=False))],\n",
       "                                verbose=False),\n",
       "             iid='deprecated', n_jobs=None,\n",
       "             param_grid={'lasso__alpha': array([1.00000000e+01, 3.16227766e+01, 1.00000000e+02, 3.16227766e+02,\n",
       "       1.00000000e+03, 3.16227766e+03, 1.00000000e+04, 3.16227766e+04,\n",
       "       1.00000000e+05, 3.16227766e+05, 1.00000000e+06, 3.16227766e+06,\n",
       "       1.00000000e+07])},\n",
       "             pre_dispatch='2*n_jobs', refit=True, return_train_score=False,\n",
       "             scoring=None, verbose=0)"
      ]
     },
     "execution_count": 28,
     "metadata": {},
     "output_type": "execute_result"
    }
   ],
   "source": [
    "pipe4 = make_pipeline(StandardScaler(), Lasso())\n",
    "L1_penalty = np.logspace(1, 7, num = 13)\n",
    "param_grid4 = {'lasso__alpha': L1_penalty}\n",
    "grid_search4 = GridSearchCV(pipe4, param_grid4, cv = 10)\n",
    "grid_search4.fit(X3, y3)"
   ]
  },
  {
   "cell_type": "code",
   "execution_count": 29,
   "metadata": {},
   "outputs": [
    {
     "data": {
      "text/html": [
       "<div>\n",
       "<style scoped>\n",
       "    .dataframe tbody tr th:only-of-type {\n",
       "        vertical-align: middle;\n",
       "    }\n",
       "\n",
       "    .dataframe tbody tr th {\n",
       "        vertical-align: top;\n",
       "    }\n",
       "\n",
       "    .dataframe thead th {\n",
       "        text-align: right;\n",
       "    }\n",
       "</style>\n",
       "<table border=\"1\" class=\"dataframe\">\n",
       "  <thead>\n",
       "    <tr style=\"text-align: right;\">\n",
       "      <th></th>\n",
       "      <th>mean_fit_time</th>\n",
       "      <th>std_fit_time</th>\n",
       "      <th>mean_score_time</th>\n",
       "      <th>std_score_time</th>\n",
       "      <th>param_lasso__alpha</th>\n",
       "      <th>params</th>\n",
       "      <th>split0_test_score</th>\n",
       "      <th>split1_test_score</th>\n",
       "      <th>split2_test_score</th>\n",
       "      <th>split3_test_score</th>\n",
       "      <th>split4_test_score</th>\n",
       "      <th>split5_test_score</th>\n",
       "      <th>split6_test_score</th>\n",
       "      <th>split7_test_score</th>\n",
       "      <th>split8_test_score</th>\n",
       "      <th>split9_test_score</th>\n",
       "      <th>mean_test_score</th>\n",
       "      <th>std_test_score</th>\n",
       "      <th>rank_test_score</th>\n",
       "    </tr>\n",
       "  </thead>\n",
       "  <tbody>\n",
       "    <tr>\n",
       "      <th>0</th>\n",
       "      <td>0.149569</td>\n",
       "      <td>0.013569</td>\n",
       "      <td>0.002136</td>\n",
       "      <td>0.000344</td>\n",
       "      <td>10</td>\n",
       "      <td>{'lasso__alpha': 10.0}</td>\n",
       "      <td>0.678670</td>\n",
       "      <td>0.687395</td>\n",
       "      <td>0.730026</td>\n",
       "      <td>0.634527</td>\n",
       "      <td>0.611444</td>\n",
       "      <td>0.690141</td>\n",
       "      <td>0.688474</td>\n",
       "      <td>0.705092</td>\n",
       "      <td>0.605671</td>\n",
       "      <td>0.672450</td>\n",
       "      <td>0.670389</td>\n",
       "      <td>0.038457</td>\n",
       "      <td>5</td>\n",
       "    </tr>\n",
       "    <tr>\n",
       "      <th>1</th>\n",
       "      <td>0.161789</td>\n",
       "      <td>0.070100</td>\n",
       "      <td>0.001972</td>\n",
       "      <td>0.000092</td>\n",
       "      <td>31.6228</td>\n",
       "      <td>{'lasso__alpha': 31.622776601683793}</td>\n",
       "      <td>0.678772</td>\n",
       "      <td>0.687234</td>\n",
       "      <td>0.729825</td>\n",
       "      <td>0.634560</td>\n",
       "      <td>0.611530</td>\n",
       "      <td>0.690293</td>\n",
       "      <td>0.688446</td>\n",
       "      <td>0.705102</td>\n",
       "      <td>0.611657</td>\n",
       "      <td>0.672551</td>\n",
       "      <td>0.670997</td>\n",
       "      <td>0.037433</td>\n",
       "      <td>4</td>\n",
       "    </tr>\n",
       "    <tr>\n",
       "      <th>2</th>\n",
       "      <td>0.142776</td>\n",
       "      <td>0.013274</td>\n",
       "      <td>0.001983</td>\n",
       "      <td>0.000190</td>\n",
       "      <td>100</td>\n",
       "      <td>{'lasso__alpha': 100.0}</td>\n",
       "      <td>0.679078</td>\n",
       "      <td>0.686710</td>\n",
       "      <td>0.729172</td>\n",
       "      <td>0.634652</td>\n",
       "      <td>0.611787</td>\n",
       "      <td>0.690757</td>\n",
       "      <td>0.688347</td>\n",
       "      <td>0.705122</td>\n",
       "      <td>0.629145</td>\n",
       "      <td>0.672850</td>\n",
       "      <td>0.672762</td>\n",
       "      <td>0.034790</td>\n",
       "      <td>3</td>\n",
       "    </tr>\n",
       "    <tr>\n",
       "      <th>3</th>\n",
       "      <td>0.123677</td>\n",
       "      <td>0.011046</td>\n",
       "      <td>0.002049</td>\n",
       "      <td>0.000292</td>\n",
       "      <td>316.228</td>\n",
       "      <td>{'lasso__alpha': 316.22776601683796}</td>\n",
       "      <td>0.679900</td>\n",
       "      <td>0.684931</td>\n",
       "      <td>0.726953</td>\n",
       "      <td>0.634794</td>\n",
       "      <td>0.612441</td>\n",
       "      <td>0.692049</td>\n",
       "      <td>0.687908</td>\n",
       "      <td>0.705047</td>\n",
       "      <td>0.663365</td>\n",
       "      <td>0.673615</td>\n",
       "      <td>0.676100</td>\n",
       "      <td>0.031364</td>\n",
       "      <td>1</td>\n",
       "    </tr>\n",
       "    <tr>\n",
       "      <th>4</th>\n",
       "      <td>0.083811</td>\n",
       "      <td>0.007692</td>\n",
       "      <td>0.001890</td>\n",
       "      <td>0.000251</td>\n",
       "      <td>1000</td>\n",
       "      <td>{'lasso__alpha': 1000.0}</td>\n",
       "      <td>0.681286</td>\n",
       "      <td>0.678821</td>\n",
       "      <td>0.718975</td>\n",
       "      <td>0.634874</td>\n",
       "      <td>0.613219</td>\n",
       "      <td>0.694723</td>\n",
       "      <td>0.685627</td>\n",
       "      <td>0.704325</td>\n",
       "      <td>0.670540</td>\n",
       "      <td>0.674577</td>\n",
       "      <td>0.675697</td>\n",
       "      <td>0.029651</td>\n",
       "      <td>2</td>\n",
       "    </tr>\n",
       "    <tr>\n",
       "      <th>5</th>\n",
       "      <td>0.034544</td>\n",
       "      <td>0.007360</td>\n",
       "      <td>0.001855</td>\n",
       "      <td>0.000367</td>\n",
       "      <td>3162.28</td>\n",
       "      <td>{'lasso__alpha': 3162.2776601683795}</td>\n",
       "      <td>0.677541</td>\n",
       "      <td>0.652537</td>\n",
       "      <td>0.683508</td>\n",
       "      <td>0.630221</td>\n",
       "      <td>0.609755</td>\n",
       "      <td>0.692037</td>\n",
       "      <td>0.670928</td>\n",
       "      <td>0.695949</td>\n",
       "      <td>0.677034</td>\n",
       "      <td>0.668407</td>\n",
       "      <td>0.665792</td>\n",
       "      <td>0.026059</td>\n",
       "      <td>6</td>\n",
       "    </tr>\n",
       "    <tr>\n",
       "      <th>6</th>\n",
       "      <td>0.010908</td>\n",
       "      <td>0.001758</td>\n",
       "      <td>0.001594</td>\n",
       "      <td>0.000284</td>\n",
       "      <td>10000</td>\n",
       "      <td>{'lasso__alpha': 10000.0}</td>\n",
       "      <td>0.659519</td>\n",
       "      <td>0.617632</td>\n",
       "      <td>0.646208</td>\n",
       "      <td>0.614812</td>\n",
       "      <td>0.599915</td>\n",
       "      <td>0.668609</td>\n",
       "      <td>0.643627</td>\n",
       "      <td>0.673933</td>\n",
       "      <td>0.657305</td>\n",
       "      <td>0.648496</td>\n",
       "      <td>0.643006</td>\n",
       "      <td>0.023293</td>\n",
       "      <td>7</td>\n",
       "    </tr>\n",
       "    <tr>\n",
       "      <th>7</th>\n",
       "      <td>0.008829</td>\n",
       "      <td>0.000197</td>\n",
       "      <td>0.001437</td>\n",
       "      <td>0.000042</td>\n",
       "      <td>31622.8</td>\n",
       "      <td>{'lasso__alpha': 31622.776601683792}</td>\n",
       "      <td>0.629680</td>\n",
       "      <td>0.577243</td>\n",
       "      <td>0.600773</td>\n",
       "      <td>0.592229</td>\n",
       "      <td>0.589903</td>\n",
       "      <td>0.626155</td>\n",
       "      <td>0.604008</td>\n",
       "      <td>0.636447</td>\n",
       "      <td>0.617143</td>\n",
       "      <td>0.622736</td>\n",
       "      <td>0.609632</td>\n",
       "      <td>0.018637</td>\n",
       "      <td>8</td>\n",
       "    </tr>\n",
       "    <tr>\n",
       "      <th>8</th>\n",
       "      <td>0.008630</td>\n",
       "      <td>0.000265</td>\n",
       "      <td>0.001423</td>\n",
       "      <td>0.000066</td>\n",
       "      <td>100000</td>\n",
       "      <td>{'lasso__alpha': 100000.0}</td>\n",
       "      <td>0.479916</td>\n",
       "      <td>0.419294</td>\n",
       "      <td>0.432964</td>\n",
       "      <td>0.449339</td>\n",
       "      <td>0.475631</td>\n",
       "      <td>0.446757</td>\n",
       "      <td>0.438549</td>\n",
       "      <td>0.467612</td>\n",
       "      <td>0.440027</td>\n",
       "      <td>0.476490</td>\n",
       "      <td>0.452658</td>\n",
       "      <td>0.019919</td>\n",
       "      <td>9</td>\n",
       "    </tr>\n",
       "    <tr>\n",
       "      <th>9</th>\n",
       "      <td>0.009662</td>\n",
       "      <td>0.001518</td>\n",
       "      <td>0.001640</td>\n",
       "      <td>0.000276</td>\n",
       "      <td>316228</td>\n",
       "      <td>{'lasso__alpha': 316227.7660168379}</td>\n",
       "      <td>-0.002185</td>\n",
       "      <td>-0.002577</td>\n",
       "      <td>-0.000974</td>\n",
       "      <td>-0.000402</td>\n",
       "      <td>-0.002360</td>\n",
       "      <td>-0.000647</td>\n",
       "      <td>-0.000004</td>\n",
       "      <td>-0.000464</td>\n",
       "      <td>-0.000644</td>\n",
       "      <td>-0.005331</td>\n",
       "      <td>-0.001559</td>\n",
       "      <td>0.001525</td>\n",
       "      <td>10</td>\n",
       "    </tr>\n",
       "    <tr>\n",
       "      <th>10</th>\n",
       "      <td>0.008091</td>\n",
       "      <td>0.000365</td>\n",
       "      <td>0.001475</td>\n",
       "      <td>0.000189</td>\n",
       "      <td>1e+06</td>\n",
       "      <td>{'lasso__alpha': 1000000.0}</td>\n",
       "      <td>-0.002185</td>\n",
       "      <td>-0.002577</td>\n",
       "      <td>-0.000974</td>\n",
       "      <td>-0.000402</td>\n",
       "      <td>-0.002360</td>\n",
       "      <td>-0.000647</td>\n",
       "      <td>-0.000004</td>\n",
       "      <td>-0.000464</td>\n",
       "      <td>-0.000644</td>\n",
       "      <td>-0.005331</td>\n",
       "      <td>-0.001559</td>\n",
       "      <td>0.001525</td>\n",
       "      <td>10</td>\n",
       "    </tr>\n",
       "    <tr>\n",
       "      <th>11</th>\n",
       "      <td>0.008149</td>\n",
       "      <td>0.000671</td>\n",
       "      <td>0.001517</td>\n",
       "      <td>0.000250</td>\n",
       "      <td>3.16228e+06</td>\n",
       "      <td>{'lasso__alpha': 3162277.6601683795}</td>\n",
       "      <td>-0.002185</td>\n",
       "      <td>-0.002577</td>\n",
       "      <td>-0.000974</td>\n",
       "      <td>-0.000402</td>\n",
       "      <td>-0.002360</td>\n",
       "      <td>-0.000647</td>\n",
       "      <td>-0.000004</td>\n",
       "      <td>-0.000464</td>\n",
       "      <td>-0.000644</td>\n",
       "      <td>-0.005331</td>\n",
       "      <td>-0.001559</td>\n",
       "      <td>0.001525</td>\n",
       "      <td>10</td>\n",
       "    </tr>\n",
       "    <tr>\n",
       "      <th>12</th>\n",
       "      <td>0.008336</td>\n",
       "      <td>0.000614</td>\n",
       "      <td>0.001483</td>\n",
       "      <td>0.000134</td>\n",
       "      <td>1e+07</td>\n",
       "      <td>{'lasso__alpha': 10000000.0}</td>\n",
       "      <td>-0.002185</td>\n",
       "      <td>-0.002577</td>\n",
       "      <td>-0.000974</td>\n",
       "      <td>-0.000402</td>\n",
       "      <td>-0.002360</td>\n",
       "      <td>-0.000647</td>\n",
       "      <td>-0.000004</td>\n",
       "      <td>-0.000464</td>\n",
       "      <td>-0.000644</td>\n",
       "      <td>-0.005331</td>\n",
       "      <td>-0.001559</td>\n",
       "      <td>0.001525</td>\n",
       "      <td>10</td>\n",
       "    </tr>\n",
       "  </tbody>\n",
       "</table>\n",
       "</div>"
      ],
      "text/plain": [
       "    mean_fit_time  std_fit_time  mean_score_time  std_score_time  \\\n",
       "0        0.149569      0.013569         0.002136        0.000344   \n",
       "1        0.161789      0.070100         0.001972        0.000092   \n",
       "2        0.142776      0.013274         0.001983        0.000190   \n",
       "3        0.123677      0.011046         0.002049        0.000292   \n",
       "4        0.083811      0.007692         0.001890        0.000251   \n",
       "5        0.034544      0.007360         0.001855        0.000367   \n",
       "6        0.010908      0.001758         0.001594        0.000284   \n",
       "7        0.008829      0.000197         0.001437        0.000042   \n",
       "8        0.008630      0.000265         0.001423        0.000066   \n",
       "9        0.009662      0.001518         0.001640        0.000276   \n",
       "10       0.008091      0.000365         0.001475        0.000189   \n",
       "11       0.008149      0.000671         0.001517        0.000250   \n",
       "12       0.008336      0.000614         0.001483        0.000134   \n",
       "\n",
       "   param_lasso__alpha                                params  \\\n",
       "0                  10                {'lasso__alpha': 10.0}   \n",
       "1             31.6228  {'lasso__alpha': 31.622776601683793}   \n",
       "2                 100               {'lasso__alpha': 100.0}   \n",
       "3             316.228  {'lasso__alpha': 316.22776601683796}   \n",
       "4                1000              {'lasso__alpha': 1000.0}   \n",
       "5             3162.28  {'lasso__alpha': 3162.2776601683795}   \n",
       "6               10000             {'lasso__alpha': 10000.0}   \n",
       "7             31622.8  {'lasso__alpha': 31622.776601683792}   \n",
       "8              100000            {'lasso__alpha': 100000.0}   \n",
       "9              316228   {'lasso__alpha': 316227.7660168379}   \n",
       "10              1e+06           {'lasso__alpha': 1000000.0}   \n",
       "11        3.16228e+06  {'lasso__alpha': 3162277.6601683795}   \n",
       "12              1e+07          {'lasso__alpha': 10000000.0}   \n",
       "\n",
       "    split0_test_score  split1_test_score  split2_test_score  \\\n",
       "0            0.678670           0.687395           0.730026   \n",
       "1            0.678772           0.687234           0.729825   \n",
       "2            0.679078           0.686710           0.729172   \n",
       "3            0.679900           0.684931           0.726953   \n",
       "4            0.681286           0.678821           0.718975   \n",
       "5            0.677541           0.652537           0.683508   \n",
       "6            0.659519           0.617632           0.646208   \n",
       "7            0.629680           0.577243           0.600773   \n",
       "8            0.479916           0.419294           0.432964   \n",
       "9           -0.002185          -0.002577          -0.000974   \n",
       "10          -0.002185          -0.002577          -0.000974   \n",
       "11          -0.002185          -0.002577          -0.000974   \n",
       "12          -0.002185          -0.002577          -0.000974   \n",
       "\n",
       "    split3_test_score  split4_test_score  split5_test_score  \\\n",
       "0            0.634527           0.611444           0.690141   \n",
       "1            0.634560           0.611530           0.690293   \n",
       "2            0.634652           0.611787           0.690757   \n",
       "3            0.634794           0.612441           0.692049   \n",
       "4            0.634874           0.613219           0.694723   \n",
       "5            0.630221           0.609755           0.692037   \n",
       "6            0.614812           0.599915           0.668609   \n",
       "7            0.592229           0.589903           0.626155   \n",
       "8            0.449339           0.475631           0.446757   \n",
       "9           -0.000402          -0.002360          -0.000647   \n",
       "10          -0.000402          -0.002360          -0.000647   \n",
       "11          -0.000402          -0.002360          -0.000647   \n",
       "12          -0.000402          -0.002360          -0.000647   \n",
       "\n",
       "    split6_test_score  split7_test_score  split8_test_score  \\\n",
       "0            0.688474           0.705092           0.605671   \n",
       "1            0.688446           0.705102           0.611657   \n",
       "2            0.688347           0.705122           0.629145   \n",
       "3            0.687908           0.705047           0.663365   \n",
       "4            0.685627           0.704325           0.670540   \n",
       "5            0.670928           0.695949           0.677034   \n",
       "6            0.643627           0.673933           0.657305   \n",
       "7            0.604008           0.636447           0.617143   \n",
       "8            0.438549           0.467612           0.440027   \n",
       "9           -0.000004          -0.000464          -0.000644   \n",
       "10          -0.000004          -0.000464          -0.000644   \n",
       "11          -0.000004          -0.000464          -0.000644   \n",
       "12          -0.000004          -0.000464          -0.000644   \n",
       "\n",
       "    split9_test_score  mean_test_score  std_test_score  rank_test_score  \n",
       "0            0.672450         0.670389        0.038457                5  \n",
       "1            0.672551         0.670997        0.037433                4  \n",
       "2            0.672850         0.672762        0.034790                3  \n",
       "3            0.673615         0.676100        0.031364                1  \n",
       "4            0.674577         0.675697        0.029651                2  \n",
       "5            0.668407         0.665792        0.026059                6  \n",
       "6            0.648496         0.643006        0.023293                7  \n",
       "7            0.622736         0.609632        0.018637                8  \n",
       "8            0.476490         0.452658        0.019919                9  \n",
       "9           -0.005331        -0.001559        0.001525               10  \n",
       "10          -0.005331        -0.001559        0.001525               10  \n",
       "11          -0.005331        -0.001559        0.001525               10  \n",
       "12          -0.005331        -0.001559        0.001525               10  "
      ]
     },
     "execution_count": 29,
     "metadata": {},
     "output_type": "execute_result"
    }
   ],
   "source": [
    "result4 = pd.DataFrame(grid_search4.cv_results_)\n",
    "result4"
   ]
  },
  {
   "cell_type": "code",
   "execution_count": 30,
   "metadata": {},
   "outputs": [
    {
     "data": {
      "text/plain": [
       "{'lasso__alpha': 316.22776601683796}"
      ]
     },
     "execution_count": 30,
     "metadata": {},
     "output_type": "execute_result"
    }
   ],
   "source": [
    "grid_search4.best_params_"
   ]
  },
  {
   "cell_type": "code",
   "execution_count": 31,
   "metadata": {},
   "outputs": [
    {
     "data": {
      "text/plain": [
       "0.6761002457176046"
      ]
     },
     "execution_count": 31,
     "metadata": {},
     "output_type": "execute_result"
    }
   ],
   "source": [
    "grid_search4.best_score_"
   ]
  },
  {
   "cell_type": "markdown",
   "metadata": {},
   "source": [
    "### B. Report which L1 penalty λ produced the lowest average validation error. Which features have been chosen by the best model, i.e., which features were assigned nonzero weights? Report the best model’s performance on the test set.\n"
   ]
  },
  {
   "cell_type": "code",
   "execution_count": 34,
   "metadata": {},
   "outputs": [
    {
     "name": "stdout",
     "output_type": "stream",
     "text": [
      "Best L1 Penalty: 316.22776601683796\n",
      "Best Score is: 0.6761002457176046\n"
     ]
    }
   ],
   "source": [
    "best_l1_penalty = grid_search4.best_params_['lasso__alpha']\n",
    "best_score4 = grid_search4.best_score_\n",
    "print(\"Best L1 Penalty:\", best_l1_penalty)\n",
    "print(\"Best Score is:\", best_score4)"
   ]
  },
  {
   "cell_type": "code",
   "execution_count": 35,
   "metadata": {},
   "outputs": [
    {
     "name": "stdout",
     "output_type": "stream",
     "text": [
      "L1 Penalty with Lowest Average Validation Error: 316.22776601683796\n"
     ]
    }
   ],
   "source": [
    "best_model4 = grid_search4.best_estimator_\n",
    "print(\"L1 Penalty with Lowest Average Validation Error:\", best_l1_penalty)"
   ]
  },
  {
   "cell_type": "code",
   "execution_count": 36,
   "metadata": {},
   "outputs": [
    {
     "name": "stdout",
     "output_type": "stream",
     "text": [
      "Index(['bedrooms', 'bedrooms_square', 'bathrooms', 'sqft_living',\n",
      "       'sqft_living_sqrt', 'sqft_lot', 'sqft_lot_sqrt', 'floors',\n",
      "       'floors_square', 'waterfront', 'view', 'condition', 'grade',\n",
      "       'sqft_above', 'sqft_basement', 'yr_built', 'yr_renovated'],\n",
      "      dtype='object')\n",
      "Test Set Performance is: 0.6672079738695584\n"
     ]
    }
   ],
   "source": [
    "lasso_coef4 = best_model4.named_steps['lasso'].coef_\n",
    "chosen_features4 = features_name[lasso_coef4 != 0]\n",
    "print(chosen_features4)\n",
    "test_score4 = best_model4.score(X3_test, y3_test)\n",
    "print(\"Test Set Performance is:\", test_score4)"
   ]
  },
  {
   "cell_type": "code",
   "execution_count": null,
   "metadata": {},
   "outputs": [],
   "source": []
  }
 ],
 "metadata": {
  "kernelspec": {
   "display_name": "Python 3",
   "language": "python",
   "name": "python3"
  },
  "language_info": {
   "codemirror_mode": {
    "name": "ipython",
    "version": 3
   },
   "file_extension": ".py",
   "mimetype": "text/x-python",
   "name": "python",
   "nbconvert_exporter": "python",
   "pygments_lexer": "ipython3",
   "version": "3.7.6"
  }
 },
 "nbformat": 4,
 "nbformat_minor": 4
}
