{
 "cells": [
  {
   "cell_type": "markdown",
   "metadata": {},
   "source": [
    "# Logistic Regression and Linear SVM"
   ]
  },
  {
   "cell_type": "markdown",
   "metadata": {},
   "source": [
    "We will draw couple of plots during the lecture. We activate matplotlib to show the plots inline in the notebook."
   ]
  },
  {
   "cell_type": "code",
   "execution_count": 1,
   "metadata": {},
   "outputs": [],
   "source": [
    "%matplotlib inline\n",
    "import matplotlib.pyplot as plt"
   ]
  },
  {
   "cell_type": "markdown",
   "metadata": {},
   "source": [
    "`scikit-learn` provides state-of-the-art machine learning algorithms. \n",
    "These algorithms, however, cannot be directly used on raw data. Raw data needs to be preprocessed beforehand. Thus, besides machine learning algorithms, `scikit-learn` provides a set of preprocessing methods. Furthermore, `scikit-learn` provides connectors for pipelining these estimators (i.e., transformer, regressor, classifier, clusterer, etc.).\n",
    "\n",
    "In this lecture, we will present the set of `scikit-learn` functionalities allowing for pipelining estimators, evaluating those pipelines, tuning those pipelines using hyper-parameters optimization, and creating complex preprocessing steps."
   ]
  },
  {
   "cell_type": "markdown",
   "metadata": {},
   "source": [
    "## 1. Basic use-case: train and test a classifier"
   ]
  },
  {
   "cell_type": "markdown",
   "metadata": {},
   "source": [
    "For this first example, we will train and test a classifier on a dataset. We will use this example to recall the API of `scikit-learn`."
   ]
  },
  {
   "cell_type": "markdown",
   "metadata": {},
   "source": [
    "We will use the `digits` dataset which is a dataset of hand-written digits."
   ]
  },
  {
   "cell_type": "code",
   "execution_count": 2,
   "metadata": {},
   "outputs": [],
   "source": [
    "from sklearn.datasets import load_digits\n",
    "\n",
    "X, y = load_digits(return_X_y=True)"
   ]
  },
  {
   "cell_type": "markdown",
   "metadata": {},
   "source": [
    "Each row in `X` contains the intensities of the 64 image pixels. For each sample in `X`, we get the ground-truth `y` indicating the digit written."
   ]
  },
  {
   "cell_type": "code",
   "execution_count": 3,
   "metadata": {},
   "outputs": [
    {
     "data": {
      "text/plain": [
       "array([ 0.,  0.,  5., 13.,  9.,  1.,  0.,  0.,  0.,  0., 13., 15., 10.,\n",
       "       15.,  5.,  0.,  0.,  3., 15.,  2.,  0., 11.,  8.,  0.,  0.,  4.,\n",
       "       12.,  0.,  0.,  8.,  8.,  0.,  0.,  5.,  8.,  0.,  0.,  9.,  8.,\n",
       "        0.,  0.,  4., 11.,  0.,  1., 12.,  7.,  0.,  0.,  2., 14.,  5.,\n",
       "       10., 12.,  0.,  0.,  0.,  0.,  6., 13., 10.,  0.,  0.,  0.])"
      ]
     },
     "execution_count": 3,
     "metadata": {},
     "output_type": "execute_result"
    }
   ],
   "source": [
    "X[0]"
   ]
  },
  {
   "cell_type": "code",
   "execution_count": 4,
   "metadata": {},
   "outputs": [
    {
     "name": "stdout",
     "output_type": "stream",
     "text": [
      "The digit in the image is 0\n"
     ]
    },
    {
     "data": {
      "image/png": "[encoded data removed]",
      "text/plain": [
       "<Figure size 432x288 with 1 Axes>"
      ]
     },
     "metadata": {
      "needs_background": "light"
     },
     "output_type": "display_data"
    }
   ],
   "source": [
    "plt.imshow(X[0].reshape(8, 8), cmap='gray');\n",
    "plt.axis('off')\n",
    "print('The digit in the image is {}'.format(y[0]))"
   ]
  },
  {
   "cell_type": "markdown",
   "metadata": {},
   "source": [
    "In machine learning, we should evaluate our model by training and testing it on distinct sets of data. `train_test_split` is a utility function to split the data into two independent sets. The `stratify` parameter enforces the classes distribution of the train and test datasets to be the same than the one of the entire dataset."
   ]
  },
  {
   "cell_type": "code",
   "execution_count": 5,
   "metadata": {},
   "outputs": [],
   "source": [
    "from sklearn.model_selection import train_test_split\n",
    "\n",
    "X_train, X_test, y_train, y_test = train_test_split(X, y, stratify=y, random_state=42)"
   ]
  },
  {
   "cell_type": "markdown",
   "metadata": {},
   "source": [
    "Once we have independent training and testing sets, we can learn a machine learning model using the `fit` method. We will use the `score` method to test this method, relying on the default accuracy metric."
   ]
  },
  {
   "cell_type": "code",
   "execution_count": 6,
   "metadata": {
    "scrolled": true
   },
   "outputs": [
    {
     "name": "stdout",
     "output_type": "stream",
     "text": [
      "Accuracy score of the LogisticRegression is 0.953\n"
     ]
    }
   ],
   "source": [
    "from sklearn.linear_model import LogisticRegression\n",
    "\n",
    "clf = LogisticRegression(solver='lbfgs', C=1.0, multi_class='auto', max_iter=5000, random_state=42)\n",
    "clf.fit(X_train, y_train)\n",
    "accuracy = clf.score(X_test, y_test)\n",
    "print('Accuracy score of the {} is {:.3f}'.format(clf.__class__.__name__, accuracy))"
   ]
  },
  {
   "cell_type": "markdown",
   "metadata": {},
   "source": [
    "Regularization strength increases in $\\lambda$\n",
    "\n",
    "slides: $\\lambda$\n",
    "\n",
    "sklearn:\n",
    "\n",
    "regression: $\\alpha = \\lambda$\n",
    "\n",
    "classification: $C = 1/\\lambda$"
   ]
  },
  {
   "cell_type": "code",
   "execution_count": 7,
   "metadata": {},
   "outputs": [
    {
     "data": {
      "text/plain": [
       "(10, 64)"
      ]
     },
     "execution_count": 7,
     "metadata": {},
     "output_type": "execute_result"
    }
   ],
   "source": [
    "clf.coef_.shape"
   ]
  },
  {
   "cell_type": "code",
   "execution_count": 8,
   "metadata": {},
   "outputs": [
    {
     "data": {
      "text/plain": [
       "array([ 0.00000000e+00, -6.30384001e-03,  2.96004510e-02,  3.88698761e-02,\n",
       "        2.65804007e-02, -6.67178917e-02, -1.31979140e-01, -1.82135723e-02,\n",
       "       -1.15099549e-05, -5.44233636e-02,  3.44053170e-02,  1.81021013e-01,\n",
       "        1.13009846e-02,  6.40923453e-02, -4.69913462e-02, -1.90296785e-02,\n",
       "        9.94271130e-08,  2.83640922e-02,  9.38930527e-02, -5.30103048e-02,\n",
       "       -2.75673390e-01,  4.64541332e-02,  6.24008434e-02, -5.61503459e-03,\n",
       "        4.72715679e-08,  1.24948338e-01,  1.17692512e-01, -1.24176789e-01,\n",
       "       -3.84945462e-01, -1.70700510e-02,  1.07098208e-01, -3.65307049e-05,\n",
       "        0.00000000e+00,  1.70830405e-01,  4.72732710e-02, -1.66551086e-01,\n",
       "       -3.25627688e-01,  7.89617891e-02,  6.21531889e-02,  0.00000000e+00,\n",
       "       -5.88857709e-05,  7.04062544e-03,  1.74078556e-01, -7.00565956e-02,\n",
       "       -1.48926938e-01,  1.14179999e-01,  1.07252007e-02, -6.40960559e-06,\n",
       "       -2.27199611e-04, -6.42472467e-02,  8.46581908e-02, -4.98843857e-02,\n",
       "        1.54396280e-01,  1.51476660e-02, -2.92896631e-03, -1.46347955e-03,\n",
       "        4.88811891e-08, -2.46859478e-03, -1.03652386e-02,  1.04643941e-01,\n",
       "       -5.51373523e-02, -1.51218900e-02, -4.29083262e-02, -6.83342033e-03])"
      ]
     },
     "execution_count": 8,
     "metadata": {},
     "output_type": "execute_result"
    }
   ],
   "source": [
    "clf.coef_[0]"
   ]
  },
  {
   "cell_type": "code",
   "execution_count": 9,
   "metadata": {
    "scrolled": true
   },
   "outputs": [
    {
     "data": {
      "text/plain": [
       "array([  1.8870991 , -10.08535304,   2.26720202,  -3.82055539,\n",
       "        16.13729243,  -4.84851607,   1.55615451,   8.99747188,\n",
       "        -0.95250658, -11.13828885])"
      ]
     },
     "execution_count": 9,
     "metadata": {},
     "output_type": "execute_result"
    }
   ],
   "source": [
    "clf.intercept_"
   ]
  },
  {
   "cell_type": "markdown",
   "metadata": {},
   "source": [
    "The API of `scikit-learn` is consistent across classifiers. Thus, we can easily replace the `LogisticRegression` classifier by a `LinearSVC Classifier`. These changes are minimal and only related to the creation of the classifier instance."
   ]
  },
  {
   "cell_type": "code",
   "execution_count": 10,
   "metadata": {},
   "outputs": [
    {
     "name": "stdout",
     "output_type": "stream",
     "text": [
      "Accuracy score of the LinearSVC is 0.942\n"
     ]
    }
   ],
   "source": [
    "from sklearn.svm import LinearSVC\n",
    "\n",
    "clf = LinearSVC(C=1.0, max_iter=500000)\n",
    "clf.fit(X_train, y_train)\n",
    "accuracy = clf.score(X_test, y_test)\n",
    "print('Accuracy score of the {} is {:.3f}'.format(clf.__class__.__name__, accuracy))"
   ]
  },
  {
   "cell_type": "markdown",
   "metadata": {},
   "source": [
    "## 2. More advanced use-case: preprocess the data before training and testing a classifier"
   ]
  },
  {
   "cell_type": "markdown",
   "metadata": {},
   "source": [
    "### 2.1 Standardize your data"
   ]
  },
  {
   "cell_type": "markdown",
   "metadata": {},
   "source": [
    "Preprocessing might be required before learning a model. For instance, a user could be interested in creating hand-crafted features or an algorithm might make some apriori assumptions about the data. \n",
    "\n",
    "In our case, the solver used by the `LogisticRegression` expects the data to be normalized. Thus, we need to standardize the data before training the model. To observe this necessary condition, we will check the number of iterations required to train the model."
   ]
  },
  {
   "cell_type": "code",
   "execution_count": 11,
   "metadata": {},
   "outputs": [
    {
     "name": "stdout",
     "output_type": "stream",
     "text": [
      "Accuracy score of the LogisticRegression is 0.953\n",
      "LogisticRegression required 2314 iterations to be fitted\n",
      "Accuracy score of the LinearSVC is 0.942\n"
     ]
    }
   ],
   "source": [
    "clf1 = LogisticRegression(solver='lbfgs', multi_class='auto', max_iter=5000, random_state=42)\n",
    "\n",
    "clf1.fit(X_train, y_train)\n",
    "accuracy = clf1.score(X_test, y_test)\n",
    "\n",
    "print('Accuracy score of the {} is {:.3f}'.format(clf1.__class__.__name__, accuracy))\n",
    "print('{} required {} iterations to be fitted'.format(clf1.__class__.__name__, clf1.n_iter_[0]))\n",
    "\n",
    "clf2 = LinearSVC(max_iter=500000)\n",
    "\n",
    "clf2.fit(X_train, y_train)\n",
    "accuracy = clf2.score(X_test, y_test)\n",
    "\n",
    "print('Accuracy score of the {} is {:.3f}'.format(clf2.__class__.__name__, accuracy))"
   ]
  },
  {
   "cell_type": "code",
   "execution_count": 12,
   "metadata": {},
   "outputs": [
    {
     "name": "stdout",
     "output_type": "stream",
     "text": [
      "Accuracy score of the LogisticRegression is 0.962\n",
      "LogisticRegression required 192 iterations to be fitted\n",
      "Accuracy score of the LinearSVC is 0.969\n"
     ]
    }
   ],
   "source": [
    "from sklearn.preprocessing import MinMaxScaler\n",
    "\n",
    "scaler = MinMaxScaler()\n",
    "\n",
    "X_train_scaled = scaler.fit_transform(X_train)\n",
    "\n",
    "# X_train_scaled = scaler.fit(X_train) #find min and max of each feature in the training set\n",
    "\n",
    "# X_train_scaled = scaler.transform(X_train) #normalize the training set (using the min and max found above)\n",
    "\n",
    "X_test_scaled = scaler.transform(X_test) #normalize the testing set (using the min and max found above)\n",
    "\n",
    "clf1.fit(X_train_scaled, y_train)\n",
    "accuracy = clf1.score(X_test_scaled, y_test)\n",
    "print('Accuracy score of the {} is {:.3f}'.format(clf1.__class__.__name__, accuracy))\n",
    "print('{} required {} iterations to be fitted'.format(clf1.__class__.__name__, clf1.n_iter_[0]))\n",
    "\n",
    "clf2.fit(X_train_scaled, y_train)\n",
    "accuracy = clf2.score(X_test_scaled, y_test)\n",
    "print('Accuracy score of the {} is {:.3f}'.format(clf2.__class__.__name__, accuracy))"
   ]
  },
  {
   "cell_type": "code",
   "execution_count": 13,
   "metadata": {
    "scrolled": true
   },
   "outputs": [
    {
     "name": "stdout",
     "output_type": "stream",
     "text": [
      "Accuracy score of the LogisticRegression is 0.978\n",
      "LogisticRegression required 89 iterations to be fitted\n",
      "Accuracy score of the LinearSVC is 0.951\n"
     ]
    }
   ],
   "source": [
    "from sklearn.preprocessing import StandardScaler\n",
    "\n",
    "scaler = StandardScaler()\n",
    "X_train_scaled = scaler.fit_transform(X_train)\n",
    "X_test_scaled = scaler.transform(X_test)\n",
    "\n",
    "clf1.fit(X_train_scaled, y_train)\n",
    "accuracy = clf1.score(X_test_scaled, y_test)\n",
    "print('Accuracy score of the {} is {:.3f}'.format(clf1.__class__.__name__, accuracy))\n",
    "print('{} required {} iterations to be fitted'.format(clf1.__class__.__name__, clf1.n_iter_[0]))\n",
    "\n",
    "clf2.fit(X_train_scaled, y_train)\n",
    "accuracy = clf2.score(X_test_scaled, y_test)\n",
    "print('Accuracy score of the {} is {:.3f}'.format(clf2.__class__.__name__, accuracy))"
   ]
  },
  {
   "cell_type": "markdown",
   "metadata": {},
   "source": [
    "The `MinMaxScaler` and `StandardScaler` transformers are used to normalise the data. Other scalers include `RobustScaler` and `Normalizer`. The scaler should be applied in the following way: learn (i.e., `fit` method) the statistics on a training set and standardize (i.e., `transform` method) both the training and testing sets. Finally, we will train and test the model and the scaled datasets."
   ]
  },
  {
   "cell_type": "markdown",
   "metadata": {},
   "source": [
    "By scaling the data, the convergence of the model happened much faster than with the unscaled data."
   ]
  },
  {
   "cell_type": "markdown",
   "metadata": {},
   "source": [
    "For any feature: \n",
    "\n",
    "MinMaxScaler: (x-min)/(max-min)\n",
    "\n",
    "StandardScaler: (x-mean)/standard deviation;\n",
    "\n",
    "RobustScaler: (x-median)/(75% quantile - 25% quantile)\n",
    "\n",
    "for any observation:\n",
    "Normalizer"
   ]
  },
  {
   "cell_type": "markdown",
   "metadata": {},
   "source": [
    "<img src=\"images/scaler_comparison_scatter.png\">"
   ]
  },
  {
   "cell_type": "markdown",
   "metadata": {},
   "source": [
    "### 2.2 The wrong preprocessing patterns"
   ]
  },
  {
   "cell_type": "markdown",
   "metadata": {},
   "source": [
    "We highlighted how to preprocess and adequately train a machine learning model. It is also interesting to spot what would be the wrong way of preprocessing data. There are two potential mistakes which are easy to make but easy to spot."
   ]
  },
  {
   "cell_type": "markdown",
   "metadata": {},
   "source": [
    "The first pattern is to standardize the data before spliting the full set into training and testing sets."
   ]
  },
  {
   "cell_type": "code",
   "execution_count": 14,
   "metadata": {},
   "outputs": [
    {
     "name": "stdout",
     "output_type": "stream",
     "text": [
      "Accuracy score of the LogisticRegression is 0.962\n"
     ]
    }
   ],
   "source": [
    "scaler = MinMaxScaler()\n",
    "X_scaled = scaler.fit_transform(X)\n",
    "X_train_prescaled, X_test_prescaled, y_train_prescaled, y_test_prescaled = train_test_split(\n",
    "    X_scaled, y, stratify=y, random_state=42)\n",
    "\n",
    "clf = LogisticRegression(solver='lbfgs', multi_class='auto', max_iter=1000, random_state=42)\n",
    "clf.fit(X_train_prescaled, y_train_prescaled)\n",
    "accuracy = clf.score(X_test_prescaled, y_test_prescaled)\n",
    "print('Accuracy score of the {} is {:.3f}'.format(clf.__class__.__name__, accuracy))"
   ]
  },
  {
   "cell_type": "markdown",
   "metadata": {},
   "source": [
    "The second pattern is to standardize the training and testing sets independently. It comes back to call the `fit` methods on both training and testing sets. Thus, the training and testing sets are standardized differently."
   ]
  },
  {
   "cell_type": "code",
   "execution_count": 15,
   "metadata": {},
   "outputs": [
    {
     "name": "stdout",
     "output_type": "stream",
     "text": [
      "Accuracy score of the LogisticRegression is 0.962\n"
     ]
    }
   ],
   "source": [
    "scaler = MinMaxScaler()\n",
    "X_train_prescaled = scaler.fit_transform(X_train)\n",
    "X_test_prescaled = scaler.fit_transform(X_test)\n",
    "\n",
    "clf = LogisticRegression(solver='lbfgs', multi_class='auto', max_iter=1000, random_state=42)\n",
    "clf.fit(X_train_prescaled, y_train)\n",
    "accuracy = clf.score(X_test_prescaled, y_test)\n",
    "print('Accuracy score of the {} is {:.3f}'.format(clf.__class__.__name__, accuracy))"
   ]
  },
  {
   "cell_type": "markdown",
   "metadata": {},
   "source": [
    "<img src=\"images/no_separate_scaling.png\">"
   ]
  },
  {
   "cell_type": "markdown",
   "metadata": {},
   "source": [
    "### 2.3 Keep it simple, stupid: use the pipeline connector from `scikit-learn`"
   ]
  },
  {
   "cell_type": "markdown",
   "metadata": {},
   "source": [
    "The two previous patterns are an issue with data leaking. However, this is difficult to prevent such a mistake when one has to do the preprocessing by hand. "
   ]
  },
  {
   "cell_type": "markdown",
   "metadata": {},
   "source": [
    "Thus, `scikit-learn` introduced the `Pipeline` object. It sequentially connects several transformers and a classifier (or a regressor). We can create a pipeline as:"
   ]
  },
  {
   "cell_type": "code",
   "execution_count": 16,
   "metadata": {},
   "outputs": [],
   "source": [
    "from sklearn.pipeline import Pipeline\n",
    "\n",
    "pipe = Pipeline(steps=[('scaler', MinMaxScaler()),\n",
    "                       ('clf', LogisticRegression(solver='lbfgs', multi_class='auto', random_state=42))])"
   ]
  },
  {
   "cell_type": "markdown",
   "metadata": {},
   "source": [
    "We see that this pipeline contains the parameters of both the scaler and the classifier. The general pipeline can join any number of estimators together. For example, you could build a pipeline containing feature extraction, feature selection, scaling, and classification, for a total of four steps. Similarly, the last step could be regression or clustering instead of classification. \n",
    "\n",
    "Sometimes, it can be tedious to give a name to each estimator in the pipeline. `make_pipeline` will give a name automatically to each estimator which is the lower case of the class name."
   ]
  },
  {
   "cell_type": "code",
   "execution_count": 17,
   "metadata": {},
   "outputs": [],
   "source": [
    "from sklearn.pipeline import make_pipeline\n",
    "pipe = make_pipeline(MinMaxScaler(),\n",
    "                     LogisticRegression(solver='lbfgs', multi_class='auto', random_state=42, max_iter=1000))"
   ]
  },
  {
   "cell_type": "markdown",
   "metadata": {},
   "source": [
    "The pipeline will have an identical API. We use `fit` to train the classifier and `score` to check the accuracy. However, calling `fit` will call the method `fit_transform` of all transformers in the pipeline. Calling `score` (or `predict` and `predict_proba`) will call internally `transform` of all transformers in the pipeline. "
   ]
  },
  {
   "cell_type": "code",
   "execution_count": 18,
   "metadata": {},
   "outputs": [
    {
     "name": "stdout",
     "output_type": "stream",
     "text": [
      "Accuracy score of the Pipeline is 0.962\n"
     ]
    }
   ],
   "source": [
    "pipe.fit(X_train, y_train)\n",
    "accuracy = pipe.score(X_test, y_test)\n",
    "print('Accuracy score of the {} is {:.3f}'.format(pipe.__class__.__name__, accuracy))"
   ]
  },
  {
   "cell_type": "markdown",
   "metadata": {},
   "source": [
    "We can check all the parameters of the pipeline using `get_params()`."
   ]
  },
  {
   "cell_type": "code",
   "execution_count": 19,
   "metadata": {},
   "outputs": [
    {
     "data": {
      "text/plain": [
       "{'memory': None,\n",
       " 'steps': [('minmaxscaler', MinMaxScaler(copy=True, feature_range=(0, 1))),\n",
       "  ('logisticregression',\n",
       "   LogisticRegression(C=1.0, class_weight=None, dual=False, fit_intercept=True,\n",
       "             intercept_scaling=1, max_iter=1000, multi_class='auto',\n",
       "             n_jobs=None, penalty='l2', random_state=42, solver='lbfgs',\n",
       "             tol=0.0001, verbose=0, warm_start=False))],\n",
       " 'minmaxscaler': MinMaxScaler(copy=True, feature_range=(0, 1)),\n",
       " 'logisticregression': LogisticRegression(C=1.0, class_weight=None, dual=False, fit_intercept=True,\n",
       "           intercept_scaling=1, max_iter=1000, multi_class='auto',\n",
       "           n_jobs=None, penalty='l2', random_state=42, solver='lbfgs',\n",
       "           tol=0.0001, verbose=0, warm_start=False),\n",
       " 'minmaxscaler__copy': True,\n",
       " 'minmaxscaler__feature_range': (0, 1),\n",
       " 'logisticregression__C': 1.0,\n",
       " 'logisticregression__class_weight': None,\n",
       " 'logisticregression__dual': False,\n",
       " 'logisticregression__fit_intercept': True,\n",
       " 'logisticregression__intercept_scaling': 1,\n",
       " 'logisticregression__max_iter': 1000,\n",
       " 'logisticregression__multi_class': 'auto',\n",
       " 'logisticregression__n_jobs': None,\n",
       " 'logisticregression__penalty': 'l2',\n",
       " 'logisticregression__random_state': 42,\n",
       " 'logisticregression__solver': 'lbfgs',\n",
       " 'logisticregression__tol': 0.0001,\n",
       " 'logisticregression__verbose': 0,\n",
       " 'logisticregression__warm_start': False}"
      ]
     },
     "execution_count": 19,
     "metadata": {},
     "output_type": "execute_result"
    }
   ],
   "source": [
    "pipe.get_params()"
   ]
  },
  {
   "cell_type": "markdown",
   "metadata": {},
   "source": [
    "## 3 Cross Validation"
   ]
  },
  {
   "cell_type": "markdown",
   "metadata": {},
   "source": [
    "`scikit-learn` provides three functions: `cross_val_score`, `cross_val_predict`, and [`cross_validate`](https://scikit-learn.org/stable/modules/generated/sklearn.model_selection.cross_validate.html). The latter provides more information regarding fitting time, training and testing scores. I can also return multiple scores at once."
   ]
  },
  {
   "cell_type": "code",
   "execution_count": 20,
   "metadata": {},
   "outputs": [],
   "source": [
    "from sklearn.model_selection import cross_validate\n",
    "\n",
    "pipe = make_pipeline(MinMaxScaler(),\n",
    "                     LogisticRegression(solver='lbfgs', multi_class='auto',\n",
    "                                        max_iter=1000, random_state=42))\n",
    "scores = cross_validate(pipe, X, y, cv=3, return_train_score=True)"
   ]
  },
  {
   "cell_type": "markdown",
   "metadata": {},
   "source": [
    "Using the cross-validate function, we can quickly check the training and testing scores and make a quick plot using `pandas`."
   ]
  },
  {
   "cell_type": "code",
   "execution_count": 21,
   "metadata": {},
   "outputs": [
    {
     "data": {
      "text/html": [
       "<div>\n",
       "<style scoped>\n",
       "    .dataframe tbody tr th:only-of-type {\n",
       "        vertical-align: middle;\n",
       "    }\n",
       "\n",
       "    .dataframe tbody tr th {\n",
       "        vertical-align: top;\n",
       "    }\n",
       "\n",
       "    .dataframe thead th {\n",
       "        text-align: right;\n",
       "    }\n",
       "</style>\n",
       "<table border=\"1\" class=\"dataframe\">\n",
       "  <thead>\n",
       "    <tr style=\"text-align: right;\">\n",
       "      <th></th>\n",
       "      <th>fit_time</th>\n",
       "      <th>score_time</th>\n",
       "      <th>test_score</th>\n",
       "      <th>train_score</th>\n",
       "    </tr>\n",
       "  </thead>\n",
       "  <tbody>\n",
       "    <tr>\n",
       "      <th>0</th>\n",
       "      <td>0.140623</td>\n",
       "      <td>0.000998</td>\n",
       "      <td>0.925249</td>\n",
       "      <td>0.988285</td>\n",
       "    </tr>\n",
       "    <tr>\n",
       "      <th>1</th>\n",
       "      <td>0.106717</td>\n",
       "      <td>0.000000</td>\n",
       "      <td>0.943239</td>\n",
       "      <td>0.984975</td>\n",
       "    </tr>\n",
       "    <tr>\n",
       "      <th>2</th>\n",
       "      <td>0.111698</td>\n",
       "      <td>0.000000</td>\n",
       "      <td>0.924497</td>\n",
       "      <td>0.993339</td>\n",
       "    </tr>\n",
       "  </tbody>\n",
       "</table>\n",
       "</div>"
      ],
      "text/plain": [
       "   fit_time  score_time  test_score  train_score\n",
       "0  0.140623    0.000998    0.925249     0.988285\n",
       "1  0.106717    0.000000    0.943239     0.984975\n",
       "2  0.111698    0.000000    0.924497     0.993339"
      ]
     },
     "execution_count": 21,
     "metadata": {},
     "output_type": "execute_result"
    }
   ],
   "source": [
    "import pandas as pd\n",
    "\n",
    "df_scores = pd.DataFrame(scores)\n",
    "df_scores"
   ]
  },
  {
   "cell_type": "code",
   "execution_count": 22,
   "metadata": {},
   "outputs": [
    {
     "name": "stdout",
     "output_type": "stream",
     "text": [
      "Mean times and scores:\n",
      " fit_time       0.119679\n",
      "score_time     0.000333\n",
      "test_score     0.930995\n",
      "train_score    0.988866\n",
      "dtype: float64\n"
     ]
    }
   ],
   "source": [
    "print(\"Mean times and scores:\\n\", df_scores.mean())"
   ]
  },
  {
   "cell_type": "code",
   "execution_count": 23,
   "metadata": {},
   "outputs": [
    {
     "data": {
      "text/plain": [
       "<matplotlib.axes._subplots.AxesSubplot at 0x1c587797be0>"
      ]
     },
     "execution_count": 23,
     "metadata": {},
     "output_type": "execute_result"
    },
    {
     "data": {
      "image/png": "[encoded data removed]",
      "text/plain": [
       "<Figure size 432x288 with 1 Axes>"
      ]
     },
     "metadata": {
      "needs_background": "light"
     },
     "output_type": "display_data"
    }
   ],
   "source": [
    "df_scores[['train_score', 'test_score']].boxplot()"
   ]
  },
  {
   "cell_type": "markdown",
   "metadata": {},
   "source": [
    "## 4. Hyper-parameters optimization: fine-tune the inside of a pipeline using GridSearchCV"
   ]
  },
  {
   "cell_type": "markdown",
   "metadata": {},
   "source": [
    "Sometimes you would like to find the parameters of a component of the pipeline which lead to the best accuracy. We already saw that we could check the parameters of a pipeline using `get_params()`."
   ]
  },
  {
   "cell_type": "code",
   "execution_count": 24,
   "metadata": {},
   "outputs": [
    {
     "data": {
      "text/plain": [
       "{'memory': None,\n",
       " 'steps': [('minmaxscaler', MinMaxScaler(copy=True, feature_range=(0, 1))),\n",
       "  ('logisticregression',\n",
       "   LogisticRegression(C=1.0, class_weight=None, dual=False, fit_intercept=True,\n",
       "             intercept_scaling=1, max_iter=1000, multi_class='auto',\n",
       "             n_jobs=None, penalty='l2', random_state=42, solver='lbfgs',\n",
       "             tol=0.0001, verbose=0, warm_start=False))],\n",
       " 'minmaxscaler': MinMaxScaler(copy=True, feature_range=(0, 1)),\n",
       " 'logisticregression': LogisticRegression(C=1.0, class_weight=None, dual=False, fit_intercept=True,\n",
       "           intercept_scaling=1, max_iter=1000, multi_class='auto',\n",
       "           n_jobs=None, penalty='l2', random_state=42, solver='lbfgs',\n",
       "           tol=0.0001, verbose=0, warm_start=False),\n",
       " 'minmaxscaler__copy': True,\n",
       " 'minmaxscaler__feature_range': (0, 1),\n",
       " 'logisticregression__C': 1.0,\n",
       " 'logisticregression__class_weight': None,\n",
       " 'logisticregression__dual': False,\n",
       " 'logisticregression__fit_intercept': True,\n",
       " 'logisticregression__intercept_scaling': 1,\n",
       " 'logisticregression__max_iter': 1000,\n",
       " 'logisticregression__multi_class': 'auto',\n",
       " 'logisticregression__n_jobs': None,\n",
       " 'logisticregression__penalty': 'l2',\n",
       " 'logisticregression__random_state': 42,\n",
       " 'logisticregression__solver': 'lbfgs',\n",
       " 'logisticregression__tol': 0.0001,\n",
       " 'logisticregression__verbose': 0,\n",
       " 'logisticregression__warm_start': False}"
      ]
     },
     "execution_count": 24,
     "metadata": {},
     "output_type": "execute_result"
    }
   ],
   "source": [
    "pipe.get_params()"
   ]
  },
  {
   "cell_type": "markdown",
   "metadata": {},
   "source": [
    "Hyper-parameters can be optimized by an exhaustive search. [`GridSearchCV`](https://scikit-learn.org/stable/modules/generated/sklearn.model_selection.GridSearchCV.html) provides such utility and does a cross-validated grid-search over a parameter grid.\n",
    "\n",
    "Let's give an example in which we would like to optimize the `C` and `penalty` parameters of the `LogisticRegression` classifier."
   ]
  },
  {
   "cell_type": "code",
   "execution_count": 25,
   "metadata": {},
   "outputs": [
    {
     "data": {
      "text/plain": [
       "GridSearchCV(cv=3, error_score='raise-deprecating',\n",
       "       estimator=Pipeline(memory=None,\n",
       "     steps=[('minmaxscaler', MinMaxScaler(copy=True, feature_range=(0, 1))), ('logisticregression', LogisticRegression(C=1.0, class_weight=None, dual=False, fit_intercept=True,\n",
       "          intercept_scaling=1, max_iter=5000, multi_class='auto',\n",
       "          n_jobs=None, penalty='l2', random_state=42, solver='saga',\n",
       "          tol=0.0001, verbose=0, warm_start=False))]),\n",
       "       fit_params=None, iid='warn', n_jobs=-1,\n",
       "       param_grid={'logisticregression__C': [0.1, 1.0, 10], 'logisticregression__penalty': ['l2', 'l1']},\n",
       "       pre_dispatch='2*n_jobs', refit=True, return_train_score=True,\n",
       "       scoring=None, verbose=0)"
      ]
     },
     "execution_count": 25,
     "metadata": {},
     "output_type": "execute_result"
    }
   ],
   "source": [
    "from sklearn.model_selection import GridSearchCV\n",
    "\n",
    "pipe = make_pipeline(MinMaxScaler(),\n",
    "                     LogisticRegression(solver='saga', multi_class='auto',\n",
    "                                        random_state=42, max_iter=5000))\n",
    "param_grid = {'logisticregression__C': [0.1, 1.0, 10],\n",
    "              'logisticregression__penalty': ['l2', 'l1']}\n",
    "grid = GridSearchCV(pipe, param_grid=param_grid, cv=3, n_jobs=-1, return_train_score=True)\n",
    "grid.fit(X_train, y_train)"
   ]
  },
  {
   "cell_type": "markdown",
   "metadata": {},
   "source": [
    "When fitting the grid-search object, it finds the best possible parameter combination on the training set (using cross-validation). We can introspect the results of the grid-search by accessing the attribute `cv_results_`. It allows us to check the effect of the parameters on the model performance."
   ]
  },
  {
   "cell_type": "code",
   "execution_count": 26,
   "metadata": {},
   "outputs": [
    {
     "data": {
      "text/html": [
       "<div>\n",
       "<style scoped>\n",
       "    .dataframe tbody tr th:only-of-type {\n",
       "        vertical-align: middle;\n",
       "    }\n",
       "\n",
       "    .dataframe tbody tr th {\n",
       "        vertical-align: top;\n",
       "    }\n",
       "\n",
       "    .dataframe thead th {\n",
       "        text-align: right;\n",
       "    }\n",
       "</style>\n",
       "<table border=\"1\" class=\"dataframe\">\n",
       "  <thead>\n",
       "    <tr style=\"text-align: right;\">\n",
       "      <th></th>\n",
       "      <th>mean_fit_time</th>\n",
       "      <th>std_fit_time</th>\n",
       "      <th>mean_score_time</th>\n",
       "      <th>std_score_time</th>\n",
       "      <th>param_logisticregression__C</th>\n",
       "      <th>param_logisticregression__penalty</th>\n",
       "      <th>params</th>\n",
       "      <th>split0_test_score</th>\n",
       "      <th>split1_test_score</th>\n",
       "      <th>split2_test_score</th>\n",
       "      <th>mean_test_score</th>\n",
       "      <th>std_test_score</th>\n",
       "      <th>rank_test_score</th>\n",
       "      <th>split0_train_score</th>\n",
       "      <th>split1_train_score</th>\n",
       "      <th>split2_train_score</th>\n",
       "      <th>mean_train_score</th>\n",
       "      <th>std_train_score</th>\n",
       "    </tr>\n",
       "  </thead>\n",
       "  <tbody>\n",
       "    <tr>\n",
       "      <th>0</th>\n",
       "      <td>0.283754</td>\n",
       "      <td>0.013802</td>\n",
       "      <td>0.005422</td>\n",
       "      <td>2.008389e-03</td>\n",
       "      <td>0.1</td>\n",
       "      <td>l2</td>\n",
       "      <td>{'logisticregression__C': 0.1, 'logisticregres...</td>\n",
       "      <td>0.951542</td>\n",
       "      <td>0.935268</td>\n",
       "      <td>0.941573</td>\n",
       "      <td>0.942836</td>\n",
       "      <td>0.006717</td>\n",
       "      <td>5</td>\n",
       "      <td>0.952968</td>\n",
       "      <td>0.959956</td>\n",
       "      <td>0.952328</td>\n",
       "      <td>0.955084</td>\n",
       "      <td>0.003455</td>\n",
       "    </tr>\n",
       "    <tr>\n",
       "      <th>1</th>\n",
       "      <td>0.750687</td>\n",
       "      <td>0.173824</td>\n",
       "      <td>0.001663</td>\n",
       "      <td>1.695451e-03</td>\n",
       "      <td>0.1</td>\n",
       "      <td>l1</td>\n",
       "      <td>{'logisticregression__C': 0.1, 'logisticregres...</td>\n",
       "      <td>0.885463</td>\n",
       "      <td>0.908482</td>\n",
       "      <td>0.883146</td>\n",
       "      <td>0.892353</td>\n",
       "      <td>0.011425</td>\n",
       "      <td>6</td>\n",
       "      <td>0.905935</td>\n",
       "      <td>0.902113</td>\n",
       "      <td>0.902439</td>\n",
       "      <td>0.903496</td>\n",
       "      <td>0.001730</td>\n",
       "    </tr>\n",
       "    <tr>\n",
       "      <th>2</th>\n",
       "      <td>0.952433</td>\n",
       "      <td>0.017516</td>\n",
       "      <td>0.000998</td>\n",
       "      <td>1.946680e-07</td>\n",
       "      <td>1</td>\n",
       "      <td>l2</td>\n",
       "      <td>{'logisticregression__C': 1.0, 'logisticregres...</td>\n",
       "      <td>0.977974</td>\n",
       "      <td>0.955357</td>\n",
       "      <td>0.957303</td>\n",
       "      <td>0.963623</td>\n",
       "      <td>0.010263</td>\n",
       "      <td>2</td>\n",
       "      <td>0.985442</td>\n",
       "      <td>0.987764</td>\n",
       "      <td>0.986696</td>\n",
       "      <td>0.986634</td>\n",
       "      <td>0.000949</td>\n",
       "    </tr>\n",
       "    <tr>\n",
       "      <th>3</th>\n",
       "      <td>3.679312</td>\n",
       "      <td>1.044898</td>\n",
       "      <td>0.000333</td>\n",
       "      <td>4.704712e-04</td>\n",
       "      <td>1</td>\n",
       "      <td>l1</td>\n",
       "      <td>{'logisticregression__C': 1.0, 'logisticregres...</td>\n",
       "      <td>0.964758</td>\n",
       "      <td>0.950893</td>\n",
       "      <td>0.943820</td>\n",
       "      <td>0.953229</td>\n",
       "      <td>0.008710</td>\n",
       "      <td>4</td>\n",
       "      <td>0.977604</td>\n",
       "      <td>0.977753</td>\n",
       "      <td>0.981153</td>\n",
       "      <td>0.978837</td>\n",
       "      <td>0.001639</td>\n",
       "    </tr>\n",
       "    <tr>\n",
       "      <th>4</th>\n",
       "      <td>2.514586</td>\n",
       "      <td>0.263775</td>\n",
       "      <td>0.000998</td>\n",
       "      <td>5.947204e-07</td>\n",
       "      <td>10</td>\n",
       "      <td>l2</td>\n",
       "      <td>{'logisticregression__C': 10, 'logisticregress...</td>\n",
       "      <td>0.977974</td>\n",
       "      <td>0.962054</td>\n",
       "      <td>0.964045</td>\n",
       "      <td>0.968077</td>\n",
       "      <td>0.007103</td>\n",
       "      <td>1</td>\n",
       "      <td>1.000000</td>\n",
       "      <td>1.000000</td>\n",
       "      <td>1.000000</td>\n",
       "      <td>1.000000</td>\n",
       "      <td>0.000000</td>\n",
       "    </tr>\n",
       "    <tr>\n",
       "      <th>5</th>\n",
       "      <td>9.216869</td>\n",
       "      <td>1.238863</td>\n",
       "      <td>0.000665</td>\n",
       "      <td>4.705279e-04</td>\n",
       "      <td>10</td>\n",
       "      <td>l1</td>\n",
       "      <td>{'logisticregression__C': 10, 'logisticregress...</td>\n",
       "      <td>0.973568</td>\n",
       "      <td>0.957589</td>\n",
       "      <td>0.950562</td>\n",
       "      <td>0.960653</td>\n",
       "      <td>0.009643</td>\n",
       "      <td>3</td>\n",
       "      <td>1.000000</td>\n",
       "      <td>1.000000</td>\n",
       "      <td>1.000000</td>\n",
       "      <td>1.000000</td>\n",
       "      <td>0.000000</td>\n",
       "    </tr>\n",
       "  </tbody>\n",
       "</table>\n",
       "</div>"
      ],
      "text/plain": [
       "   mean_fit_time  std_fit_time  mean_score_time  std_score_time  \\\n",
       "0       0.283754      0.013802         0.005422    2.008389e-03   \n",
       "1       0.750687      0.173824         0.001663    1.695451e-03   \n",
       "2       0.952433      0.017516         0.000998    1.946680e-07   \n",
       "3       3.679312      1.044898         0.000333    4.704712e-04   \n",
       "4       2.514586      0.263775         0.000998    5.947204e-07   \n",
       "5       9.216869      1.238863         0.000665    4.705279e-04   \n",
       "\n",
       "  param_logisticregression__C param_logisticregression__penalty  \\\n",
       "0                         0.1                                l2   \n",
       "1                         0.1                                l1   \n",
       "2                           1                                l2   \n",
       "3                           1                                l1   \n",
       "4                          10                                l2   \n",
       "5                          10                                l1   \n",
       "\n",
       "                                              params  split0_test_score  \\\n",
       "0  {'logisticregression__C': 0.1, 'logisticregres...           0.951542   \n",
       "1  {'logisticregression__C': 0.1, 'logisticregres...           0.885463   \n",
       "2  {'logisticregression__C': 1.0, 'logisticregres...           0.977974   \n",
       "3  {'logisticregression__C': 1.0, 'logisticregres...           0.964758   \n",
       "4  {'logisticregression__C': 10, 'logisticregress...           0.977974   \n",
       "5  {'logisticregression__C': 10, 'logisticregress...           0.973568   \n",
       "\n",
       "   split1_test_score  split2_test_score  mean_test_score  std_test_score  \\\n",
       "0           0.935268           0.941573         0.942836        0.006717   \n",
       "1           0.908482           0.883146         0.892353        0.011425   \n",
       "2           0.955357           0.957303         0.963623        0.010263   \n",
       "3           0.950893           0.943820         0.953229        0.008710   \n",
       "4           0.962054           0.964045         0.968077        0.007103   \n",
       "5           0.957589           0.950562         0.960653        0.009643   \n",
       "\n",
       "   rank_test_score  split0_train_score  split1_train_score  \\\n",
       "0                5            0.952968            0.959956   \n",
       "1                6            0.905935            0.902113   \n",
       "2                2            0.985442            0.987764   \n",
       "3                4            0.977604            0.977753   \n",
       "4                1            1.000000            1.000000   \n",
       "5                3            1.000000            1.000000   \n",
       "\n",
       "   split2_train_score  mean_train_score  std_train_score  \n",
       "0            0.952328          0.955084         0.003455  \n",
       "1            0.902439          0.903496         0.001730  \n",
       "2            0.986696          0.986634         0.000949  \n",
       "3            0.981153          0.978837         0.001639  \n",
       "4            1.000000          1.000000         0.000000  \n",
       "5            1.000000          1.000000         0.000000  "
      ]
     },
     "execution_count": 26,
     "metadata": {},
     "output_type": "execute_result"
    }
   ],
   "source": [
    "df_grid = pd.DataFrame(grid.cv_results_)\n",
    "df_grid"
   ]
  },
  {
   "cell_type": "code",
   "execution_count": 27,
   "metadata": {},
   "outputs": [
    {
     "data": {
      "text/plain": [
       "{'logisticregression__C': [0.1, 1.0, 10],\n",
       " 'logisticregression__penalty': ['l2', 'l1']}"
      ]
     },
     "execution_count": 27,
     "metadata": {},
     "output_type": "execute_result"
    }
   ],
   "source": [
    "param_grid"
   ]
  },
  {
   "cell_type": "code",
   "execution_count": 28,
   "metadata": {},
   "outputs": [],
   "source": [
    "res = pd.pivot_table(pd.DataFrame(grid.cv_results_), values='mean_test_score', index='param_logisticregression__C', columns='param_logisticregression__penalty')\n",
    "pd.set_option(\"display.precision\",3)\n",
    "res = res.set_index(res.index.values.round(4))"
   ]
  },
  {
   "cell_type": "code",
   "execution_count": 29,
   "metadata": {},
   "outputs": [
    {
     "data": {
      "text/html": [
       "<div>\n",
       "<style scoped>\n",
       "    .dataframe tbody tr th:only-of-type {\n",
       "        vertical-align: middle;\n",
       "    }\n",
       "\n",
       "    .dataframe tbody tr th {\n",
       "        vertical-align: top;\n",
       "    }\n",
       "\n",
       "    .dataframe thead th {\n",
       "        text-align: right;\n",
       "    }\n",
       "</style>\n",
       "<table border=\"1\" class=\"dataframe\">\n",
       "  <thead>\n",
       "    <tr style=\"text-align: right;\">\n",
       "      <th>param_logisticregression__penalty</th>\n",
       "      <th>l1</th>\n",
       "      <th>l2</th>\n",
       "    </tr>\n",
       "  </thead>\n",
       "  <tbody>\n",
       "    <tr>\n",
       "      <th>0.1</th>\n",
       "      <td>0.892</td>\n",
       "      <td>0.943</td>\n",
       "    </tr>\n",
       "    <tr>\n",
       "      <th>1.0</th>\n",
       "      <td>0.953</td>\n",
       "      <td>0.964</td>\n",
       "    </tr>\n",
       "    <tr>\n",
       "      <th>10.0</th>\n",
       "      <td>0.961</td>\n",
       "      <td>0.968</td>\n",
       "    </tr>\n",
       "  </tbody>\n",
       "</table>\n",
       "</div>"
      ],
      "text/plain": [
       "param_logisticregression__penalty     l1     l2\n",
       "0.1                                0.892  0.943\n",
       "1.0                                0.953  0.964\n",
       "10.0                               0.961  0.968"
      ]
     },
     "execution_count": 29,
     "metadata": {},
     "output_type": "execute_result"
    }
   ],
   "source": [
    "res"
   ]
  },
  {
   "cell_type": "code",
   "execution_count": 30,
   "metadata": {},
   "outputs": [
    {
     "data": {
      "text/plain": [
       "<matplotlib.axes._subplots.AxesSubplot at 0x1c587a47898>"
      ]
     },
     "execution_count": 30,
     "metadata": {},
     "output_type": "execute_result"
    },
    {
     "data": {
      "image/png": "[encoded data removed]",
      "text/plain": [
       "<Figure size 432x288 with 2 Axes>"
      ]
     },
     "metadata": {
      "needs_background": "light"
     },
     "output_type": "display_data"
    }
   ],
   "source": [
    "import seaborn as sns\n",
    "sns.heatmap(res, annot=True, fmt=\".3g\", vmin=0.6)"
   ]
  },
  {
   "cell_type": "markdown",
   "metadata": {},
   "source": [
    "By default, the grid-search object is also behaving as an estimator. Once it is fitted, calling `score` will fix the hyper-parameters to the best parameters found."
   ]
  },
  {
   "cell_type": "code",
   "execution_count": 31,
   "metadata": {
    "scrolled": true
   },
   "outputs": [
    {
     "data": {
      "text/plain": [
       "{'logisticregression__C': 10, 'logisticregression__penalty': 'l2'}"
      ]
     },
     "execution_count": 31,
     "metadata": {},
     "output_type": "execute_result"
    }
   ],
   "source": [
    "grid.best_params_"
   ]
  },
  {
   "cell_type": "code",
   "execution_count": 32,
   "metadata": {},
   "outputs": [
    {
     "name": "stdout",
     "output_type": "stream",
     "text": [
      "Best estimator:\n",
      "Pipeline(memory=None,\n",
      "     steps=[('minmaxscaler', MinMaxScaler(copy=True, feature_range=(0, 1))), ('logisticregression', LogisticRegression(C=10, class_weight=None, dual=False, fit_intercept=True,\n",
      "          intercept_scaling=1, max_iter=5000, multi_class='auto',\n",
      "          n_jobs=None, penalty='l2', random_state=42, solver='saga',\n",
      "          tol=0.0001, verbose=0, warm_start=False))])\n"
     ]
    }
   ],
   "source": [
    "print(\"Best estimator:\\n{}\".format(grid.best_estimator_))"
   ]
  },
  {
   "cell_type": "code",
   "execution_count": 33,
   "metadata": {},
   "outputs": [
    {
     "name": "stdout",
     "output_type": "stream",
     "text": [
      "Logistic regression step:\n",
      "LogisticRegression(C=10, class_weight=None, dual=False, fit_intercept=True,\n",
      "          intercept_scaling=1, max_iter=5000, multi_class='auto',\n",
      "          n_jobs=None, penalty='l2', random_state=42, solver='saga',\n",
      "          tol=0.0001, verbose=0, warm_start=False)\n"
     ]
    }
   ],
   "source": [
    "print(\"Logistic regression step:\\n{}\".format(\n",
    "      grid.best_estimator_.named_steps[\"logisticregression\"]))"
   ]
  },
  {
   "cell_type": "code",
   "execution_count": 34,
   "metadata": {},
   "outputs": [
    {
     "name": "stdout",
     "output_type": "stream",
     "text": [
      "Logistic regression coefficients:\n",
      "[[ 0.00000000e+00 -1.03876781e-01  9.78175742e-02  6.75104096e-01\n",
      "   1.67449815e-01 -8.91859368e-01 -9.26870306e-01 -1.19321074e-01\n",
      "  -3.68210118e-03 -4.19285459e-01  2.20611842e-01  1.16619671e+00\n",
      "   4.00501029e-01  7.95458012e-01 -3.41012961e-01 -1.47979881e-01\n",
      "  -5.83333273e-06  2.54594401e-01  9.95136382e-01 -4.80175165e-01\n",
      "  -2.19413919e+00  7.85849291e-01  6.03428944e-01 -6.20527350e-02\n",
      "  -5.18594197e-05  1.00543208e+00  1.01228546e+00 -1.16056001e+00\n",
      "  -3.54449354e+00 -1.76728639e-01  1.02753233e+00 -2.66715641e-02\n",
      "   0.00000000e+00  1.50415368e+00  5.88047094e-01 -1.56131655e+00\n",
      "  -2.89806723e+00  3.92655496e-01  7.57661638e-01  0.00000000e+00\n",
      "  -2.68750940e-02  1.01450546e-01  1.65605414e+00 -6.95809252e-01\n",
      "  -1.48416258e+00  8.59487888e-01  3.06213457e-01 -1.40978545e-03\n",
      "  -2.33547147e-02 -5.19665898e-01  7.76694168e-01 -1.88331455e-01\n",
      "   1.00322504e+00  3.70643455e-01 -3.02266038e-01 -3.21687309e-02\n",
      "  -1.61512205e-04 -2.39730524e-02 -1.35409509e-01  8.05202840e-01\n",
      "  -3.39673141e-01 -3.22124584e-01 -5.14446134e-01 -1.04664329e-01]\n",
      " [ 0.00000000e+00 -3.70048795e-02 -2.05991206e-01  8.95989420e-01\n",
      "  -3.76944417e+00  1.83141282e+00  2.96294250e-01 -3.70611650e-02\n",
      "  -1.16166614e-01 -2.42776472e+00 -3.26932681e+00 -8.50610588e-01\n",
      "   8.82638681e-01  1.12271261e+00 -2.02780513e+00 -2.02171641e-02\n",
      "  -1.04428065e-03  9.25474851e-01 -1.21033948e-01  4.39842632e+00\n",
      "   4.04829007e+00 -5.06350439e-01 -1.01422801e-01 -2.20947825e-02\n",
      "  -3.11649700e-01 -4.98208735e-01  8.76759052e-01  1.72751180e+00\n",
      "   9.53999084e-01  4.75914573e-01  5.50584136e-02 -1.45595627e-03\n",
      "   0.00000000e+00  2.93060263e-01  7.86741438e-01 -7.04988923e-01\n",
      "   6.68214360e-01  5.41060081e-01 -9.13780570e-01  0.00000000e+00\n",
      "  -4.44240403e-03 -1.34613191e+00  1.60078549e-01  1.28130333e+00\n",
      "   1.25769010e+00 -1.49894722e+00 -2.18625454e+00 -3.20253025e-02\n",
      "  -6.04963251e-03 -1.06762323e+00 -1.04544010e+00  1.07010512e+00\n",
      "   2.21627448e+00 -7.10804230e-01 -7.05997590e-01  1.35685126e+00\n",
      "  -1.56513331e-02  3.84787367e-02 -1.38508394e+00 -1.61373245e-01\n",
      "   3.61139230e-01  1.81827801e+00  1.99810027e+00  1.80573540e+00]\n",
      " [ 0.00000000e+00  2.55328808e-01  3.29436713e-01  4.42730278e-01\n",
      "   4.09959509e-01 -2.26342092e-01 -2.18145384e-01 -6.54273017e-03\n",
      "  -2.56203518e-02  1.86901784e+00  2.23627564e-01 -1.26643726e+00\n",
      "   1.51293062e+00  1.60079710e-01 -5.52245006e-02 -2.02952332e-02\n",
      "   1.54694451e-01 -1.35613989e-01 -8.83443566e-01 -1.53954839e+00\n",
      "   1.52942095e+00 -3.65858784e-01  1.05922642e+00 -3.05566709e-04\n",
      "  -1.04151136e-05 -1.07067309e+00 -3.77202583e+00 -3.30544824e+00\n",
      "  -1.78775194e+00  5.68392544e-02  2.64043639e-01 -1.04201066e-04\n",
      "   0.00000000e+00 -1.11125791e+00 -2.47049315e+00 -8.11440900e-01\n",
      "  -6.20663727e-02 -1.56353795e+00 -1.66238287e+00  0.00000000e+00\n",
      "  -7.53996292e-05  7.15167493e-01  3.62192449e-01  3.07771423e+00\n",
      "  -2.17805217e+00 -2.38387412e+00 -1.20292899e+00  1.18405509e-01\n",
      "   4.37023773e-02  7.70018349e-01  5.50961717e-01  3.59354837e+00\n",
      "   2.36276396e+00  2.65757174e+00  1.01665020e+00  4.82477054e-01\n",
      "   1.16721633e-01  4.28495857e-01  1.17673513e+00  6.71745032e-01\n",
      "   2.02310371e-01  1.78634915e+00  2.42394027e+00  9.30938046e-01]\n",
      " [ 0.00000000e+00  1.14587543e+00 -8.80408398e-01  5.77641319e-01\n",
      "   3.23390278e+00  1.21621320e+00  1.37603671e-03 -3.44414273e-03\n",
      "  -9.49505967e-02  7.74224597e-01  1.04204875e+00  3.93038567e-01\n",
      "   1.35494200e+00  9.51762509e-01  1.35103955e+00 -1.76080234e-01\n",
      "  -1.44230586e-01 -3.74993595e-01 -2.73016620e+00 -3.26641625e+00\n",
      "   5.57624732e-01 -1.34626372e+00  9.56213839e-02 -2.17344911e-02\n",
      "  -7.23120444e-06 -1.22909503e+00 -3.35608884e+00 -9.79612560e-01\n",
      "   1.97407989e+00 -3.12051667e+00 -2.23701676e+00 -2.40056372e-04\n",
      "   0.00000000e+00 -8.14940143e-01 -1.37171355e+00  4.43384520e-01\n",
      "   9.22397916e-01 -3.94884614e-01 -1.66105209e-01  0.00000000e+00\n",
      "  -1.91446898e-05 -4.17120623e-01 -2.19998115e+00 -3.41662831e+00\n",
      "   1.11030986e+00  1.88419588e+00  2.03296656e+00 -9.94209500e-02\n",
      "  -7.13534248e-05 -3.85484817e-01 -3.14005869e-01 -1.53145046e+00\n",
      "   5.15437204e-01  1.93137173e+00  2.40714631e+00 -6.87493679e-01\n",
      "  -1.60928958e-04  6.58690970e-01  1.61938927e+00  5.10943434e-01\n",
      "   5.34384907e-01 -2.82586012e-02  1.15610708e-01 -1.07682810e+00]\n",
      " [ 0.00000000e+00 -4.83074694e-01 -1.28208395e+00 -3.16000697e+00\n",
      "  -2.15275242e+00 -2.46793390e+00 -1.44475757e+00 -2.54104759e-02\n",
      "  -1.59801512e-02  3.02410455e-01 -1.39953885e+00 -1.74903824e+00\n",
      "  -2.63735922e+00 -1.74380031e+00 -1.30291109e+00  2.05858780e-01\n",
      "  -7.81650923e-06  4.71626542e-02  1.01847750e+00  4.75451480e-01\n",
      "   1.46407280e-01  6.73457097e-01 -5.63833320e-01  4.11410351e-01\n",
      "   5.54114134e-01  5.94449959e-01  2.67809253e+00  2.19746439e-01\n",
      "   2.20205028e-03  9.88198597e-02  2.77532153e+00  2.27129358e-01\n",
      "   0.00000000e+00  1.14010322e+00  9.13265418e-01 -6.24393168e-01\n",
      "   1.36684284e+00  1.83849331e+00  2.64877303e+00  0.00000000e+00\n",
      "   7.99209191e-02  2.95862055e+00 -6.16274960e-02  3.58424472e+00\n",
      "   2.11048777e+00  2.23623731e-01  4.35972980e-01 -1.95637898e-02\n",
      "   3.14679238e-02  1.22933335e+00 -1.24158525e+00  1.62355173e-01\n",
      "   4.12201857e-01 -2.26843191e+00 -2.01245982e+00 -6.02650743e-02\n",
      "  -4.90352613e-03 -2.95982540e-01 -5.26124029e-01 -2.29478728e+00\n",
      "  -1.35564800e+00 -1.95959461e+00 -7.94151740e-01 -2.97814499e-02]\n",
      " [ 0.00000000e+00  1.09568775e+00  2.63699906e+00 -8.11058838e-01\n",
      "   1.26085351e+00  1.97263146e+00  2.34898839e+00 -5.11740939e-01\n",
      "   1.53698000e-02  1.53682264e-02  1.91203452e+00  1.28213660e+00\n",
      "   1.75764118e-01 -1.64923717e+00  2.38100820e-01 -2.17968328e-01\n",
      "  -3.99504376e-04  2.56963926e-01  9.38197412e-01  4.80119232e-02\n",
      "  -3.69429035e+00 -3.07887617e+00 -2.98621463e+00 -1.01652650e-01\n",
      "  -2.20904090e-01  1.37944661e+00  1.61509726e+00 -8.50223378e-01\n",
      "   1.78408222e+00 -2.87928716e-01 -1.83939106e+00 -4.06693746e-03\n",
      "   0.00000000e+00 -6.39209396e-01  1.27109793e+00 -7.66638682e-01\n",
      "  -9.68365912e-01 -1.06022400e-02  6.20550217e-01  0.00000000e+00\n",
      "  -7.60061904e-05 -1.26420806e+00 -1.48491466e+00 -1.39327158e+00\n",
      "  -6.27166341e-01  1.15295029e+00 -1.53144630e-01 -2.17685294e-03\n",
      "  -3.22657791e-05  2.74710947e-02 -1.36786291e-01 -6.83344275e-01\n",
      "  -1.85907622e-01 -3.69687430e-01 -1.08245499e+00 -3.90705406e-02\n",
      "  -6.21563206e-05  6.13275432e-01  2.61527785e+00  1.83760841e+00\n",
      "  -2.62616155e-01 -4.69021390e-01 -1.44260450e+00 -2.00695990e-01]\n",
      " [ 0.00000000e+00 -2.17904168e-01 -1.24897809e+00 -6.75470690e-01\n",
      "  -2.03994269e-01 -1.79664906e+00 -2.30149051e-01 -2.88940554e-04\n",
      "  -1.19107916e-03 -1.24208356e+00 -7.56108770e-01 -1.83278227e-01\n",
      "  -2.11176942e+00 -1.79438378e+00 -1.63738092e-01 -2.27444232e-03\n",
      "  -6.01615877e-06 -9.99247030e-01  8.87550541e-01  6.57747779e-01\n",
      "  -2.12557293e+00 -3.69054637e+00 -3.58072705e-01 -7.36973315e-03\n",
      "  -8.18230770e-03  8.12535924e-01  2.29301228e-01  6.36217952e-01\n",
      "  -2.23040218e-02  6.92293006e-03 -1.36749894e+00 -1.13190441e-02\n",
      "   0.00000000e+00  1.44333321e+00  1.25289127e+00  9.69765779e-01\n",
      "   1.73516743e-01 -1.76943959e-01  7.66867307e-01  0.00000000e+00\n",
      "  -4.77707249e-02 -3.50105519e-01  3.62466857e+00  9.38424927e-01\n",
      "   5.60947078e-01  2.12634692e-01  1.74618957e+00  6.99009492e-02\n",
      "  -9.43604707e-03 -8.44334917e-01  1.11810289e+00  5.85314752e-01\n",
      "  -9.08443871e-01  1.88178565e+00  1.03066775e+00 -1.02807871e+00\n",
      "  -2.64832124e-05 -2.12554731e-01 -1.38810516e+00 -7.33306487e-01\n",
      "   3.50298494e-02  1.83611001e+00  2.99170987e-02 -6.82494925e-01]\n",
      " [ 0.00000000e+00  4.51202028e-01  5.50060901e-01  4.85605596e-01\n",
      "   8.90272026e-01  5.55515041e-01  1.69566700e+00  6.63492797e-01\n",
      "  -1.38482420e-03  6.64122529e-01  5.61181733e-01  7.66461858e-01\n",
      "   2.30941866e+00 -1.06143153e-01  2.49198110e-01  5.78335716e-01\n",
      "  -1.30361600e-04 -1.12378081e+00 -2.40999719e+00 -1.29524487e+00\n",
      "   7.10984752e-02  1.23782282e+00  1.07878751e+00  1.51206484e-01\n",
      "  -4.27062718e-03 -1.34051759e+00 -2.04944253e-01 -2.23868601e+00\n",
      "   4.95816602e-02  1.09962158e+00  1.29361017e+00 -2.40083072e-02\n",
      "   0.00000000e+00  6.40868346e-01  2.21001031e-01 -3.63724246e-01\n",
      "   1.12027675e+00  1.60145832e+00  1.50892405e+00  0.00000000e+00\n",
      "  -4.02567348e-04 -5.83154200e-02  2.30824123e-01  8.93630273e-01\n",
      "   5.91098842e-01  1.00622534e-01 -9.43604597e-02 -5.50048181e-04\n",
      "  -2.60689179e-03 -4.46657234e-01 -3.18595287e-01  6.72314231e-01\n",
      "  -1.94305303e+00 -3.28486165e+00 -9.71796628e-01 -1.17181681e-02\n",
      "  -6.26320022e-03  1.76757537e-02  8.69297039e-02 -1.78396626e+00\n",
      "  -2.15863803e+00 -2.52198065e+00 -7.55080423e-01 -4.31712262e-02]\n",
      " [ 0.00000000e+00 -1.00920740e+00  4.18707964e-01 -7.16487267e-01\n",
      "  -2.96229382e-01 -4.67593961e-02 -1.65255422e+00 -5.00558400e-02\n",
      "   3.00912503e-01 -7.16683110e-01  4.31625928e-01 -5.77134333e-01\n",
      "  -1.19538719e+00  1.70571583e+00  8.74964200e-01 -6.93561729e-02\n",
      "  -2.82658230e-04  7.74714802e-01  1.56616823e+00  1.65711089e-01\n",
      "  -2.66528335e-02  1.53632124e+00  8.16780733e-01 -5.09474070e-02\n",
      "  -8.85830956e-03 -6.11827495e-01 -5.91445652e-01  2.67682777e+00\n",
      "  -6.54723302e-01 -9.56742149e-02 -1.30036795e-01 -5.09799815e-03\n",
      "   0.00000000e+00 -3.78541007e-01 -1.48391013e-01  1.87716858e+00\n",
      "   1.01303910e+00 -2.26096513e+00 -3.04284928e+00  0.00000000e+00\n",
      "  -2.49587818e-04 -9.82616127e-02  1.45224476e+00  1.55838922e+00\n",
      "   1.06208242e+00  9.96752691e-01  2.74489827e-01 -3.29886824e-02\n",
      "  -3.36078135e-02  8.02181112e-01  1.39720961e+00 -2.55790350e+00\n",
      "  -2.39260372e+00  9.01179521e-01  7.95051109e-01 -1.50608067e-01\n",
      "  -8.94822349e-02 -1.94714913e-01 -2.48848690e+00  3.40569704e-01\n",
      "   2.11516151e+00 -2.40201690e-01 -1.21060929e+00 -5.09879921e-01]\n",
      " [ 0.00000000e+00 -1.09702610e+00 -4.15560569e-01  2.28595306e+00\n",
      "   4.59982599e-01 -1.46228709e-01  1.30150849e-01  9.03725094e-02\n",
      "  -5.73065856e-02  1.18067321e+00  1.03384409e+00  1.01866490e+00\n",
      "  -6.91679280e-01  5.57835738e-01  1.17738910e+00 -1.30023040e-01\n",
      "  -8.58739370e-03  3.74724791e-01  7.39110838e-01  8.36036090e-01\n",
      "   1.68781379e+00  4.75444503e+00  3.55698458e-01 -2.96459470e-01\n",
      "  -1.79594436e-04  9.58457362e-01  1.51296905e+00  3.27422624e+00\n",
      "   1.24532790e+00  1.94273004e+00  1.58377468e-01 -1.54165293e-01\n",
      "   0.00000000e+00 -2.07757027e+00 -1.04244647e+00  1.54218359e+00\n",
      "  -1.33578820e+00  3.32666777e-02 -5.17658318e-01  0.00000000e+00\n",
      "  -9.99047141e-06 -2.41095449e-01 -3.73953929e+00 -5.82799754e+00\n",
      "  -2.40323496e+00 -1.54744637e+00 -1.15914376e+00 -1.71047309e-04\n",
      "  -1.15822031e-05  4.34762196e-01 -7.86555585e-01 -1.12260795e+00\n",
      "  -1.07989430e+00 -1.10876689e+00 -1.74540298e-01  1.70074657e-01\n",
      "  -1.02575309e-05 -1.02939151e+00  4.24877584e-01  8.07363850e-01\n",
      "   8.68549459e-01  1.00444358e-01  1.49323740e-01 -8.91575034e-02]]\n"
     ]
    }
   ],
   "source": [
    "print(\"Logistic regression coefficients:\\n{}\".format(\n",
    "      grid.best_estimator_.named_steps[\"logisticregression\"].coef_))"
   ]
  },
  {
   "cell_type": "markdown",
   "metadata": {},
   "source": [
    "Besides this is possible to call the grid-search as any other classifier to make predictions."
   ]
  },
  {
   "cell_type": "code",
   "execution_count": 35,
   "metadata": {
    "scrolled": true
   },
   "outputs": [
    {
     "name": "stdout",
     "output_type": "stream",
     "text": [
      "Accuracy score of the GridSearchCV is 0.964\n"
     ]
    }
   ],
   "source": [
    "accuracy = grid.score(X_test, y_test)\n",
    "print('Accuracy score of the {} is {:.3f}'.format(grid.__class__.__name__, accuracy))"
   ]
  },
  {
   "cell_type": "markdown",
   "metadata": {},
   "source": [
    "Up to know, we only make the fitting of the grid-search on a single split. However, as previously stated, we might be interested to make an outer cross-validation to estimate the performance of the model and different sample of data and check the potential variation in performance. Since grid-search is an estimator, we can use it directly within the `cross_validate` function. "
   ]
  },
  {
   "cell_type": "code",
   "execution_count": 36,
   "metadata": {
    "scrolled": false
   },
   "outputs": [
    {
     "data": {
      "text/html": [
       "<div>\n",
       "<style scoped>\n",
       "    .dataframe tbody tr th:only-of-type {\n",
       "        vertical-align: middle;\n",
       "    }\n",
       "\n",
       "    .dataframe tbody tr th {\n",
       "        vertical-align: top;\n",
       "    }\n",
       "\n",
       "    .dataframe thead th {\n",
       "        text-align: right;\n",
       "    }\n",
       "</style>\n",
       "<table border=\"1\" class=\"dataframe\">\n",
       "  <thead>\n",
       "    <tr style=\"text-align: right;\">\n",
       "      <th></th>\n",
       "      <th>fit_time</th>\n",
       "      <th>score_time</th>\n",
       "      <th>test_score</th>\n",
       "      <th>train_score</th>\n",
       "    </tr>\n",
       "  </thead>\n",
       "  <tbody>\n",
       "    <tr>\n",
       "      <th>0</th>\n",
       "      <td>50.886</td>\n",
       "      <td>9.980e-04</td>\n",
       "      <td>0.929</td>\n",
       "      <td>0.986</td>\n",
       "    </tr>\n",
       "    <tr>\n",
       "      <th>1</th>\n",
       "      <td>51.643</td>\n",
       "      <td>0.000e+00</td>\n",
       "      <td>0.947</td>\n",
       "      <td>0.997</td>\n",
       "    </tr>\n",
       "    <tr>\n",
       "      <th>2</th>\n",
       "      <td>50.104</td>\n",
       "      <td>1.000e-03</td>\n",
       "      <td>0.924</td>\n",
       "      <td>0.993</td>\n",
       "    </tr>\n",
       "  </tbody>\n",
       "</table>\n",
       "</div>"
      ],
      "text/plain": [
       "   fit_time  score_time  test_score  train_score\n",
       "0    50.886   9.980e-04       0.929        0.986\n",
       "1    51.643   0.000e+00       0.947        0.997\n",
       "2    50.104   1.000e-03       0.924        0.993"
      ]
     },
     "execution_count": 36,
     "metadata": {},
     "output_type": "execute_result"
    }
   ],
   "source": [
    "scores = cross_validate(grid, X, y, cv=3, n_jobs=-1, return_train_score=True)\n",
    "df_scores = pd.DataFrame(scores)\n",
    "df_scores"
   ]
  },
  {
   "cell_type": "markdown",
   "metadata": {},
   "source": [
    "## 5. Summary: my scikit-learn pipeline in less than 10 lines of code (skipping the import statements)"
   ]
  },
  {
   "cell_type": "code",
   "execution_count": 37,
   "metadata": {
    "scrolled": true
   },
   "outputs": [
    {
     "data": {
      "text/plain": [
       "<matplotlib.axes._subplots.AxesSubplot at 0x1c58776c0f0>"
      ]
     },
     "execution_count": 37,
     "metadata": {},
     "output_type": "execute_result"
    },
    {
     "data": {
      "image/png": "[encoded data removed]",
      "text/plain": [
       "<Figure size 432x288 with 1 Axes>"
      ]
     },
     "metadata": {
      "needs_background": "light"
     },
     "output_type": "display_data"
    }
   ],
   "source": [
    "import pandas as pd\n",
    "from sklearn.preprocessing import MinMaxScaler\n",
    "from sklearn.linear_model import LogisticRegression\n",
    "from sklearn.pipeline import make_pipeline\n",
    "from sklearn.model_selection import GridSearchCV\n",
    "from sklearn.model_selection import cross_validate\n",
    "\n",
    "pipe = make_pipeline(MinMaxScaler(),\n",
    "                     LogisticRegression(solver='saga', multi_class='auto', random_state=42, max_iter=5000))\n",
    "param_grid = {'logisticregression__C': [0.1, 1.0, 10],\n",
    "              'logisticregression__penalty': ['l2', 'l1']}\n",
    "grid = GridSearchCV(pipe, param_grid=param_grid, cv=3, n_jobs=-1)\n",
    "scores = pd.DataFrame(cross_validate(grid, X, y, cv=3, n_jobs=-1, return_train_score=True))\n",
    "scores[['train_score', 'test_score']].boxplot()"
   ]
  }
 ],
 "metadata": {
  "kernelspec": {
   "display_name": "Python 3",
   "language": "python",
   "name": "python3"
  },
  "language_info": {
   "codemirror_mode": {
    "name": "ipython",
    "version": 3
   },
   "file_extension": ".py",
   "mimetype": "text/x-python",
   "name": "python",
   "nbconvert_exporter": "python",
   "pygments_lexer": "ipython3",
   "version": "3.7.6"
  }
 },
 "nbformat": 4,
 "nbformat_minor": 2
}
